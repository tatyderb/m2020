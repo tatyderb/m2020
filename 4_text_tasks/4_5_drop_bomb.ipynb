{
 "cells": [
  {
   "cell_type": "code",
   "execution_count": 152,
   "metadata": {},
   "outputs": [],
   "source": [
    "from sympy import *\n",
    "init_printing()"
   ]
  },
  {
   "cell_type": "markdown",
   "metadata": {},
   "source": [
    "# Бомбометание без сопротивления воздуха"
   ]
  },
  {
   "cell_type": "markdown",
   "metadata": {},
   "source": [
    "Пусть бомба отделяется от самолета, летящего горизонтально со скоростью $V$ на выстоте $H$. Вывести уравнение движения бомбы. Сопротивлением воздуха пренебречь.\n",
    "\n",
    "Через какое время T упадет бомба? На каком расстоянии S от места выпуска?\n",
    "\n",
    "Принять $g = 9.81 м/c^2$\n",
    "\n",
    "![](http://adminland.ru/crimea/books/sh_hb/pict/r33.gif)\n",
    "\n",
    "Нарисовать траекторию падения бомбы, сброшенной на высоте 1000 м со скоростью 30 м/с."
   ]
  },
  {
   "cell_type": "markdown",
   "metadata": {},
   "source": [
    "Если пренебречь сопротивлением воздуха (силой трения), то на бомбу массой m действует только сила тяжести, направленная вертикально вниз.\n",
    "\n",
    "t - время в секундах - независимая переменная.\n",
    "\n",
    "x(t) и y(t) - функции координаты бомбы от времени.\n",
    "\n",
    "Скорость бомбы $$\\vec{v} = \\vec{v_x} + \\vec{v_y}$$\n",
    "\n",
    "Скорость - это производная изменения координат:\n",
    "\n",
    "$$v_x = x'(t) \\\\ v_y = y'(t)$$\n",
    "\n",
    "Ускорение - это производная скорости. Силы с горизонтальной составляющей нет, вертикально действует сила тяжести, направлена вертикально вниз.\n",
    "\n",
    "$$0 = mx''(t) \\\\ -mg = my''(t)$$\n",
    "\n",
    "Масса бомбы сократится. Получим систему дифференциальных уравнений\n",
    "$$0 = x''(t) \\\\ -g = y''(t)$$\n",
    "\n",
    "Граничные условия решения этой системы определяем из начального (t=0) положения:\n",
    "\n",
    "* Бомба отделяется от самолета, летящего горизонтально со скоростью $V$ $$x'(0) = V \\\\ y'(0) = 0$$\n",
    "* Самолет при этом находится на высоте $H$ при x=0. $$x(0) = 0 \\\\ y(0) = H$$\n"
   ]
  },
  {
   "cell_type": "code",
   "execution_count": 153,
   "metadata": {},
   "outputs": [],
   "source": [
    "# Определим константы. Пока это символы\n",
    "V = symbols('V', positive=True)    # скорость самолета\n",
    "H = symbols('H', positive=True)    # высота самолета\n",
    "g = symbols('g', positive=True)    # ускорение свободного падения\n",
    "g_terra = 9.81"
   ]
  },
  {
   "cell_type": "code",
   "execution_count": 154,
   "metadata": {},
   "outputs": [],
   "source": [
    "# определим независимую переменную и искомые фукнции\n",
    "t = symbols('t', positive=True)\n",
    "x = Function('x')(t)\n",
    "y = Function('y')(t)"
   ]
  },
  {
   "cell_type": "markdown",
   "metadata": {},
   "source": [
    "Запишем полученные дифференциальные уравнения. Заметим, что они не зависят друг от друга. Значит, это не система и решать их можно отдельно.\n",
    "\n",
    "Решим уравнение по оси Х: $x''(t) = 0$ при $x(0) = 0$ и $x'(0) = V$"
   ]
  },
  {
   "cell_type": "code",
   "execution_count": 155,
   "metadata": {},
   "outputs": [
    {
     "data": {
      "image/png": "[encoded data removed]",
      "text/latex": [
       "$\\displaystyle \\frac{d^{2}}{d t^{2}} x{\\left(t \\right)} = 0$"
      ],
      "text/plain": [
       "  2          \n",
       " d           \n",
       "───(x(t)) = 0\n",
       "  2          \n",
       "dt           "
      ]
     },
     "execution_count": 155,
     "metadata": {},
     "output_type": "execute_result"
    }
   ],
   "source": [
    "eq1 = Eq(diff(x, t, 2), 0)\n",
    "eq1"
   ]
  },
  {
   "cell_type": "code",
   "execution_count": 156,
   "metadata": {},
   "outputs": [
    {
     "data": {
      "image/png": "[encoded data removed]",
      "text/latex": [
       "$\\displaystyle x{\\left(t \\right)} = C_{1} + C_{2} t$"
      ],
      "text/plain": [
       "x(t) = C₁ + C₂⋅t"
      ]
     },
     "execution_count": 156,
     "metadata": {},
     "output_type": "execute_result"
    }
   ],
   "source": [
    "xdsol = dsolve(eq1)\n",
    "xdsol"
   ]
  },
  {
   "cell_type": "markdown",
   "metadata": {},
   "source": [
    "Запишем праву часть в виде выражения xfunc"
   ]
  },
  {
   "cell_type": "code",
   "execution_count": 157,
   "metadata": {},
   "outputs": [
    {
     "data": {
      "image/png": "[encoded data removed]",
      "text/latex": [
       "$\\displaystyle C_{1} + C_{2} t$"
      ],
      "text/plain": [
       "C₁ + C₂⋅t"
      ]
     },
     "execution_count": 157,
     "metadata": {},
     "output_type": "execute_result"
    }
   ],
   "source": [
    "xfunc = xdsol.rhs\n",
    "xfunc"
   ]
  },
  {
   "cell_type": "markdown",
   "metadata": {},
   "source": [
    "Ее производную обозначим dx"
   ]
  },
  {
   "cell_type": "code",
   "execution_count": 158,
   "metadata": {},
   "outputs": [
    {
     "data": {
      "image/png": "[encoded data removed]",
      "text/latex": [
       "$\\displaystyle C_{2}$"
      ],
      "text/plain": [
       "C₂"
      ]
     },
     "execution_count": 158,
     "metadata": {},
     "output_type": "execute_result"
    }
   ],
   "source": [
    "dx = xfunc.diff(t)\n",
    "dx"
   ]
  },
  {
   "cell_type": "markdown",
   "metadata": {},
   "source": [
    "Запишем граничные условия. Они образуют систему уравнений."
   ]
  },
  {
   "cell_type": "code",
   "execution_count": 177,
   "metadata": {},
   "outputs": [
    {
     "data": {
      "image/png": "[encoded data removed]",
      "text/latex": [
       "$\\displaystyle \\left[ C_{1} = 0, \\  C_{2} = V\\right]$"
      ],
      "text/plain": [
       "[C₁ = 0, C₂ = V]"
      ]
     },
     "execution_count": 177,
     "metadata": {},
     "output_type": "execute_result"
    }
   ],
   "source": [
    "xconst_sys = [Eq(xfunc.subs({t:0}), 0), Eq(dx.subs({t:0}), V)]\n",
    "xconst_sys"
   ]
  },
  {
   "cell_type": "markdown",
   "metadata": {},
   "source": [
    "Мы уже видим решение, но формально это все еще система уравнений, которую нужно решать. Решим ее и получим подстановки для $C_1$ и $C_2$"
   ]
  },
  {
   "cell_type": "code",
   "execution_count": 178,
   "metadata": {},
   "outputs": [
    {
     "data": {
      "image/png": "[encoded data removed]",
      "text/latex": [
       "$\\displaystyle \\left\\{ C_{1} : 0, \\  C_{2} : V\\right\\}$"
      ],
      "text/plain": [
       "{C₁: 0, C₂: V}"
      ]
     },
     "execution_count": 178,
     "metadata": {},
     "output_type": "execute_result"
    }
   ],
   "source": [
    "xconst = solve(xconst_sys)  # это обычное уравнение, поэтому solve\n",
    "xconst"
   ]
  },
  {
   "cell_type": "markdown",
   "metadata": {},
   "source": [
    "Подставим найденные константы в xfunc"
   ]
  },
  {
   "cell_type": "code",
   "execution_count": 179,
   "metadata": {},
   "outputs": [
    {
     "data": {
      "image/png": "[encoded data removed]",
      "text/latex": [
       "$\\displaystyle V t$"
      ],
      "text/plain": [
       "V⋅t"
      ]
     },
     "execution_count": 179,
     "metadata": {},
     "output_type": "execute_result"
    }
   ],
   "source": [
    "xsol = xfunc.subs(xconst)\n",
    "xsol"
   ]
  },
  {
   "cell_type": "markdown",
   "metadata": {},
   "source": [
    "Аналогично решим дифференциальное уравнение по y $y''(t) = -g$ при $y(0) = H$ и $y'(0) = 0$ "
   ]
  },
  {
   "cell_type": "code",
   "execution_count": 180,
   "metadata": {},
   "outputs": [
    {
     "data": {
      "image/png": "[encoded data removed]",
      "text/latex": [
       "$\\displaystyle \\frac{d^{2}}{d t^{2}} y{\\left(t \\right)} = - g$"
      ],
      "text/plain": [
       "  2           \n",
       " d            \n",
       "───(y(t)) = -g\n",
       "  2           \n",
       "dt            "
      ]
     },
     "execution_count": 180,
     "metadata": {},
     "output_type": "execute_result"
    }
   ],
   "source": [
    "eq2 = Eq(diff(y, t, 2), -g)\n",
    "eq2"
   ]
  },
  {
   "cell_type": "code",
   "execution_count": 181,
   "metadata": {},
   "outputs": [
    {
     "data": {
      "image/png": "[encoded data removed]",
      "text/latex": [
       "$\\displaystyle y{\\left(t \\right)} = C_{1} + C_{2} t - \\frac{g t^{2}}{2}$"
      ],
      "text/plain": [
       "                      2\n",
       "                   g⋅t \n",
       "y(t) = C₁ + C₂⋅t - ────\n",
       "                    2  "
      ]
     },
     "execution_count": 181,
     "metadata": {},
     "output_type": "execute_result"
    }
   ],
   "source": [
    "ydsol = dsolve(eq2)\n",
    "ydsol"
   ]
  },
  {
   "cell_type": "markdown",
   "metadata": {},
   "source": [
    "Заметим, что это совершенно другие константы, чем в уравнении по х. Хотя программа их назвала так же: $C_1$ и $C_2$"
   ]
  },
  {
   "cell_type": "code",
   "execution_count": 182,
   "metadata": {
    "scrolled": true
   },
   "outputs": [
    {
     "data": {
      "image/png": "[encoded data removed]",
      "text/latex": [
       "$\\displaystyle C_{1} + C_{2} t - \\frac{g t^{2}}{2}$"
      ],
      "text/plain": [
       "               2\n",
       "            g⋅t \n",
       "C₁ + C₂⋅t - ────\n",
       "             2  "
      ]
     },
     "execution_count": 182,
     "metadata": {},
     "output_type": "execute_result"
    }
   ],
   "source": [
    "yfunc = ydsol.rhs\n",
    "yfunc"
   ]
  },
  {
   "cell_type": "code",
   "execution_count": 183,
   "metadata": {},
   "outputs": [
    {
     "data": {
      "image/png": "[encoded data removed]",
      "text/latex": [
       "$\\displaystyle C_{2} - g t$"
      ],
      "text/plain": [
       "C₂ - g⋅t"
      ]
     },
     "execution_count": 183,
     "metadata": {},
     "output_type": "execute_result"
    }
   ],
   "source": [
    "dy = diff(yfunc, t)   # тут обязательно нужно сказать, что берем производную\n",
    "dy"
   ]
  },
  {
   "cell_type": "code",
   "execution_count": 184,
   "metadata": {},
   "outputs": [
    {
     "data": {
      "image/png": "[encoded data removed]",
      "text/latex": [
       "$\\displaystyle \\left[ C_{1} = H, \\  C_{2} = 0\\right]$"
      ],
      "text/plain": [
       "[C₁ = H, C₂ = 0]"
      ]
     },
     "execution_count": 184,
     "metadata": {},
     "output_type": "execute_result"
    }
   ],
   "source": [
    "yconst_sys = [Eq(yfunc.subs({t:0}), H), Eq(dy.subs({t:0}), 0)]\n",
    "yconst_sys"
   ]
  },
  {
   "cell_type": "code",
   "execution_count": 185,
   "metadata": {},
   "outputs": [
    {
     "data": {
      "image/png": "[encoded data removed]",
      "text/latex": [
       "$\\displaystyle \\left\\{ C_{1} : H, \\  C_{2} : 0\\right\\}$"
      ],
      "text/plain": [
       "{C₁: H, C₂: 0}"
      ]
     },
     "execution_count": 185,
     "metadata": {},
     "output_type": "execute_result"
    }
   ],
   "source": [
    "yconst = solve(yconst_sys)  # это обычное уравнение, поэтому solve\n",
    "yconst"
   ]
  },
  {
   "cell_type": "code",
   "execution_count": 186,
   "metadata": {},
   "outputs": [
    {
     "data": {
      "image/png": "[encoded data removed]",
      "text/latex": [
       "$\\displaystyle H - \\frac{g t^{2}}{2}$"
      ],
      "text/plain": [
       "       2\n",
       "    g⋅t \n",
       "H - ────\n",
       "     2  "
      ]
     },
     "execution_count": 186,
     "metadata": {},
     "output_type": "execute_result"
    }
   ],
   "source": [
    "ysol = yfunc.subs(yconst)\n",
    "ysol"
   ]
  },
  {
   "cell_type": "markdown",
   "metadata": {},
   "source": [
    "Мы нашли функции x(t) и y(t)"
   ]
  },
  {
   "cell_type": "code",
   "execution_count": 187,
   "metadata": {},
   "outputs": [
    {
     "data": {
      "image/png": "[encoded data removed]",
      "text/latex": [
       "$\\displaystyle V t$"
      ],
      "text/plain": [
       "V⋅t"
      ]
     },
     "execution_count": 187,
     "metadata": {},
     "output_type": "execute_result"
    }
   ],
   "source": [
    "xsol   # x(t)"
   ]
  },
  {
   "cell_type": "code",
   "execution_count": 188,
   "metadata": {},
   "outputs": [
    {
     "data": {
      "image/png": "[encoded data removed]",
      "text/latex": [
       "$\\displaystyle H - \\frac{g t^{2}}{2}$"
      ],
      "text/plain": [
       "       2\n",
       "    g⋅t \n",
       "H - ────\n",
       "     2  "
      ]
     },
     "execution_count": 188,
     "metadata": {},
     "output_type": "execute_result"
    }
   ],
   "source": [
    "ysol  # y(t)"
   ]
  },
  {
   "cell_type": "markdown",
   "metadata": {},
   "source": [
    "Ответим на впрос \"Через какое время Т упадет бомба?\"\n",
    "\n",
    "Бомба упадет, значит $y(T)=0$. Найдем из этого условия время."
   ]
  },
  {
   "cell_type": "code",
   "execution_count": 189,
   "metadata": {},
   "outputs": [
    {
     "data": {
      "image/png": "[encoded data removed]",
      "text/latex": [
       "$\\displaystyle \\left[ \\frac{\\sqrt{2} \\sqrt{H}}{\\sqrt{g}}\\right]$"
      ],
      "text/plain": [
       "⎡√2⋅√H⎤\n",
       "⎢─────⎥\n",
       "⎣  √g ⎦"
      ]
     },
     "execution_count": 189,
     "metadata": {},
     "output_type": "execute_result"
    }
   ],
   "source": [
    "T = solve(ysol, t)\n",
    "T"
   ]
  },
  {
   "cell_type": "markdown",
   "metadata": {},
   "source": [
    "Если мы получили отрицательный ответ $\\displaystyle \\left[ - \\sqrt{2} \\sqrt{\\frac{H}{g}}, \\  \\sqrt{2} \\sqrt{\\frac{H}{g}}\\right]$, то мы не написали правильные предположения о символах.\n",
    "Надо дописать, что `postitive=True` (посмотрите на `symbols` где мы определяли t). Все еще есть отрицательный ответ? sympy ничего не знает о H и g - вдруг это мнимые числа. Допишите предположения и для них."
   ]
  },
  {
   "cell_type": "code",
   "execution_count": 190,
   "metadata": {},
   "outputs": [
    {
     "data": {
      "image/png": "[encoded data removed]",
      "text/latex": [
       "$\\displaystyle \\frac{\\sqrt{2} \\sqrt{H} V}{\\sqrt{g}}$"
      ],
      "text/plain": [
       "√2⋅√H⋅V\n",
       "───────\n",
       "   √g  "
      ]
     },
     "execution_count": 190,
     "metadata": {},
     "output_type": "execute_result"
    }
   ],
   "source": [
    "L = xsol.subs({t:T[0]}) # на каком расстоянии упала бомба\n",
    "L"
   ]
  },
  {
   "cell_type": "markdown",
   "metadata": {},
   "source": [
    "Откопируем ответ (вывод для нашей маленькой научной работы)\n",
    "\n",
    "Ответ: бомба упадет через $\\sqrt{{2H}/{g}}$ секунд в  $\\sqrt{{2H}/{g}}V$ метрах от места выпуска."
   ]
  },
  {
   "cell_type": "markdown",
   "metadata": {},
   "source": [
    "Подставим численные значения H=1000, V=30, g=9.81"
   ]
  },
  {
   "cell_type": "code",
   "execution_count": 191,
   "metadata": {},
   "outputs": [
    {
     "data": {
      "image/png": "[encoded data removed]",
      "text/latex": [
       "$\\displaystyle 14.2784312292706$"
      ],
      "text/plain": [
       "14.2784312292706"
      ]
     },
     "execution_count": 191,
     "metadata": {},
     "output_type": "execute_result"
    }
   ],
   "source": [
    "Hn = 1000\n",
    "Vn = 30\n",
    "gn = 9.81\n",
    "\n",
    "num_subs = {H:Hn, V:Vn, g:gn}\n",
    "\n",
    "Tplot = T[0].subs(num_subs).n()\n",
    "Tplot"
   ]
  },
  {
   "cell_type": "code",
   "execution_count": 192,
   "metadata": {},
   "outputs": [
    {
     "data": {
      "image/png": "[encoded data removed]",
      "text/latex": [
       "$\\displaystyle 30 t$"
      ],
      "text/plain": [
       "30⋅t"
      ]
     },
     "execution_count": 192,
     "metadata": {},
     "output_type": "execute_result"
    }
   ],
   "source": [
    "xn = xsol.subs(num_subs)\n",
    "xn"
   ]
  },
  {
   "cell_type": "code",
   "execution_count": 193,
   "metadata": {},
   "outputs": [
    {
     "data": {
      "image/png": "[encoded data removed]",
      "text/latex": [
       "$\\displaystyle 1000 - 4.905 t^{2}$"
      ],
      "text/plain": [
       "              2\n",
       "1000 - 4.905⋅t "
      ]
     },
     "execution_count": 193,
     "metadata": {},
     "output_type": "execute_result"
    }
   ],
   "source": [
    "yn = ysol.subs(num_subs)\n",
    "yn"
   ]
  },
  {
   "cell_type": "code",
   "execution_count": 195,
   "metadata": {},
   "outputs": [
    {
     "data": {
      "image/png": "[encoded data removed]",
      "text/latex": [
       "$\\displaystyle 428.352936878119$"
      ],
      "text/plain": [
       "428.352936878119"
      ]
     },
     "execution_count": 195,
     "metadata": {},
     "output_type": "execute_result"
    }
   ],
   "source": [
    "Ln = xn.subs({t:Tplot})\n",
    "Ln"
   ]
  },
  {
   "cell_type": "code",
   "execution_count": 194,
   "metadata": {},
   "outputs": [
    {
     "data": {
      "image/png": "[encoded data removed]",
      "text/plain": [
       "<Figure size 432x288 with 1 Axes>"
      ]
     },
     "metadata": {
      "needs_background": "light"
     },
     "output_type": "display_data"
    },
    {
     "data": {
      "text/plain": [
       "<sympy.plotting.plot.Plot at 0x216b2c27d48>"
      ]
     },
     "execution_count": 194,
     "metadata": {},
     "output_type": "execute_result"
    }
   ],
   "source": [
    "plot_parametric(xn, yn, (t, 0, Tplot))"
   ]
  },
  {
   "cell_type": "code",
   "execution_count": null,
   "metadata": {},
   "outputs": [],
   "source": []
  }
 ],
 "metadata": {
  "kernelspec": {
   "display_name": "Python 3",
   "language": "python",
   "name": "python3"
  },
  "language_info": {
   "codemirror_mode": {
    "name": "ipython",
    "version": 3
   },
   "file_extension": ".py",
   "mimetype": "text/x-python",
   "name": "python",
   "nbconvert_exporter": "python",
   "pygments_lexer": "ipython3",
   "version": "3.7.6"
  }
 },
 "nbformat": 4,
 "nbformat_minor": 4
}
