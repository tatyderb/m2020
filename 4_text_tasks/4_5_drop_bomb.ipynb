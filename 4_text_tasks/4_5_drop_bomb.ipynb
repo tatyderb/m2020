{
 "cells": [
  {
   "cell_type": "code",
   "execution_count": 9,
   "metadata": {},
   "outputs": [],
   "source": [
    "from sympy import *\n",
    "init_printing()"
   ]
  },
  {
   "cell_type": "markdown",
   "metadata": {},
   "source": [
    "# Бомбометание без сопротивления воздуха"
   ]
  },
  {
   "cell_type": "markdown",
   "metadata": {},
   "source": [
    "Пусть бомба отделяется от самолета, летящего горизонтально со скоростью $V$ на выстоте $H$. Вывести уравнение движения бомбы. Сопротивлением воздуха пренебречь.\n",
    "\n",
    "Через какое время T упадет бомба? На каком расстоянии S от места выпуска?\n",
    "\n",
    "Принять $g = 9.81 м/c^2$\n",
    "\n",
    "![](http://adminland.ru/crimea/books/sh_hb/pict/r33.gif)"
   ]
  },
  {
   "cell_type": "markdown",
   "metadata": {},
   "source": [
    "Если пренебречь сопротивлением воздуха (силой трения), то на бомбу массой m действует только сила тяжести, направленная вертикально вниз.\n",
    "\n",
    "t - время в секундах - независимая переменная.\n",
    "\n",
    "x(t) и y(t) - функции координаты бомбы от времени.\n",
    "\n",
    "Скорость бомбы $$\\vec{v} = \\vec{v_x} + \\vec{v_y}$$\n",
    "\n",
    "Скорость - это производная изменения координат:\n",
    "\n",
    "$$v_x = x'(t) \\\\ v_y = y'(t)$$\n",
    "\n",
    "Ускорение - это производная скорости. Силы с горизонтальной составляющей нет, вертикально действует сила тяжести, направлена вертикально вниз.\n",
    "\n",
    "$$0 = mx''(t) \\\\ -mg = my''(t)$$\n",
    "\n",
    "Масса бомбы сократится. Получим систему дифференциальных уравнений\n",
    "$$0 = x''(t) \\\\ -g = y''(t)$$\n",
    "\n",
    "Граничные условия решения этой системы определяем из начального (t=0) положения:\n",
    "\n",
    "* Бомба отделяется от самолета, летящего горизонтально со скоростью $V$ $$x'(0) = V \\\\ y'(0) = 0$$\n",
    "* Самолет при этом находится на высоте $H$  $$y(0) = H$$\n"
   ]
  },
  {
   "cell_type": "code",
   "execution_count": 6,
   "metadata": {},
   "outputs": [],
   "source": [
    "# Определим константы. Пока это символы\n",
    "V = symbols('V')    # скорость самолета\n",
    "H = symbols('H')    # высота самолета\n",
    "g = symbols('g')    # ускорение свободного падения"
   ]
  },
  {
   "cell_type": "code",
   "execution_count": 7,
   "metadata": {},
   "outputs": [],
   "source": [
    "# определим независимую переменную и искомые фукнции\n",
    "t = symbols('t')\n",
    "x = Function('x')(t)\n",
    "y = Function('y')(t)"
   ]
  },
  {
   "cell_type": "code",
   "execution_count": 10,
   "metadata": {},
   "outputs": [
    {
     "data": {
      "image/png": "[encoded data removed]",
      "text/latex": [
       "$\\displaystyle \\left[ \\frac{d^{2}}{d t^{2}} x{\\left(t \\right)} = 0, \\  \\frac{d^{2}}{d t^{2}} y{\\left(t \\right)} = - g\\right]$"
      ],
      "text/plain": [
       "⎡  2              2           ⎤\n",
       "⎢ d              d            ⎥\n",
       "⎢───(x(t)) = 0, ───(y(t)) = -g⎥\n",
       "⎢  2              2           ⎥\n",
       "⎣dt             dt            ⎦"
      ]
     },
     "execution_count": 10,
     "metadata": {},
     "output_type": "execute_result"
    }
   ],
   "source": [
    "# Запишем систему дифференициальных уравнений\n",
    "eq1 = Eq(diff(x, t, 2), 0)\n",
    "eq2 = Eq(diff(y, t, 2), -g)\n",
    "[eq1, eq2]"
   ]
  },
  {
   "cell_type": "code",
   "execution_count": 21,
   "metadata": {},
   "outputs": [
    {
     "data": {
      "image/png": "[encoded data removed]",
      "text/latex": [
       "$\\displaystyle x{\\left(t \\right)} = C_{1} + C_{2} t$"
      ],
      "text/plain": [
       "x(t) = C₁ + C₂⋅t"
      ]
     },
     "execution_count": 21,
     "metadata": {},
     "output_type": "execute_result"
    }
   ],
   "source": [
    "# решим эту систему\n",
    "dsol = dsolve(eq1)\n",
    "dsol"
   ]
  },
  {
   "cell_type": "code",
   "execution_count": 17,
   "metadata": {},
   "outputs": [
    {
     "data": {
      "image/png": "[encoded data removed]",
      "text/latex": [
       "$\\displaystyle y{\\left(t \\right)} = C_{1} + C_{2} t - \\frac{g t^{2}}{2}$"
      ],
      "text/plain": [
       "                      2\n",
       "                   g⋅t \n",
       "y(t) = C₁ + C₂⋅t - ────\n",
       "                    2  "
      ]
     },
     "execution_count": 17,
     "metadata": {},
     "output_type": "execute_result"
    }
   ],
   "source": [
    "dsoly = dsolve(eq2)\n",
    "dsoly"
   ]
  },
  {
   "cell_type": "code",
   "execution_count": null,
   "metadata": {},
   "outputs": [],
   "source": []
  }
 ],
 "metadata": {
  "kernelspec": {
   "display_name": "Python 3",
   "language": "python",
   "name": "python3"
  },
  "language_info": {
   "codemirror_mode": {
    "name": "ipython",
    "version": 3
   },
   "file_extension": ".py",
   "mimetype": "text/x-python",
   "name": "python",
   "nbconvert_exporter": "python",
   "pygments_lexer": "ipython3",
   "version": "3.7.6"
  }
 },
 "nbformat": 4,
 "nbformat_minor": 4
}
