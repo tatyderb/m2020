{
 "cells": [
  {
   "cell_type": "markdown",
   "metadata": {},
   "source": [
    "*Пример*: В сосуд, содержащий 10 л воды, непрерывно поступает со скоростью 2 л в минуту раствор, в каждом литре которого содержится 0.3 кг соли. Поступающий в сосуд раствор перемешивается с водой и смесь вытекает с той же скоростью. Сколько соли будет в растворе через 5 минут?"
   ]
  },
  {
   "cell_type": "code",
   "execution_count": 1,
   "metadata": {},
   "outputs": [],
   "source": [
    "from sympy import *\n",
    "init_printing()"
   ]
  },
  {
   "cell_type": "markdown",
   "metadata": {},
   "source": [
    "Запишем константы\n",
    "\n",
    "* $V = 10$ - объем сосуда в литрах\n",
    "* $v = 2$ - скорость поступления воды в литрах в минуту\n",
    "* $s_0 = 0.3$ - кг соли в 1 литре воды в поступающем растворе\n",
    "* $T_{end} = 5$ - минут, через это время измеряем новую концентрацию соли"
   ]
  },
  {
   "cell_type": "code",
   "execution_count": 2,
   "metadata": {},
   "outputs": [],
   "source": [
    "V = 10 # литров - объем сосуда\n",
    "v = 2  # литров в минуту - вливается в сосуд и выливается из него\n",
    "s0 = 0.3 # кг соли в 1 литре - концентрация вливаемого раствора\n",
    "Tend = 5 # минут - время, когда нужно узнать концентрацию"
   ]
  },
  {
   "cell_type": "markdown",
   "metadata": {},
   "source": [
    "За независимую переменную выберем $t$ - время в минутах\n",
    "\n",
    "Определим функцию как $y(t)$ - сколько кг соли будет в сосуде через время $t$"
   ]
  },
  {
   "cell_type": "markdown",
   "metadata": {},
   "source": [
    "За время $dt$ минут (очень маленькое) в сосуд влилось $v \\cdot dt$ литров раствора концентрации $s_0$ и вылилось тоже $v \\cdot dt$ литров раствора, но концентрации $y(t)$. Запишем сколько влилось и вылилось при этом **соли** в килограммах:\n",
    "\n",
    "* влилось соли:  $$v \\cdot s_0 \\cdot dt$$\n",
    "* вылилось соли (считая, что dt такое малое, что концентрация y(t) почти не изменилась, ее изменением можно пренебречь):\n",
    "$$v \\cdot y(t) \\cdot dt$$\n",
    "\n",
    "то есть изменение соли $dy$ это разница между тем, сколько влилось и сколько вылилось\n",
    "$$dy = v \\cdot s_0 \\cdot dt - v \\cdot y(t) \\cdot dt$$\n",
    "разделим на $dt$ правую и левую часть уравнения и устремим $dt$ к 0\n",
    "$$\\frac{dy}{dt} = v \\cdot s_0 - v \\cdot y(t)$$\n",
    "\n",
    "При этом в начале t=0 в сосуде была вода (соли совсем не было, то есть 0 кг). Получим начальное условие  $$y(0) = 0$$\n",
    "\n",
    "Решим полученное дифференициальное уравнение с граничными условиями:"
   ]
  },
  {
   "cell_type": "code",
   "execution_count": 3,
   "metadata": {},
   "outputs": [],
   "source": [
    "# объявим переменные и функцию\n",
    "t = symbols(\"t\")\n",
    "y = Function('y')(t)"
   ]
  },
  {
   "cell_type": "code",
   "execution_count": 4,
   "metadata": {},
   "outputs": [
    {
     "data": {
      "image/png": "[encoded data removed]",
      "text/latex": [
       "$\\displaystyle \\frac{d}{d t} y{\\left(t \\right)} = 0.6 - 2 y{\\left(t \\right)}$"
      ],
      "text/plain": [
       "d                      \n",
       "──(y(t)) = 0.6 - 2⋅y(t)\n",
       "dt                     "
      ]
     },
     "execution_count": 4,
     "metadata": {},
     "output_type": "execute_result"
    }
   ],
   "source": [
    "# запишем составленное по задаче дифференциальное уравнение \n",
    "eq = Eq(y.diff(), v*s0 - v*y)\n",
    "eq"
   ]
  },
  {
   "cell_type": "code",
   "execution_count": 5,
   "metadata": {},
   "outputs": [
    {
     "data": {
      "image/png": "[encoded data removed]",
      "text/latex": [
       "$\\displaystyle y{\\left(t \\right)} = C_{1} e^{- 2.0 t} + 0.3$"
      ],
      "text/plain": [
       "           -2.0⋅t      \n",
       "y(t) = C₁⋅ℯ       + 0.3"
      ]
     },
     "execution_count": 5,
     "metadata": {},
     "output_type": "execute_result"
    }
   ],
   "source": [
    "# решим дифференциальное уравнение, в решении есть свободная переменная С1\n",
    "sol = dsolve(eq)\n",
    "sol"
   ]
  },
  {
   "cell_type": "code",
   "execution_count": 6,
   "metadata": {},
   "outputs": [
    {
     "data": {
      "image/png": "[encoded data removed]",
      "text/latex": [
       "$\\displaystyle C_{1} e^{- 2.0 t} + 0.3$"
      ],
      "text/plain": [
       "    -2.0⋅t      \n",
       "C₁⋅ℯ       + 0.3"
      ]
     },
     "execution_count": 6,
     "metadata": {},
     "output_type": "execute_result"
    }
   ],
   "source": [
    "# сохраним правую часть решения в отдельном выражении с С1\n",
    "cfunc = sol.rhs\n",
    "cfunc"
   ]
  },
  {
   "cell_type": "code",
   "execution_count": 7,
   "metadata": {},
   "outputs": [
    {
     "data": {
      "image/png": "[encoded data removed]",
      "text/latex": [
       "$\\displaystyle C_{1} + 0.3$"
      ],
      "text/plain": [
       "C₁ + 0.3"
      ]
     },
     "execution_count": 7,
     "metadata": {},
     "output_type": "execute_result"
    }
   ],
   "source": [
    "# граничное условие y(0) = 0, запишем его в виде уравнения, решим его относительно С1\n",
    "# готовимся писать уравнение относительно С1, подставляем t=0\n",
    "cfunc.subs({t:0})"
   ]
  },
  {
   "cell_type": "code",
   "execution_count": 8,
   "metadata": {},
   "outputs": [
    {
     "data": {
      "image/png": "[encoded data removed]",
      "text/latex": [
       "$\\displaystyle C_{1} + 0.3 = 0$"
      ],
      "text/plain": [
       "C₁ + 0.3 = 0"
      ]
     },
     "execution_count": 8,
     "metadata": {},
     "output_type": "execute_result"
    }
   ],
   "source": [
    "# граничное условие y(0) = 0 в виде уравнения:\n",
    "ceq = Eq(cfunc.subs({t:0}), 0)\n",
    "ceq"
   ]
  },
  {
   "cell_type": "code",
   "execution_count": 9,
   "metadata": {},
   "outputs": [
    {
     "data": {
      "image/png": "[encoded data removed]",
      "text/latex": [
       "$\\displaystyle \\left[ \\left\\{ C_{1} : -0.3\\right\\}\\right]$"
      ],
      "text/plain": [
       "[{C₁: -0.3}]"
      ]
     },
     "execution_count": 9,
     "metadata": {},
     "output_type": "execute_result"
    }
   ],
   "source": [
    "# решаем его относительно С1 и просим вернуть решение в виде словаря (будем поставлять далее)\n",
    "csol = solve(ceq, dict=True)\n",
    "csol"
   ]
  },
  {
   "cell_type": "code",
   "execution_count": 10,
   "metadata": {},
   "outputs": [
    {
     "data": {
      "image/png": "[encoded data removed]",
      "text/latex": [
       "$\\displaystyle 0.3 - 0.3 e^{- 2.0 t}$"
      ],
      "text/plain": [
       "           -2.0⋅t\n",
       "0.3 - 0.3⋅ℯ      "
      ]
     },
     "execution_count": 10,
     "metadata": {},
     "output_type": "execute_result"
    }
   ],
   "source": [
    "# подставляем найденное С1 в решение cfunc, сохраняем результат в yres\n",
    "yres = cfunc.subs(csol[0])  # y(t) - решение\n",
    "yres"
   ]
  },
  {
   "cell_type": "code",
   "execution_count": 11,
   "metadata": {},
   "outputs": [
    {
     "data": {
      "image/png": "[encoded data removed]",
      "text/latex": [
       "$\\displaystyle 0.299986380021071$"
      ],
      "text/plain": [
       "0.299986380021071"
      ]
     },
     "execution_count": 11,
     "metadata": {},
     "output_type": "execute_result"
    }
   ],
   "source": [
    "# найдем сколько соли в t=Tend\n",
    "res = yres.subs({t:Tend})\n",
    "res"
   ]
  },
  {
   "cell_type": "code",
   "execution_count": 12,
   "metadata": {},
   "outputs": [
    {
     "data": {
      "image/png": "[encoded data removed]",
      "text/latex": [
       "$\\displaystyle 0.299986380021071$"
      ],
      "text/plain": [
       "0.299986380021071"
      ]
     },
     "execution_count": 12,
     "metadata": {},
     "output_type": "execute_result"
    }
   ],
   "source": [
    "# вычисляем численно\n",
    "res.n()"
   ]
  },
  {
   "cell_type": "code",
   "execution_count": 13,
   "metadata": {},
   "outputs": [
    {
     "data": {
      "image/png": "[encoded data removed]",
      "text/plain": [
       "<Figure size 432x288 with 1 Axes>"
      ]
     },
     "metadata": {
      "needs_background": "light"
     },
     "output_type": "display_data"
    },
    {
     "data": {
      "text/plain": [
       "<sympy.plotting.plot.Plot at 0x14ed6804bc8>"
      ]
     },
     "execution_count": 13,
     "metadata": {},
     "output_type": "execute_result"
    }
   ],
   "source": [
    "# нарисуем график, чтобы понять как меняется концентрация \n",
    "plot(yres, (t, 0, 5))"
   ]
  },
  {
   "cell_type": "code",
   "execution_count": null,
   "metadata": {
    "collapsed": true
   },
   "outputs": [],
   "source": []
  }
 ],
 "metadata": {
  "anaconda-cloud": {},
  "kernelspec": {
   "display_name": "Python 3",
   "language": "python",
   "name": "python3"
  },
  "language_info": {
   "codemirror_mode": {
    "name": "ipython",
    "version": 3
   },
   "file_extension": ".py",
   "mimetype": "text/x-python",
   "name": "python",
   "nbconvert_exporter": "python",
   "pygments_lexer": "ipython3",
   "version": "3.7.6"
  }
 },
 "nbformat": 4,
 "nbformat_minor": 1
}
