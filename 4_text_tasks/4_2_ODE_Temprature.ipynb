{
 "cells": [
  {
   "cell_type": "markdown",
   "metadata": {},
   "source": [
    "# Уравнение охлаждения тела"
   ]
  },
  {
   "cell_type": "markdown",
   "metadata": {},
   "source": [
    "Рассмотрим уравнение охлаждения тела от температуры $Т_0$ при температуре окружающей среды (атмосферы) $Т_a$\n",
    "Скорость изменения температуры тела пропорционально разности температуры тела и окружающей среды (закон Ньютона)\n",
    "$$\\frac{dT(t)}{dt} = -k(T(t)-T_a)$$"
   ]
  },
  {
   "cell_type": "markdown",
   "metadata": {},
   "source": [
    "Нарисуйте график функции остывания жидкости с k=2, при начальной температуре 100 С и температуре окружающей среды 20 С."
   ]
  },
  {
   "cell_type": "markdown",
   "metadata": {},
   "source": [
    "То есть нужно решить уравнение $$\\frac{dT(t)}{dt} = -k(T(t)-T_a)$$ при граничных условиях $T(0) = T_0 = 100$ \n",
    "\n",
    "Значения констант $T_a = 20$ и $k = 2$"
   ]
  },
  {
   "cell_type": "code",
   "execution_count": 1,
   "metadata": {},
   "outputs": [],
   "source": [
    "from sympy import *"
   ]
  },
  {
   "cell_type": "markdown",
   "metadata": {},
   "source": [
    "Запишем константы в виде  переменных (а не символов!)"
   ]
  },
  {
   "cell_type": "code",
   "execution_count": 2,
   "metadata": {},
   "outputs": [],
   "source": [
    "T0 = 100 # C, T(0)\n",
    "Ta = 20  # C, \n",
    "K = 2    "
   ]
  },
  {
   "cell_type": "markdown",
   "metadata": {},
   "source": [
    "t - независимая переменная - время в условных единицах (пусть минут), значит это символ.\n",
    "\n",
    "T(t) - функция температуры тела от времени, C, запишем как функцию от t"
   ]
  },
  {
   "cell_type": "code",
   "execution_count": 3,
   "metadata": {},
   "outputs": [],
   "source": [
    "t = symbols('t')\n",
    "T = Function('T')(t)"
   ]
  },
  {
   "cell_type": "markdown",
   "metadata": {},
   "source": [
    "Запишем дифференциальное уравнение"
   ]
  },
  {
   "cell_type": "code",
   "execution_count": 4,
   "metadata": {},
   "outputs": [
    {
     "data": {
      "text/latex": [
       "$\\displaystyle \\frac{d}{d t} T{\\left(t \\right)} = 40 - 2 T{\\left(t \\right)}$"
      ],
      "text/plain": [
       "Eq(Derivative(T(t), t), 40 - 2*T(t))"
      ]
     },
     "execution_count": 4,
     "metadata": {},
     "output_type": "execute_result"
    }
   ],
   "source": [
    "deq = Eq(T.diff(), -K*(T-Ta))\n",
    "deq"
   ]
  },
  {
   "cell_type": "markdown",
   "metadata": {},
   "source": [
    "Решим дифференциальное уравнение. Заметьте, функция dsolve - решаем дифференциальное уравнение."
   ]
  },
  {
   "cell_type": "code",
   "execution_count": 5,
   "metadata": {},
   "outputs": [
    {
     "data": {
      "text/latex": [
       "$\\displaystyle T{\\left(t \\right)} = C_{1} e^{- 2 t} + 20$"
      ],
      "text/plain": [
       "Eq(T(t), C1*exp(-2*t) + 20)"
      ]
     },
     "execution_count": 5,
     "metadata": {},
     "output_type": "execute_result"
    }
   ],
   "source": [
    "tsol = dsolve(deq)\n",
    "tsol"
   ]
  },
  {
   "cell_type": "markdown",
   "metadata": {},
   "source": [
    "Найдем коэффициент $C_1$ из граничных условий T(0) = T0\n",
    "\n",
    "В правую часть решения подставим граничные условия t=0"
   ]
  },
  {
   "cell_type": "code",
   "execution_count": 10,
   "metadata": {},
   "outputs": [
    {
     "data": {
      "image/png": "[encoded data removed]",
      "text/latex": [
       "$$C_{1} + 20$$"
      ],
      "text/plain": [
       "C₁ + 20"
      ]
     },
     "execution_count": 10,
     "metadata": {},
     "output_type": "execute_result"
    }
   ],
   "source": [
    "tsol.rhs.subs({t:0})"
   ]
  },
  {
   "cell_type": "markdown",
   "metadata": {},
   "source": [
    "Получим обычное (не дифференциальное) уравнение"
   ]
  },
  {
   "cell_type": "code",
   "execution_count": 7,
   "metadata": {},
   "outputs": [
    {
     "data": {
      "text/latex": [
       "$\\displaystyle 100 = C_{1} + 20$"
      ],
      "text/plain": [
       "Eq(100, C1 + 20)"
      ]
     },
     "execution_count": 7,
     "metadata": {},
     "output_type": "execute_result"
    }
   ],
   "source": [
    "ceq = Eq(T0, tsol.rhs.subs({t:0}))\n",
    "ceq"
   ]
  },
  {
   "cell_type": "markdown",
   "metadata": {},
   "source": [
    "Решим его, сразу указывая, что ответ - подстановка"
   ]
  },
  {
   "cell_type": "code",
   "execution_count": 8,
   "metadata": {},
   "outputs": [
    {
     "data": {
      "text/plain": [
       "{C1: 80}"
      ]
     },
     "execution_count": 8,
     "metadata": {},
     "output_type": "execute_result"
    }
   ],
   "source": [
    "csol = solve(ceq, dict=True)[0]\n",
    "csol"
   ]
  },
  {
   "cell_type": "markdown",
   "metadata": {},
   "source": [
    "Подставим константу C1 и получим решение с учетом граничных условий"
   ]
  },
  {
   "cell_type": "code",
   "execution_count": 9,
   "metadata": {},
   "outputs": [
    {
     "data": {
      "text/latex": [
       "$\\displaystyle 20 + 80 e^{- 2 t}$"
      ],
      "text/plain": [
       "20 + 80*exp(-2*t)"
      ]
     },
     "execution_count": 9,
     "metadata": {},
     "output_type": "execute_result"
    }
   ],
   "source": [
    "Tfunc = tsol.rhs.subs(csol)\n",
    "Tfunc"
   ]
  },
  {
   "cell_type": "code",
   "execution_count": 10,
   "metadata": {},
   "outputs": [
    {
     "data": {
      "image/png": "[encoded data removed]",
      "text/plain": [
       "<Figure size 432x288 with 1 Axes>"
      ]
     },
     "metadata": {
      "needs_background": "light"
     },
     "output_type": "display_data"
    },
    {
     "data": {
      "text/plain": [
       "<sympy.plotting.plot.Plot at 0x20f0ec21bc8>"
      ]
     },
     "execution_count": 10,
     "metadata": {},
     "output_type": "execute_result"
    }
   ],
   "source": [
    "plot(Tfunc, (t, 0, 10))"
   ]
  },
  {
   "cell_type": "code",
   "execution_count": null,
   "metadata": {},
   "outputs": [],
   "source": []
  }
 ],
 "metadata": {
  "kernelspec": {
   "display_name": "Python 3",
   "language": "python",
   "name": "python3"
  },
  "language_info": {
   "codemirror_mode": {
    "name": "ipython",
    "version": 3
   },
   "file_extension": ".py",
   "mimetype": "text/x-python",
   "name": "python",
   "nbconvert_exporter": "python",
   "pygments_lexer": "ipython3",
   "version": "3.7.6"
  }
 },
 "nbformat": 4,
 "nbformat_minor": 2
}
