{
 "cells": [
  {
   "cell_type": "markdown",
   "metadata": {},
   "source": [
    "# По экспериментальным данным построить кривые указанного вида"
   ]
  },
  {
   "cell_type": "markdown",
   "metadata": {},
   "source": [
    "Найти по заданным точкам кривые двух видов, оценить отклонение и построить график исходных точек и двух экстраполяционных кривых.\n",
    "\n",
    "Написать какая кривая лучше и почему."
   ]
  },
  {
   "cell_type": "markdown",
   "metadata": {},
   "source": [
    "| Вариант | х | y | Кривая 1 | Кривая 2 |\n",
    "|----|----|----|------|------|\n",
    "| 1 | [x_data.txt](x_data.txt) | [y_data.txt](y_data.txt) | $$b_0 + b_1 \\exp(-b_2 * x^2)$$ | $$kx + c$$ |\n",
    "| 2 | [x_data.txt](x_data.txt) | [y_data.txt](y_data.txt) | $$b_0 + b_1 \\exp(-b_2 * x^2)$$ | $$ax^2 +bx + c$$ |\n",
    "| 3 | [x_data.txt](x_data.txt) | [y_data.txt](y_data.txt) | $$b_0 + b_1 \\exp(-b_2 * x^2)$$ | $$sin(ax + b) + c$$ |\n",
    "| 4 | [x_data.txt](x_data.txt) | [y_data.txt](y_data.txt) | $$b_0 + b_1 \\exp(-b_2 * x^2)$$ | $$ax / (x + b)$$ |\n",
    "| 5 | [x_data.txt](x_data2.txt) | [y_data.txt](y_data2.txt) | $$ax / (x + b)$$ | $$kx + c$$ |\n",
    "| 6 | [x_data.txt](x_data2.txt) | [y_data.txt](y_data2.txt) | $$ax / (x + b)$$ | $$ax^2 +bx + c$$ |\n",
    "| 7 | [x_data.txt](x_data2.txt) | [y_data.txt](y_data2.txt) | $$ax / (x + b)$$ | $$sin(ax + b) + c$$ |\n",
    "| 8 | [x_data.txt](x_data3.txt) | [y_data.txt](y_data3.txt) | $$sin(ax + b) + c$$  | $$kx + c$$ |\n",
    "| 9 | [x_data.txt](x_data3.txt) | [y_data.txt](y_data3.txt) | $$sin(ax + b) + c$$ | $$ax^2 +bx + c$$ |\n",
    "| 10 | [x_data.txt](x_data4.txt) | [y_data.txt](y_data4.txt) | $$a \\exp{ ( -(x - x_0)^2 / {2\\sigma^2} )} $$ | $$kx + c$$ |\n",
    "| 11 | [x_data.txt](x_data4.txt) | [y_data.txt](y_data4.txt) | $$a \\exp{ ( -(x - x_0)^2 / {2\\sigma^2} )} $$ | $$ax^2 +bx + c$$ |\n",
    "| 12 | [x_data.txt](x_data4.txt) | [y_data.txt](y_data4.txt) | $$a \\exp{ ( -(x - x_0)^2 / {2\\sigma^2} )} $$ | $$sin(ax + b) + c$$ |\n"
   ]
  },
  {
   "cell_type": "code",
   "execution_count": null,
   "metadata": {},
   "outputs": [],
   "source": []
  }
 ],
 "metadata": {
  "kernelspec": {
   "display_name": "Python 3",
   "language": "python",
   "name": "python3"
  },
  "language_info": {
   "codemirror_mode": {
    "name": "ipython",
    "version": 3
   },
   "file_extension": ".py",
   "mimetype": "text/x-python",
   "name": "python",
   "nbconvert_exporter": "python",
   "pygments_lexer": "ipython3",
   "version": "3.7.6"
  }
 },
 "nbformat": 4,
 "nbformat_minor": 4
}
