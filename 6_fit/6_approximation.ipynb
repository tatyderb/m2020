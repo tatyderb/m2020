{
 "cells": [
  {
   "cell_type": "markdown",
   "metadata": {},
   "source": [
    "# Построение графика по экспериментальным точкам"
   ]
  },
  {
   "cell_type": "markdown",
   "metadata": {},
   "source": [
    "Пусть у нас мого экспериментальных точек. Очень много. Надо провести через них кривую (например, линию), чтобы она с наименьшим отклонением проходила через набор точек. Она может проходить через некоторые точки (не обязательно) и проходить недалеко от других точек.\n",
    "\n",
    "Почему нельзя при этом интерполировать?\n",
    "\n",
    "* очень много точек, значит интерполяционный полином высокой степени и могут начаться биения,\n",
    "* не нужно проводить сплайны, потому что экспериментальные точки содержат ошибки измерения и нужно провести кривую в пределах погрешностей эксперимента,\n",
    "* пытаемся найти форму зависимости теоретической кривой по экспериментальным данным (это прямая, парабола, экспонента или что-то другое?)"
   ]
  },
  {
   "cell_type": "markdown",
   "metadata": {},
   "source": [
    "## Постановка задачи\n",
    "\n",
    "Даны экспериментальные точки:\n",
    "\n",
    "* значения по горизонтальной оси, будем называть ее Х. Лежат в списке х или в файле `xdata.txt`\n",
    "* значения по вертикальной оси, будем называть ее Y. Лежат в списке у или в файле `ydata.txt`\n",
    "* знаем предполагаемую форму кривой (прямая, парабола, экспонента или другая кривая), но не знаем коэффиценты в функции этой кривой. Эта кривая называется \"апроксимирующей фукнцией\".\n",
    "\n",
    "Коэффициенты этой апроксимирсимирующей функции мы и будем искать так, чтобы отклонение ее от экспериментальных точек было минимальным. Это задача оптимизации и решается с помощью функции **curve_fit** из пакета **scipy.optimize**.\n",
    "\n",
    "Будем искать минимальное квадратичное отклонение. [Почему берем квадратичное отклонение](lsqrt.md) и что это такое."
   ]
  },
  {
   "cell_type": "markdown",
   "metadata": {},
   "source": [
    "## Пример: построение произвольной функции по экспериментальным точкам"
   ]
  },
  {
   "cell_type": "markdown",
   "metadata": {},
   "source": [
    "* читаем данные из файлов `xdata.txt` и `ydata.txt` в переменные x и y.\n",
    "* опеределяем функцию, которая по координате х и коэффициентам b0, b1, b2 .. bn вычисляет значение y. Назовем функцию `f`.\n",
    "* по набору экспериментальных точек х и у и заданной функции f вычисляем коэффициенты b0, b1, .. bn. Задача решена.\n",
    "* рисуем график экспериментальных точек и найденной апроскимирующей функции.\n",
    "\n",
    "Попробуем сначала на простой функции, параболе $x^2$"
   ]
  },
  {
   "cell_type": "markdown",
   "metadata": {},
   "source": [
    "### import\n",
    "\n",
    "Понадобыится curve_fit из пакета scipy.optimize и все для рисования графиков."
   ]
  },
  {
   "cell_type": "code",
   "execution_count": 1,
   "metadata": {},
   "outputs": [],
   "source": [
    "import numpy as np\n",
    "import matplotlib.pyplot as plt"
   ]
  },
  {
   "cell_type": "markdown",
   "metadata": {},
   "source": [
    "### Читаем данные из фалов "
   ]
  },
  {
   "cell_type": "markdown",
   "metadata": {},
   "source": [
    "Сохраните эти данные в файлы в **той же директории, что ваша тетрадь**.\n",
    "\n",
    "В файл `xdata.txt` положите числа. Это будут наши \"эспериментальные данные\".\n",
    "```\n",
    "-4.53349565537\n",
    "-4.09365239181\n",
    "-3.46164907362\n",
    "-2.27536520922\n",
    "-0.799518640116\n",
    "0.258848610464\n",
    "0.678142088827\n",
    "1.67746174919\n",
    "3.33979664705\n",
    "3.87971285728\n",
    "4.61988761783\n",
    "```"
   ]
  },
  {
   "cell_type": "markdown",
   "metadata": {},
   "source": [
    "В файл `ydata.txt` полжите числа\n",
    "```\n",
    "24.9934393435\n",
    "16.0864373629\n",
    "9.35597227962\n",
    "4.40895322612\n",
    "1.05652519476\n",
    "0.0593537295658\n",
    "1.07912259931\n",
    "4.22402583041\n",
    "8.77775630747\n",
    "15.9549972433\n",
    "24.9164389595\n",
    "```"
   ]
  },
  {
   "cell_type": "markdown",
   "metadata": {},
   "source": [
    "Не забудьте сохранить записанные данные (Save)."
   ]
  },
  {
   "cell_type": "code",
   "execution_count": 15,
   "metadata": {},
   "outputs": [],
   "source": [
    "# читаем данные из файлов\n",
    "x = np.fromfile('xdata.txt', np.float64, sep='\\n')\n",
    "y = np.fromfile('ydata.txt', np.float64, sep='\\n')"
   ]
  },
  {
   "cell_type": "markdown",
   "metadata": {},
   "source": [
    "Проверяем, что прочитали правильно."
   ]
  },
  {
   "cell_type": "code",
   "execution_count": 16,
   "metadata": {},
   "outputs": [
    {
     "name": "stdout",
     "output_type": "stream",
     "text": [
      "[-4.53349566 -4.09365239 -3.46164907 -2.27536521 -0.79951864  0.25884861\n",
      "  0.67814209  1.67746175  3.33979665  3.87971286  4.61988762]\n",
      "[24.99343934 16.08643736  9.35597228  4.40895323  1.05652519  0.05935373\n",
      "  1.0791226   4.22402583  8.77775631 15.95499724 24.91643896]\n"
     ]
    }
   ],
   "source": [
    "print(x)\n",
    "print(y)"
   ]
  },
  {
   "cell_type": "markdown",
   "metadata": {},
   "source": [
    "Проверяем, что количество х и у координат совпадают"
   ]
  },
  {
   "cell_type": "code",
   "execution_count": 17,
   "metadata": {},
   "outputs": [
    {
     "data": {
      "text/plain": [
       "True"
      ]
     },
     "execution_count": 17,
     "metadata": {},
     "output_type": "execute_result"
    }
   ],
   "source": [
    "len(x) == len(y)"
   ]
  },
  {
   "cell_type": "markdown",
   "metadata": {},
   "source": [
    "### Нарисуем график с точками"
   ]
  },
  {
   "cell_type": "code",
   "execution_count": 20,
   "metadata": {},
   "outputs": [
    {
     "data": {
      "image/png": "[encoded data removed]",
      "text/plain": [
       "<Figure size 432x288 with 1 Axes>"
      ]
     },
     "metadata": {
      "needs_background": "light"
     },
     "output_type": "display_data"
    }
   ],
   "source": [
    "fig, ax = plt.subplots()\n",
    "ax.scatter(x, y, label='Experimental')\n",
    "ax.legend()\n",
    "plt.show()"
   ]
  },
  {
   "cell_type": "markdown",
   "metadata": {},
   "source": [
    "### Определим вид функции f(x, коэффициенты)"
   ]
  },
  {
   "cell_type": "markdown",
   "metadata": {},
   "source": [
    "График точек похож на график параболы. Значит будем искать параболу $b_0 + b_1 x + b_2 x^2$"
   ]
  },
  {
   "cell_type": "code",
   "execution_count": 21,
   "metadata": {},
   "outputs": [],
   "source": [
    "# какой функцией будем апроксимировать\n",
    "def f(x, b0, b1, b2):\n",
    "    return b0 + b1 * x + b2 * x**2"
   ]
  },
  {
   "cell_type": "markdown",
   "metadata": {},
   "source": [
    "### Найдем коэффициенты этой функции"
   ]
  },
  {
   "cell_type": "code",
   "execution_count": 22,
   "metadata": {},
   "outputs": [
    {
     "data": {
      "text/plain": [
       "array([-0.49958624,  0.08708628,  1.0987697 ])"
      ]
     },
     "execution_count": 22,
     "metadata": {},
     "output_type": "execute_result"
    }
   ],
   "source": [
    "from scipy.optimize import curve_fit\n",
    "beta_opt, beta_cov = curve_fit(f, x, y)\n",
    "beta_opt"
   ]
  },
  {
   "cell_type": "code",
   "execution_count": 24,
   "metadata": {},
   "outputs": [
    {
     "name": "stdout",
     "output_type": "stream",
     "text": [
      "b0=-0.4995862379309357\n",
      "b1=0.08708627582393469\n",
      "b2=1.098769698634771\n"
     ]
    }
   ],
   "source": [
    "b0, b1, b2 = beta_opt\n",
    "print(f'b0={b0}')\n",
    "print(f'b1={b1}')\n",
    "print(f'b2={b2}')"
   ]
  },
  {
   "cell_type": "markdown",
   "metadata": {},
   "source": [
    "К графику точек добавим график найденной параболы"
   ]
  },
  {
   "cell_type": "code",
   "execution_count": 28,
   "metadata": {},
   "outputs": [
    {
     "data": {
      "image/png": "[encoded data removed]",
      "text/plain": [
       "<Figure size 432x288 with 1 Axes>"
      ]
     },
     "metadata": {
      "needs_background": "light"
     },
     "output_type": "display_data"
    }
   ],
   "source": [
    "xx = np.linspace(min(x), max(x), 20)   # это х координаты точек для рисования графика, 20 штук\n",
    "y_lsq = f(xx, b0, b1, b2)              # это y координаты точек для рисования графика, \n",
    "\n",
    "fig, ax = plt.subplots()\n",
    "ax.scatter(x, y, label='Experimental')\n",
    "ax.plot(xx, y_lsq, 'g-', label='fit')\n",
    "\n",
    "ax.legend()\n",
    "plt.show()"
   ]
  },
  {
   "cell_type": "markdown",
   "metadata": {},
   "source": [
    "На самом деле \"экспериментальные\" точки получены из функции $x^2$ (в конце этой тетради написано как мы получили точки). Нарисуем и теоретическую кривую. Посмотрим как далеко отошла полученная парабола от начальной \"чистой\" параболы."
   ]
  },
  {
   "cell_type": "code",
   "execution_count": 30,
   "metadata": {},
   "outputs": [
    {
     "data": {
      "image/png": "[encoded data removed]",
      "text/plain": [
       "<Figure size 432x288 with 1 Axes>"
      ]
     },
     "metadata": {
      "needs_background": "light"
     },
     "output_type": "display_data"
    }
   ],
   "source": [
    "xx = np.linspace(min(x), max(x), 20)   # это х координаты точек для рисования графика, 20 штук\n",
    "y_lsq = f(xx, b0, b1, b2)              # это y координаты точек для рисования графика, \n",
    "y_theor = xx**2                        # y координаты для рисования теоретической параболы\n",
    "\n",
    "fig, ax = plt.subplots()\n",
    "ax.scatter(x, y, label='Experimental')\n",
    "ax.plot(xx, y_lsq, 'g-', label='fit')\n",
    "ax.plot(xx, y_theor, 'r--', label='теоретическая')\n",
    "\n",
    "ax.legend()\n",
    "plt.show()"
   ]
  },
  {
   "cell_type": "markdown",
   "metadata": {},
   "source": [
    "## Пример 2. scipy.optimize.fit для сложной функции"
   ]
  },
  {
   "cell_type": "markdown",
   "metadata": {},
   "source": [
    "В примере апроксимируем данные функцией вида $$b_0 + b_1 e^{-b_2 * x^2}$$"
   ]
  },
  {
   "cell_type": "code",
   "execution_count": null,
   "metadata": {},
   "outputs": [],
   "source": [
    "import numpy as np                 # для чтения точек\n",
    "import matplotlib.pyplot as plt    # для рисования графикиков\n",
    "from scipy.optimize import fit     # для поиска коэффициентов апроксимирующей фукнции\n",
    "\n",
    "# читаем данные из файла\n",
    "x=fromfile('x1_data.txt', float, sep='\\n')\n",
    "y=fromfile('y1_data.txt', float, sep='\\n')\n",
    "\n",
    "# задаем вид апроксимирующей функции\n",
    "def myfunc(x, b0, b1, b2):\n",
    "    return b0 + b1 * np.exp(-b2 * x**2)\n",
    "\n",
    "# вычисляем коэффициенты функции\n",
    "beta_opt, beta_cov = curve_fit(f, x, y)\n",
    "b0, b1, b2 = beta_opt\n",
    "\n",
    "# рисуем график\n",
    "xx = np.linspace(min(x), max(x), 100)    # берем много точек для рисования красивого графика\n",
    "yy = myfunc(xx)\n",
    "\n",
    "fig, ax = plt.subplots()\n",
    "ax.scatter(x, y, label='Experimental')\n",
    "ax.plot(xx, yy, 'g-', label='fit')\n",
    "ax.legend()\n",
    "plt.show()"
   ]
  },
  {
   "cell_type": "markdown",
   "metadata": {},
   "source": [
    "# по точкам проводим прямую с помощью  np.linalg.lstsq"
   ]
  },
  {
   "cell_type": "code",
   "execution_count": 4,
   "metadata": {},
   "outputs": [
    {
     "data": {
      "text/plain": [
       "array([0, 1, 2, 3])"
      ]
     },
     "execution_count": 4,
     "metadata": {},
     "output_type": "execute_result"
    }
   ],
   "source": [
    "x = np.array([0, 1, 2, 3])\n",
    "x"
   ]
  },
  {
   "cell_type": "code",
   "execution_count": 5,
   "metadata": {},
   "outputs": [
    {
     "data": {
      "text/plain": [
       "array([-1. ,  0.2,  0.9,  2.1])"
      ]
     },
     "execution_count": 5,
     "metadata": {},
     "output_type": "execute_result"
    }
   ],
   "source": [
    "y = np.array([-1, 0.2, 0.9, 2.1])\n",
    "y"
   ]
  },
  {
   "cell_type": "code",
   "execution_count": 6,
   "metadata": {},
   "outputs": [
    {
     "data": {
      "text/plain": [
       "array([[0., 1.],\n",
       "       [1., 1.],\n",
       "       [2., 1.],\n",
       "       [3., 1.]])"
      ]
     },
     "execution_count": 6,
     "metadata": {},
     "output_type": "execute_result"
    }
   ],
   "source": [
    "A = np.vstack([x, np.ones(len(x))]).T\n",
    "A"
   ]
  },
  {
   "cell_type": "code",
   "execution_count": 11,
   "metadata": {},
   "outputs": [
    {
     "name": "stderr",
     "output_type": "stream",
     "text": [
      "/usr/local/lib/python3.6/site-packages/ipykernel_launcher.py:1: FutureWarning: `rcond` parameter will change to the default of machine precision times ``max(M, N)`` where M and N are the input matrix dimensions.\n",
      "To use the future default and silence this warning we advise to pass `rcond=None`, to keep using the old, explicitly pass `rcond=-1`.\n",
      "  \"\"\"Entry point for launching an IPython kernel.\n"
     ]
    },
    {
     "data": {
      "text/plain": [
       "(0.9999999999999999, -0.9499999999999997)"
      ]
     },
     "execution_count": 11,
     "metadata": {},
     "output_type": "execute_result"
    }
   ],
   "source": [
    "m, c = np.linalg.lstsq(A, y)[0]\n",
    "m, c"
   ]
  },
  {
   "cell_type": "code",
   "execution_count": 12,
   "metadata": {},
   "outputs": [],
   "source": [
    "#help(np.linalg.lstsq)"
   ]
  },
  {
   "cell_type": "code",
   "execution_count": 13,
   "metadata": {},
   "outputs": [
    {
     "data": {
      "image/png": "[encoded data removed]",
      "text/plain": [
       "<Figure size 432x288 with 1 Axes>"
      ]
     },
     "metadata": {
      "needs_background": "light"
     },
     "output_type": "display_data"
    }
   ],
   "source": [
    "plt.plot(x, y, 'o', label='Original data', markersize=10)\n",
    "plt.plot(x, m*x + c, 'r', label='Fitted line')\n",
    "plt.show()"
   ]
  },
  {
   "cell_type": "code",
   "execution_count": 14,
   "metadata": {},
   "outputs": [],
   "source": [
    "from pylab import *\n",
    "from scipy.linalg import *"
   ]
  },
  {
   "cell_type": "markdown",
   "metadata": {},
   "source": [
    "читаем точки из файлов x.txt и y.txt, которые лежат в той же директории, что наш ipnb файл"
   ]
  },
  {
   "cell_type": "code",
   "execution_count": 15,
   "metadata": {},
   "outputs": [],
   "source": [
    "# читаем данные из файлов\n",
    "x=fromfile('x.txt', float, sep='\\n')\n",
    "y=fromfile('y.txt', float, sep='\\n')"
   ]
  },
  {
   "cell_type": "code",
   "execution_count": 18,
   "metadata": {},
   "outputs": [],
   "source": [
    "#x, y"
   ]
  },
  {
   "cell_type": "code",
   "execution_count": 32,
   "metadata": {},
   "outputs": [
    {
     "data": {
      "text/plain": [
       "array([[20.55258286, -4.53349566,  1.        ],\n",
       "       [16.7579899 , -4.09365239,  1.        ],\n",
       "       [11.98301431, -3.46164907,  1.        ],\n",
       "       [ 5.17728684, -2.27536521,  1.        ],\n",
       "       [ 0.63923006, -0.79951864,  1.        ],\n",
       "       [ 0.0670026 ,  0.25884861,  1.        ],\n",
       "       [ 0.45987669,  0.67814209,  1.        ],\n",
       "       [ 2.81387792,  1.67746175,  1.        ],\n",
       "       [11.15424164,  3.33979665,  1.        ],\n",
       "       [15.05217185,  3.87971286,  1.        ],\n",
       "       [21.3433616 ,  4.61988762,  1.        ]])"
      ]
     },
     "execution_count": 32,
     "metadata": {},
     "output_type": "execute_result"
    }
   ],
   "source": [
    "# задаем вектор m = [x**2, x, E]\n",
    "A = vstack((x**2, x, ones(len(x)))).T\n",
    "#A = np.vstack([x, np.ones(len(x))]).T\n",
    "A"
   ]
  },
  {
   "cell_type": "code",
   "execution_count": 34,
   "metadata": {},
   "outputs": [
    {
     "data": {
      "text/plain": [
       "array([ 1.0987697 ,  0.08708628, -0.49958624])"
      ]
     },
     "execution_count": 34,
     "metadata": {},
     "output_type": "execute_result"
    }
   ],
   "source": [
    "# находим коэффициенты при составляющих вектора m\n",
    "s=lstsq(A,y)[0]\n",
    "s"
   ]
  },
  {
   "cell_type": "code",
   "execution_count": 37,
   "metadata": {},
   "outputs": [
    {
     "data": {
      "image/png": "[encoded data removed]",
      "text/plain": [
       "<Figure size 432x288 with 1 Axes>"
      ]
     },
     "metadata": {
      "needs_background": "light"
     },
     "output_type": "display_data"
    }
   ],
   "source": [
    "# на отрезке [-5,5]\n",
    "x_prec=linspace(-5,5,101)\n",
    "\n",
    "# рисуем точки\n",
    "plot(x,y,'d')\n",
    "# рисуем теоретическую кривую x<sup>2</sup>\n",
    "plot(x_prec, x_prec**2,'--',lw=2)\n",
    "# рисуем кривую вида y = ax<sup>2</sup> + bx + c, подставляя из решения коэффициенты s[0], s[1], s[2]\n",
    "plot(x_prec, s[0]*x_prec**2+s[1]*x_prec+s[2],'-',lw=2)\n",
    "\n",
    "grid()\n",
    "legend(('Data', 'Theoretical curve', 'lstsq solution'), loc='upper center')\n",
    "show()"
   ]
  },
  {
   "cell_type": "code",
   "execution_count": 28,
   "metadata": {},
   "outputs": [],
   "source": [
    "#help(legend)"
   ]
  },
  {
   "cell_type": "markdown",
   "metadata": {},
   "source": [
    "# Произвольная фукнция \n",
    "# f (x,b) = b0 + b1*exp(-b2*x**2)"
   ]
  },
  {
   "cell_type": "code",
   "execution_count": 39,
   "metadata": {},
   "outputs": [],
   "source": [
    "# читаем данные из файлов\n",
    "x=fromfile('x1_data.txt', float, sep='\\n')\n",
    "y=fromfile('y1_data.txt', float, sep='\\n')"
   ]
  },
  {
   "cell_type": "code",
   "execution_count": 53,
   "metadata": {},
   "outputs": [],
   "source": [
    "# какой функцией будем апроксимировать\n",
    "def f(x, b0, b1, b2):\n",
    "    return b0 + b1 * np.exp(-b2 * x**2)\n",
    "#def f1(x, barr):\n",
    "#    return barr[0] + barr[1] * np.exp(-barr[2] * x**2)"
   ]
  },
  {
   "cell_type": "markdown",
   "metadata": {},
   "source": [
    "**Тут ищем коэффициенты этой функции так, чтобы наилучшим образом подходили к нашим точкам**"
   ]
  },
  {
   "cell_type": "code",
   "execution_count": 45,
   "metadata": {},
   "outputs": [
    {
     "data": {
      "text/plain": [
       "array([0.25733353, 0.76867338, 0.54478761])"
      ]
     },
     "execution_count": 45,
     "metadata": {},
     "output_type": "execute_result"
    }
   ],
   "source": [
    "from scipy.optimize import curve_fit\n",
    "beta_opt, beta_cov = curve_fit(f, x, y)\n",
    "beta_opt\n",
    "array([ 0.25733353, 0.76867338, 0.54478761])"
   ]
  },
  {
   "cell_type": "code",
   "execution_count": 56,
   "metadata": {},
   "outputs": [
    {
     "data": {
      "image/png": "[encoded data removed]",
      "text/plain": [
       "<Figure size 432x288 with 1 Axes>"
      ]
     },
     "metadata": {
      "needs_background": "light"
     },
     "output_type": "display_data"
    }
   ],
   "source": [
    "# на самом деле (без внесенных ошибок) точки должны быть такими:\n",
    "y_theor = f(x, 0.25, 0.75, 0.5)\n",
    "\n",
    "# подставим те b0, b1, b2 которые мы нашли\n",
    "#y_lsq = f1(x, beta_opt)   # или так - передаем список\n",
    "y_lsq = f(x, *beta_opt)   # или так - разворачиваем элементы списка\n",
    "\n",
    "fig, ax = plt.subplots()\n",
    "ax.scatter(x, y, label='Experimental')\n",
    "ax.plot(x, y_theor, 'r--', label='на самом деле')\n",
    "ax.plot(x, y_lsq, 'g-', label='fit')\n",
    "ax.legend()\n",
    "plt.show()"
   ]
  },
  {
   "cell_type": "code",
   "execution_count": null,
   "metadata": {},
   "outputs": [],
   "source": []
  }
 ],
 "metadata": {
  "kernelspec": {
   "display_name": "Python 3",
   "language": "python",
   "name": "python3"
  },
  "language_info": {
   "codemirror_mode": {
    "name": "ipython",
    "version": 3
   },
   "file_extension": ".py",
   "mimetype": "text/x-python",
   "name": "python",
   "nbconvert_exporter": "python",
   "pygments_lexer": "ipython3",
   "version": "3.7.6"
  }
 },
 "nbformat": 4,
 "nbformat_minor": 2
}
