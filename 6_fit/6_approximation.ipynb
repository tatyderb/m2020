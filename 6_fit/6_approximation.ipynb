{
 "cells": [
  {
   "cell_type": "markdown",
   "metadata": {},
   "source": [
    "# Построение графика по экспериментальным точкам"
   ]
  },
  {
   "cell_type": "markdown",
   "metadata": {},
   "source": [
    "Пусть у нас мого экспериментальных точек. Очень много. Надо провести через них кривую (например, линию), чтобы она с наименьшим отклонением проходила через набор точек. Она может проходить через некоторые точки (не обязательно) и проходить недалеко от других точек.\n",
    "\n",
    "Почему нельзя при этом интерполировать?\n",
    "\n",
    "* очень много точек, значит интерполяционный полином высокой степени и могут начаться биения,\n",
    "* не нужно проводить сплайны, потому что экспериментальные точки содержат ошибки измерения и нужно провести кривую в пределах погрешностей эксперимента,\n",
    "* пытаемся найти форму зависимости теоретической кривой по экспериментальным данным (это прямая, парабола, экспонента или что-то другое?)"
   ]
  },
  {
   "cell_type": "markdown",
   "metadata": {},
   "source": [
    "## Постановка задачи\n",
    "\n",
    "Даны экспериментальные точки:\n",
    "\n",
    "* значения по горизонтальной оси, будем называть ее Х. Лежат в списке х или в файле `xdata.txt`\n",
    "* значения по вертикальной оси, будем называть ее Y. Лежат в списке у или в файле `ydata.txt`\n",
    "* знаем предполагаемую форму кривой (прямая, парабола, экспонента или другая кривая), но не знаем коэффиценты в функции этой кривой. Эта кривая называется \"апроксимирующей фукнцией\".\n",
    "\n",
    "Коэффициенты этой апроксимирсимирующей функции мы и будем искать так, чтобы отклонение ее от экспериментальных точек было минимальным. Это задача оптимизации и решается с помощью функции **curve_fit** из пакета **scipy.optimize**.\n",
    "\n",
    "Будем искать минимальное квадратичное отклонение. [Почему берем квадратичное отклонение](lsqrt.md) и что это такое."
   ]
  },
  {
   "cell_type": "markdown",
   "metadata": {},
   "source": [
    "## Пример: построение произвольной функции по экспериментальным точкам"
   ]
  },
  {
   "cell_type": "markdown",
   "metadata": {},
   "source": [
    "* читаем данные из файлов `xdata.txt` и `ydata.txt` в переменные x и y.\n",
    "* опеределяем функцию, которая по координате х и коэффициентам b0, b1, b2 .. bn вычисляет значение y. Назовем функцию `f`.\n",
    "* по набору экспериментальных точек х и у и заданной функции f вычисляем коэффициенты b0, b1, .. bn. Задача решена.\n",
    "* рисуем график экспериментальных точек и найденной апроскимирующей функции.\n",
    "\n",
    "Попробуем сначала на простой функции, параболе $x^2$"
   ]
  },
  {
   "cell_type": "markdown",
   "metadata": {},
   "source": [
    "### import\n",
    "\n",
    "Понадобыится curve_fit из пакета scipy.optimize и все для рисования графиков."
   ]
  },
  {
   "cell_type": "code",
   "execution_count": 113,
   "metadata": {},
   "outputs": [],
   "source": [
    "import numpy as np\n",
    "import matplotlib.pyplot as plt"
   ]
  },
  {
   "cell_type": "markdown",
   "metadata": {},
   "source": [
    "### Читаем данные из фалов "
   ]
  },
  {
   "cell_type": "markdown",
   "metadata": {},
   "source": [
    "Сохраните эти данные в файлы в **той же директории, что ваша тетрадь**.\n",
    "\n",
    "В файл `xdata.txt` положите числа. Это будут наши \"эспериментальные данные\".\n",
    "```\n",
    "-4.53349565537\n",
    "-4.09365239181\n",
    "-3.46164907362\n",
    "-2.27536520922\n",
    "-0.799518640116\n",
    "0.258848610464\n",
    "0.678142088827\n",
    "1.67746174919\n",
    "3.33979664705\n",
    "3.87971285728\n",
    "4.61988761783\n",
    "```"
   ]
  },
  {
   "cell_type": "markdown",
   "metadata": {},
   "source": [
    "В файл `ydata.txt` полжите числа\n",
    "```\n",
    "24.9934393435\n",
    "16.0864373629\n",
    "9.35597227962\n",
    "4.40895322612\n",
    "1.05652519476\n",
    "0.0593537295658\n",
    "1.07912259931\n",
    "4.22402583041\n",
    "8.77775630747\n",
    "15.9549972433\n",
    "24.9164389595\n",
    "```"
   ]
  },
  {
   "cell_type": "markdown",
   "metadata": {},
   "source": [
    "Не забудьте сохранить записанные данные (Save)."
   ]
  },
  {
   "cell_type": "code",
   "execution_count": 114,
   "metadata": {},
   "outputs": [],
   "source": [
    "# читаем данные из файлов\n",
    "x = np.fromfile('xdata.txt', float, sep='\\n')\n",
    "y = np.fromfile('ydata.txt', float, sep='\\n')"
   ]
  },
  {
   "cell_type": "markdown",
   "metadata": {},
   "source": [
    "Проверяем, что прочитали правильно."
   ]
  },
  {
   "cell_type": "code",
   "execution_count": 115,
   "metadata": {},
   "outputs": [
    {
     "name": "stdout",
     "output_type": "stream",
     "text": [
      "[-4.53349566 -4.09365239 -3.46164907 -2.27536521 -0.79951864  0.25884861\n",
      "  0.67814209  1.67746175  3.33979665  3.87971286  4.61988762]\n",
      "[24.99343934 16.08643736  9.35597228  4.40895323  1.05652519  0.05935373\n",
      "  1.0791226   4.22402583  8.77775631 15.95499724 24.91643896]\n"
     ]
    }
   ],
   "source": [
    "print(x)\n",
    "print(y)"
   ]
  },
  {
   "cell_type": "markdown",
   "metadata": {},
   "source": [
    "Проверяем, что количество х и у координат совпадают"
   ]
  },
  {
   "cell_type": "code",
   "execution_count": 116,
   "metadata": {},
   "outputs": [
    {
     "data": {
      "text/plain": [
       "True"
      ]
     },
     "execution_count": 116,
     "metadata": {},
     "output_type": "execute_result"
    }
   ],
   "source": [
    "len(x) == len(y)"
   ]
  },
  {
   "cell_type": "markdown",
   "metadata": {},
   "source": [
    "### Нарисуем график с точками"
   ]
  },
  {
   "cell_type": "code",
   "execution_count": 117,
   "metadata": {},
   "outputs": [
    {
     "data": {
      "image/png": "[encoded data removed]",
      "text/plain": [
       "<Figure size 432x288 with 1 Axes>"
      ]
     },
     "metadata": {
      "needs_background": "light"
     },
     "output_type": "display_data"
    }
   ],
   "source": [
    "fig, ax = plt.subplots()\n",
    "ax.scatter(x, y, label='Experimental')\n",
    "ax.legend()\n",
    "plt.show()"
   ]
  },
  {
   "cell_type": "markdown",
   "metadata": {},
   "source": [
    "### Определим вид функции f(x, коэффициенты)"
   ]
  },
  {
   "cell_type": "markdown",
   "metadata": {},
   "source": [
    "График точек похож на график параболы. Значит будем искать параболу $b_0 + b_1 x + b_2 x^2$"
   ]
  },
  {
   "cell_type": "code",
   "execution_count": 118,
   "metadata": {},
   "outputs": [],
   "source": [
    "# какой функцией будем апроксимировать\n",
    "def f(x, b0, b1, b2):\n",
    "    return b0 + b1 * x + b2 * x**2"
   ]
  },
  {
   "cell_type": "markdown",
   "metadata": {},
   "source": [
    "### Найдем коэффициенты этой функции"
   ]
  },
  {
   "cell_type": "code",
   "execution_count": 119,
   "metadata": {},
   "outputs": [
    {
     "data": {
      "text/plain": [
       "array([-0.49958624,  0.08708628,  1.0987697 ])"
      ]
     },
     "execution_count": 119,
     "metadata": {},
     "output_type": "execute_result"
    }
   ],
   "source": [
    "from scipy.optimize import curve_fit\n",
    "beta_opt, beta_cov = curve_fit(f, x, y)\n",
    "beta_opt"
   ]
  },
  {
   "cell_type": "code",
   "execution_count": 120,
   "metadata": {},
   "outputs": [
    {
     "name": "stdout",
     "output_type": "stream",
     "text": [
      "b0=-0.4995862379309357\n",
      "b1=0.08708627582393469\n",
      "b2=1.098769698634771\n"
     ]
    }
   ],
   "source": [
    "b0, b1, b2 = beta_opt\n",
    "print(f'b0={b0}')\n",
    "print(f'b1={b1}')\n",
    "print(f'b2={b2}')"
   ]
  },
  {
   "cell_type": "markdown",
   "metadata": {},
   "source": [
    "К графику точек добавим график найденной параболы"
   ]
  },
  {
   "cell_type": "code",
   "execution_count": 121,
   "metadata": {},
   "outputs": [
    {
     "data": {
      "image/png": "[encoded data removed]",
      "text/plain": [
       "<Figure size 432x288 with 1 Axes>"
      ]
     },
     "metadata": {
      "needs_background": "light"
     },
     "output_type": "display_data"
    }
   ],
   "source": [
    "xx = np.linspace(min(x), max(x), 20)   # это х координаты точек для рисования графика, 20 штук\n",
    "y_lsq = f(xx, b0, b1, b2)              # это y координаты точек для рисования графика, \n",
    "\n",
    "fig, ax = plt.subplots()\n",
    "ax.scatter(x, y, label='Experimental')\n",
    "ax.plot(xx, y_lsq, 'g-', label='fit')\n",
    "\n",
    "ax.legend()\n",
    "plt.show()"
   ]
  },
  {
   "cell_type": "markdown",
   "metadata": {},
   "source": [
    "На самом деле \"экспериментальные\" точки получены из функции $x^2$ (в конце этой тетради написано как мы получили точки). Нарисуем и теоретическую кривую. Посмотрим как далеко отошла полученная парабола от начальной \"чистой\" параболы."
   ]
  },
  {
   "cell_type": "code",
   "execution_count": 122,
   "metadata": {},
   "outputs": [
    {
     "data": {
      "image/png": "[encoded data removed]",
      "text/plain": [
       "<Figure size 432x288 with 1 Axes>"
      ]
     },
     "metadata": {
      "needs_background": "light"
     },
     "output_type": "display_data"
    }
   ],
   "source": [
    "xx = np.linspace(min(x), max(x), 20)   # это х координаты точек для рисования графика, 20 штук\n",
    "y_lsq = f(xx, b0, b1, b2)              # это y координаты точек для рисования графика, \n",
    "y_theor = xx**2                        # y координаты для рисования теоретической параболы\n",
    "\n",
    "fig, ax = plt.subplots()\n",
    "ax.scatter(x, y, label='Experimental')\n",
    "ax.plot(xx, y_lsq, 'g-', label='fit')\n",
    "ax.plot(xx, y_theor, 'r--', label='теоретическая')\n",
    "\n",
    "ax.legend()\n",
    "plt.show()"
   ]
  },
  {
   "cell_type": "markdown",
   "metadata": {},
   "source": [
    "## Пример 2. scipy.optimize.curve_fit для сложной функции"
   ]
  },
  {
   "cell_type": "markdown",
   "metadata": {},
   "source": [
    "В примере апроксимируем данные функцией вида $$b_0 + b_1 e^{-b_2 * x^2}$$"
   ]
  },
  {
   "cell_type": "code",
   "execution_count": 123,
   "metadata": {},
   "outputs": [
    {
     "data": {
      "image/png": "[encoded data removed]",
      "text/plain": [
       "<Figure size 432x288 with 1 Axes>"
      ]
     },
     "metadata": {
      "needs_background": "light"
     },
     "output_type": "display_data"
    }
   ],
   "source": [
    "import numpy as np                 # для чтения точек\n",
    "import matplotlib.pyplot as plt    # для рисования графикиков\n",
    "from scipy.optimize import curve_fit     # для поиска коэффициентов апроксимирующей фукнции\n",
    "\n",
    "# читаем данные из файла (положите их в ту же директорию, что эту тетрадь)\n",
    "xdata = np.fromfile('x_data1.txt', float, sep='\\n')\n",
    "ydata = np.fromfile('y_data1.txt', float, sep='\\n')\n",
    "\n",
    "# задаем вид апроксимирующей функции\n",
    "def myfunc(x, b0, b1, b2):\n",
    "    return b0 + b1 * np.exp(-b2 * x**2)\n",
    "\n",
    "# вычисляем коэффициенты функции\n",
    "beta_opt, beta_cov = curve_fit(myfunc, xdata, ydata)\n",
    "b0, b1, b2 = beta_opt\n",
    "\n",
    "# рисуем график\n",
    "xx = np.linspace(min(xdata), max(xdata), 100)    # берем много точек для рисования красивого графика\n",
    "yy = myfunc(xx, *beta_opt)\n",
    "\n",
    "fig, ax = plt.subplots()\n",
    "ax.scatter(xdata, ydata, label='Experimental')\n",
    "ax.plot(xx, yy, 'g-', label='fit')\n",
    "ax.legend()\n",
    "plt.show()"
   ]
  },
  {
   "cell_type": "markdown",
   "metadata": {},
   "source": [
    "### Как хорошо функция проходит через набор точек?\n",
    "\n",
    "Пусть у нас есть 2 разных фукнции f1 и f2, которые приближают один и тот же набор точек. Какая функция приближает набор лучше? Та, у которой среднеквадратичное отклонение меньше.\n",
    "\n",
    "Посчитаем для данных точек x и y и функции myfunc с коэффициентами beta_opt среднеквадратичное отклонение. \n",
    "\n",
    "**Чем меньше сумма квадратов отклонений, тем лучше фукнция приближает этот набор экспериментальных точек**:"
   ]
  },
  {
   "cell_type": "code",
   "execution_count": 124,
   "metadata": {},
   "outputs": [
    {
     "name": "stdout",
     "output_type": "stream",
     "text": [
      "квадрат отклонений для функции myfunc = 3620.355747880774\n"
     ]
    }
   ],
   "source": [
    "# построим набор разности по оси Y для экспериментальной точки и ее приближению функцией my_func\n",
    "residuals = ydata - f(xdata,*beta_opt)\n",
    "# сумма квадратов отклонений\n",
    "fres = sum(residuals**2)\n",
    "print (f'квадрат отклонений для функции myfunc = {fres}')"
   ]
  },
  {
   "cell_type": "markdown",
   "metadata": {},
   "source": [
    "# Дальше идет только дополнительный материал. Можно его не читать."
   ]
  },
  {
   "cell_type": "markdown",
   "metadata": {},
   "source": [
    "## Дополнительно: по точкам проводим ПРЯМУЮ с помощью  np.linalg.lstsq"
   ]
  },
  {
   "cell_type": "markdown",
   "metadata": {},
   "source": [
    "Метод **curve_fit** работает для любого типа функций. Этот метод и метод ниже может вам встретиться в работах. Его сложнее применять. **Этот материал дополнительный. Его можно не читать.**\n",
    "\n",
    "Взято [отсюда](https://pyprog.pro/linear_algebra_functions/linalg_lstsq.html)\n",
    "\n",
    "Пусть у нас есть экспериментальные точки с координатами х и у, через которые нужно провести **прямую**. \n",
    "\n",
    "Будем искать функцию в виде прямой $b_1 x + b_0$. Для одной точки $(x_i, y_i)$ получим уравнение  $b_1 x_i + b_0 = y_i$.\n",
    "\n",
    "Для всех точек получим систему уравнений:\n",
    "\n",
    "$$\n",
    "  \\begin{cases}\n",
    "   b_1 x_0 + b_0 = y_0 \\\\\n",
    "   ... \\\\\n",
    "    b_1 x_i + b_0 = y_i \\\\\n",
    "    ... \\\\\n",
    "    b_1 x_n + b_0 = y_n\n",
    "  \\end{cases}\n",
    "$$  \n"
   ]
  },
  {
   "cell_type": "markdown",
   "metadata": {},
   "source": [
    "Запишем систему в виде уравнения матриц $AB=Y$ и найдем из него $В$.\n",
    "\n",
    "$$\\begin{bmatrix}\n",
    "       x_0 & 1 \\\\\n",
    "       x_1 & 1 \\\\\n",
    "       ... \\\\\n",
    "       x_n & 1\n",
    "     \\end{bmatrix}\n",
    " \\cdot \n",
    " \\begin{bmatrix}\n",
    "       b_1 \\\\\n",
    "       b_0\n",
    "     \\end{bmatrix}\n",
    " =\n",
    " \\begin{bmatrix}\n",
    "       y_0 \\\\\n",
    "       y_1 \\\\\n",
    "       ... \\\\\n",
    "       y_n\n",
    "     \\end{bmatrix}\n",
    "$$     "
   ]
  },
  {
   "cell_type": "markdown",
   "metadata": {},
   "source": [
    "Эта система переопределена. У нас 2 неизвестных $b_1$ и $b_0$. И $n$ уравнений. Система не имеет точного решения. Будем искать приближенное решение по методу наименьших квадратов с помощью функции из пакета линейной алгебры библиотеки numpy.\n",
    "\n",
    "Найти $b_1$ и $b_0$, чтобы сумма квадратов отклонений от точек (x, y) была наименьшей, поможет функция **np.linalg.lstsq**\n"
   ]
  },
  {
   "cell_type": "markdown",
   "metadata": {},
   "source": [
    "Зададим пока точки вручную:"
   ]
  },
  {
   "cell_type": "code",
   "execution_count": 125,
   "metadata": {},
   "outputs": [
    {
     "data": {
      "text/plain": [
       "array([0, 1, 2, 3])"
      ]
     },
     "execution_count": 125,
     "metadata": {},
     "output_type": "execute_result"
    }
   ],
   "source": [
    "x = np.array([0, 1, 2, 3])\n",
    "x"
   ]
  },
  {
   "cell_type": "code",
   "execution_count": 126,
   "metadata": {},
   "outputs": [
    {
     "data": {
      "text/plain": [
       "array([-1. ,  0.2,  0.9,  2.1])"
      ]
     },
     "execution_count": 126,
     "metadata": {},
     "output_type": "execute_result"
    }
   ],
   "source": [
    "y = np.array([-1, 0.2, 0.9, 2.1])\n",
    "y"
   ]
  },
  {
   "cell_type": "code",
   "execution_count": 127,
   "metadata": {},
   "outputs": [
    {
     "data": {
      "text/plain": [
       "array([[0., 1.],\n",
       "       [1., 1.],\n",
       "       [2., 1.],\n",
       "       [3., 1.]])"
      ]
     },
     "execution_count": 127,
     "metadata": {},
     "output_type": "execute_result"
    }
   ],
   "source": [
    "A = np.vstack([x, np.ones(len(x))]).T   # разберем это по шагам ниже:\n",
    "A"
   ]
  },
  {
   "cell_type": "markdown",
   "metadata": {},
   "source": [
    "Как строим единичный вектор того же размера, что и х? `no.ones(len(x))`\n",
    "\n",
    "Далее ставим один вектор вертикально на другой `no.ones(len(x))`"
   ]
  },
  {
   "cell_type": "code",
   "execution_count": 128,
   "metadata": {},
   "outputs": [
    {
     "data": {
      "text/plain": [
       "array([1., 1., 1., 1.])"
      ]
     },
     "execution_count": 128,
     "metadata": {},
     "output_type": "execute_result"
    }
   ],
   "source": [
    "# построим единичный вектор той же длины, что и х\n",
    "np.ones(len(x))"
   ]
  },
  {
   "cell_type": "code",
   "execution_count": 129,
   "metadata": {},
   "outputs": [
    {
     "data": {
      "text/plain": [
       "array([[0., 1., 2., 3.],\n",
       "       [1., 1., 1., 1.]])"
      ]
     },
     "execution_count": 129,
     "metadata": {},
     "output_type": "execute_result"
    }
   ],
   "source": [
    "# Далее ставим один вектор вертикально на другой\n",
    "np.vstack([x, np.ones(len(x))])"
   ]
  },
  {
   "cell_type": "code",
   "execution_count": 130,
   "metadata": {},
   "outputs": [
    {
     "data": {
      "text/plain": [
       "array([[0., 1.],\n",
       "       [1., 1.],\n",
       "       [2., 1.],\n",
       "       [3., 1.]])"
      ]
     },
     "execution_count": 130,
     "metadata": {},
     "output_type": "execute_result"
    }
   ],
   "source": [
    "# и трансформируем получившуюся матрицу\n",
    "A = np.vstack([x, np.ones(len(x))]).T\n",
    "A"
   ]
  },
  {
   "cell_type": "code",
   "execution_count": 131,
   "metadata": {},
   "outputs": [
    {
     "name": "stderr",
     "output_type": "stream",
     "text": [
      "C:\\ProgramData\\Anaconda3\\lib\\site-packages\\ipykernel_launcher.py:1: FutureWarning: `rcond` parameter will change to the default of machine precision times ``max(M, N)`` where M and N are the input matrix dimensions.\n",
      "To use the future default and silence this warning we advise to pass `rcond=None`, to keep using the old, explicitly pass `rcond=-1`.\n",
      "  \"\"\"Entry point for launching an IPython kernel.\n"
     ]
    },
    {
     "data": {
      "text/plain": [
       "(array([ 1.  , -0.95]), array([0.05]), 2, array([4.10003045, 1.09075677]))"
      ]
     },
     "execution_count": 131,
     "metadata": {},
     "output_type": "execute_result"
    }
   ],
   "source": [
    "bsolve = np.linalg.lstsq(A, y)\n",
    "# Может быть предупреждение (Warning)\n",
    "bsolve"
   ]
  },
  {
   "cell_type": "code",
   "execution_count": 132,
   "metadata": {},
   "outputs": [
    {
     "data": {
      "text/plain": [
       "(0.9999999999999997, -0.9499999999999992)"
      ]
     },
     "execution_count": 132,
     "metadata": {},
     "output_type": "execute_result"
    }
   ],
   "source": [
    "b1, b0 = bsolve[0]\n",
    "b1, b0"
   ]
  },
  {
   "cell_type": "code",
   "execution_count": 133,
   "metadata": {},
   "outputs": [],
   "source": [
    "#help(np.linalg.lstsq)   # если хотите прочитать подробно как работает фукнция, уберите первый # "
   ]
  },
  {
   "cell_type": "code",
   "execution_count": 134,
   "metadata": {},
   "outputs": [
    {
     "data": {
      "image/png": "[encoded data removed]",
      "text/plain": [
       "<Figure size 432x288 with 1 Axes>"
      ]
     },
     "metadata": {
      "needs_background": "light"
     },
     "output_type": "display_data"
    }
   ],
   "source": [
    "plt.plot(x, y, 'o', label='Original data', markersize=10)\n",
    "plt.plot(x, b1*x + b0, 'r', label='Fitted line')\n",
    "plt.legend()\n",
    "plt.show()"
   ]
  },
  {
   "cell_type": "markdown",
   "metadata": {},
   "source": [
    "## Дополнительно: по точкам проводим ПАРАБОЛУ с помощью  scipy.linalg.lstsq"
   ]
  },
  {
   "cell_type": "markdown",
   "metadata": {},
   "source": [
    "Пакет линейной алгебры linalg есть не только в numpy, но и в scipy. Сделаем этот пример с помощью scipy.linalg.lstsq.\n",
    "\n",
    "Возьмем точки из самого первого примера этого урока. В нем точки были получены из параболы $x^2$ путем внесения случайной ошибки. Построим приближение параболой с помощью метода scipy.linalg.lstsq, а не scipy.optimize.curve_fit.\n",
    "\n",
    "График тоже будем рисовать методами пакета scipy.\n",
    "\n",
    "Сравним, как проще писать программу."
   ]
  },
  {
   "cell_type": "markdown",
   "metadata": {},
   "source": [
    "Пусть у нас есть экспериментальные точки с координатами х и у, через которые нужно провести **параболу**. \n",
    "\n",
    "Будем искать функцию в виде параболы $b_2 x^2 + b_1 x + b_0$. Для одной точки $(x_i, y_i)$ получим уравнение  $b_2 {x_i}^2 + b_1 x_i + b_0 = y_i$.\n",
    "\n",
    "Для всех точек получим систему уравнений:\n",
    "\n",
    "$$\n",
    "  \\begin{cases}\n",
    "   b_2 {x_0}^2 + b_1 x_0 + b_0 = y_0 \\\\\n",
    "   ... \\\\\n",
    "    b_2 {x_i}^2 + b_1 x_i + b_0 = y_i \\\\\n",
    "    ... \\\\\n",
    "    b_2 {x_n}^2 + b_1 x_n + b_0 = y_n\n",
    "  \\end{cases}\n",
    "$$  \n"
   ]
  },
  {
   "cell_type": "markdown",
   "metadata": {},
   "source": [
    "Как в предыдущем примере с прямой, запишем систему в виде матричного уравнения $АВ=Y$\n",
    "Запишем систему в виде уравнения матриц $AB=Y$ и найдем из него $В$.\n",
    "\n",
    "$$\\begin{bmatrix}\n",
    "       x_0^2 & x_0 & 1 \\\\\n",
    "       x_1^2 & x_1 & 1 \\\\\n",
    "       ... \\\\\n",
    "       x_n^2 & x_n & 1\n",
    "     \\end{bmatrix}\n",
    " \\cdot \n",
    " \\begin{bmatrix}\n",
    "       b_2 \\\\\n",
    "       b_1 \\\\\n",
    "       b_0\n",
    "     \\end{bmatrix}\n",
    " =\n",
    " \\begin{bmatrix}\n",
    "       y_0 \\\\\n",
    "       y_1 \\\\\n",
    "       ... \\\\\n",
    "       y_n\n",
    "     \\end{bmatrix}\n",
    "$$     "
   ]
  },
  {
   "cell_type": "code",
   "execution_count": 135,
   "metadata": {},
   "outputs": [],
   "source": [
    "import pylab as pl\n",
    "import scipy.linalg as slg"
   ]
  },
  {
   "cell_type": "markdown",
   "metadata": {},
   "source": [
    "читаем точки из файлов x.txt и y.txt, которые лежат в той же директории, что наш ipnb файл"
   ]
  },
  {
   "cell_type": "code",
   "execution_count": 136,
   "metadata": {},
   "outputs": [],
   "source": [
    "# читаем данные из файлов\n",
    "x = pl.fromfile('xdata.txt', float, sep='\\n')\n",
    "y = pl.fromfile('ydata.txt', float, sep='\\n')"
   ]
  },
  {
   "cell_type": "code",
   "execution_count": 137,
   "metadata": {},
   "outputs": [
    {
     "data": {
      "text/plain": [
       "(array([-4.53349566, -4.09365239, -3.46164907, -2.27536521, -0.79951864,\n",
       "         0.25884861,  0.67814209,  1.67746175,  3.33979665,  3.87971286,\n",
       "         4.61988762]),\n",
       " array([24.99343934, 16.08643736,  9.35597228,  4.40895323,  1.05652519,\n",
       "         0.05935373,  1.0791226 ,  4.22402583,  8.77775631, 15.95499724,\n",
       "        24.91643896]))"
      ]
     },
     "execution_count": 137,
     "metadata": {},
     "output_type": "execute_result"
    }
   ],
   "source": [
    "# проверим, что они прочитались и прочитались верно\n",
    "x, y"
   ]
  },
  {
   "cell_type": "code",
   "execution_count": 138,
   "metadata": {},
   "outputs": [
    {
     "data": {
      "text/plain": [
       "array([[20.55258286, -4.53349566,  1.        ],\n",
       "       [16.7579899 , -4.09365239,  1.        ],\n",
       "       [11.98301431, -3.46164907,  1.        ],\n",
       "       [ 5.17728684, -2.27536521,  1.        ],\n",
       "       [ 0.63923006, -0.79951864,  1.        ],\n",
       "       [ 0.0670026 ,  0.25884861,  1.        ],\n",
       "       [ 0.45987669,  0.67814209,  1.        ],\n",
       "       [ 2.81387792,  1.67746175,  1.        ],\n",
       "       [11.15424164,  3.33979665,  1.        ],\n",
       "       [15.05217185,  3.87971286,  1.        ],\n",
       "       [21.3433616 ,  4.61988762,  1.        ]])"
      ]
     },
     "execution_count": 138,
     "metadata": {},
     "output_type": "execute_result"
    }
   ],
   "source": [
    "# задаем вектор A = [x**2, x, E]\n",
    "#A = np.vstack([x, np.ones(len(x))]).T - было, но теперь это функции из пакета scipy.linalg\n",
    "A = pl.vstack((x**2, x, ones(len(x)))).T\n",
    "A"
   ]
  },
  {
   "cell_type": "code",
   "execution_count": 139,
   "metadata": {},
   "outputs": [
    {
     "data": {
      "text/plain": [
       "array([ 1.0987697 ,  0.08708628, -0.49958624])"
      ]
     },
     "execution_count": 139,
     "metadata": {},
     "output_type": "execute_result"
    }
   ],
   "source": [
    "# находим коэффициенты при составляющих вектора m\n",
    "B = slg.lstsq(A,y)[0]\n",
    "B"
   ]
  },
  {
   "cell_type": "code",
   "execution_count": 140,
   "metadata": {},
   "outputs": [
    {
     "data": {
      "text/plain": [
       "(1.0987696995088858, 0.087086279995229, -0.4995862380513434)"
      ]
     },
     "execution_count": 140,
     "metadata": {},
     "output_type": "execute_result"
    }
   ],
   "source": [
    "b2, b1, b0 = B\n",
    "b2, b1, b0"
   ]
  },
  {
   "cell_type": "markdown",
   "metadata": {},
   "source": [
    "Рисуем графики с помощью методов пакета pylab. Названия методов - такие же, какие мы использовали раньше в matplotlib и numpy."
   ]
  },
  {
   "cell_type": "code",
   "execution_count": 141,
   "metadata": {},
   "outputs": [
    {
     "data": {
      "image/png": "[encoded data removed]",
      "text/plain": [
       "<Figure size 432x288 with 1 Axes>"
      ]
     },
     "metadata": {
      "needs_background": "light"
     },
     "output_type": "display_data"
    }
   ],
   "source": [
    "# на отрезке [-5,5] возьмем 100 точек\n",
    "x_prec = pl.linspace(-5, 5, 101)\n",
    "\n",
    "# рисуем точки\n",
    "pl.plot(x, y, 'd')\n",
    "\n",
    "# рисуем теоретическую кривую x<sup>2</sup>\n",
    "pl.plot(x_prec, x_prec**2, '--', lw=2)\n",
    "\n",
    "# рисуем кривую вида y = ax<sup>2</sup> + bx + c, подставляя из решения коэффициенты s[0], s[1], s[2]\n",
    "pl.plot(x_prec, b2 * x_prec**2 + b1*x_prec + b0, '-', lw=2)\n",
    "\n",
    "pl.grid()\n",
    "pl.legend(('Data', 'Theoretical curve', 'lstsq solution'), loc='upper center')\n",
    "pl.show()"
   ]
  },
  {
   "cell_type": "markdown",
   "metadata": {},
   "source": [
    "Как видно, самый простой для программирования метод - это curve_fit.\n",
    "\n",
    "* Читаем координаты точек x и y.\n",
    "* определяем функцию, которая по х и коэффициентам вычисляет y\n",
    "* используем curve_fit"
   ]
  },
  {
   "cell_type": "markdown",
   "metadata": {},
   "source": [
    "## Генерация данных по теоретической кривой"
   ]
  },
  {
   "cell_type": "markdown",
   "metadata": {},
   "source": [
    "Напишем, как по теоретической кривой сделать точки, которые будут чуть-чуть случайно от нее отличаться. Это наш набор \"экспериментальных данных\", по которым в примерах и домашней работе будут строиться кривые."
   ]
  },
  {
   "cell_type": "markdown",
   "metadata": {},
   "source": [
    "### Генерация точек для параболы $x^2$"
   ]
  },
  {
   "cell_type": "code",
   "execution_count": 144,
   "metadata": {},
   "outputs": [],
   "source": [
    "from numpy import *\n",
    "from numpy.random import *\n",
    "\n",
    "delta = 1.0\n",
    "x = linspace(-5,5,11)          # 10 точек от -5 до 5\n",
    "y = x**2+delta*(rand(11)-0.5)  # для y к точному значению x**2 добавляем случайную погрешность\n",
    "x += delta*(rand(11)-0.5)      # добавляем случайную погрешность для х\n",
    "\n",
    "x.tofile('x_mydata.txt', '\\n')   # записать в файл с разделителем \\n (каждое число на новой строке)\n",
    "y.tofile('y_mydata.txt', '\\n')"
   ]
  },
  {
   "cell_type": "markdown",
   "metadata": {},
   "source": [
    "### Генерация данных для экспоненты"
   ]
  },
  {
   "cell_type": "markdown",
   "metadata": {},
   "source": [
    "проверяем гипотезу, что наши точки ложатся на кривую вида $$f (x,b) = b_0 + b_1 \\cdot \\exp(-b_2 \\cdot x^2) $$"
   ]
  },
  {
   "cell_type": "code",
   "execution_count": 145,
   "metadata": {},
   "outputs": [],
   "source": [
    "# сначала определим фнукцию\n",
    "def myfunc(x, *b):\n",
    "    return b[0] + b[1]*np.exp(-b[2]*x**2)"
   ]
  },
  {
   "cell_type": "markdown",
   "metadata": {},
   "source": [
    "Добавим шума в данные, сделанные по функции f(x,b) с коэффициентами b = (0.25, 0.75, 0.5) "
   ]
  },
  {
   "cell_type": "code",
   "execution_count": 148,
   "metadata": {},
   "outputs": [],
   "source": [
    "beta = (0.25, 0.75, 0.5)\n",
    "# зададим массив точек хi\n",
    "xdata = np.linspace(0, 5, 50)\n",
    "# создаем теоретически правильные значения точек yi (без шума)\n",
    "y = myfunc(xdata, *beta)\n",
    "# зашумляем эти данные\n",
    "ydata = y + 0.05 * np.random.randn(len(xdata))"
   ]
  },
  {
   "cell_type": "code",
   "execution_count": null,
   "metadata": {},
   "outputs": [],
   "source": []
  }
 ],
 "metadata": {
  "kernelspec": {
   "display_name": "Python 3",
   "language": "python",
   "name": "python3"
  },
  "language_info": {
   "codemirror_mode": {
    "name": "ipython",
    "version": 3
   },
   "file_extension": ".py",
   "mimetype": "text/x-python",
   "name": "python",
   "nbconvert_exporter": "python",
   "pygments_lexer": "ipython3",
   "version": "3.7.6"
  }
 },
 "nbformat": 4,
 "nbformat_minor": 2
}
