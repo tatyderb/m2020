{
 "cells": [
  {
   "cell_type": "markdown",
   "metadata": {},
   "source": [
    "# Домашняя работа 1. Построение простых графиков\n",
    "\n",
    "## Вариант ?\n",
    "\n",
    "**Номер своего варианта узнать у преподавателя**\n",
    "\n",
    "<span style=\"color:red\">Напишите вместо ? свой номер варианта</span>. \n",
    "\n",
    "<span style=\"color:red\">Напишите свой номер варианта в задаче 3 и 4</span>."
   ]
  },
  {
   "cell_type": "markdown",
   "metadata": {},
   "source": [
    "# Задача 1. Точки и парабола\n",
    "\n",
    "Нарисовать график, как на рисунке. Цвет линии и точек и значки точек могут быть любыми.\n",
    "\n",
    "<img src=\"https://raw.githubusercontent.com/tatyderb/m2020/master/1_visualization/hw_1_1.png\" height=300 width=300 />\n",
    "\n",
    "Обязательно:\n",
    "\n",
    "* парабола - линией, точки - отдельными маркерами\n",
    "* подписать оси\n",
    "* заголовок графика\n",
    "* сетка\n",
    "* легенда "
   ]
  },
  {
   "cell_type": "code",
   "execution_count": 2,
   "metadata": {},
   "outputs": [],
   "source": [
    "# Тут нужно написать код"
   ]
  },
  {
   "cell_type": "markdown",
   "metadata": {},
   "source": [
    "## Задача 2. Сколько корней\n",
    "\n",
    "Уравнение $x^2 = \\sin {10x}$ не решается формулой. Можно найти решения численно. Для этого нужно знать сколько корней и *примерно* чему они равны.\n",
    "\n",
    "Постройте график функций так, чтобы узнать сколько корней имеет уравнение.\n",
    "\n",
    "<img src=\"https://raw.githubusercontent.com/tatyderb/m2020/master/1_visualization/hw_1_2.png\" height=300 width=300 />"
   ]
  },
  {
   "cell_type": "code",
   "execution_count": 3,
   "metadata": {},
   "outputs": [],
   "source": [
    "# Тут нужно написать код"
   ]
  },
  {
   "cell_type": "markdown",
   "metadata": {},
   "source": [
    "## Задача 3.? График функции\n",
    "\n",
    "Нарисовать график функции, заданной параметрически.\n",
    "\n",
    "* [Уравнения](http://grafikus.ru/examples/parametric-functions-2d)\n",
    "* [Все графики](http://acm.mipt.ru/twiki/pub/Cintro/PythonPyplot/task2_all.png)\n",
    "\n",
    "* Вариант 1 Спираль $$x = t \\sin(t), \\quad\n",
    "y = t \\cos(t), \\quad\n",
    "t \\in [0; 5\\pi]$$\n",
    "* Вариант 2 Дельтоида $$x = 2\\cos(t) + \\cos(2t), \\quad y = 2\\sin(t) - \\sin(2t), \\quad t \\in [0; 2\\pi]$$\n",
    "* Вариант 3 Астроида $$x = 2\\sin^{3}(t), \\quad y = 2\\cos^{3}(t), \\quad  t \\in [0; 2\\pi] $$\n",
    "* Вариант 4 Кардиоида $$x = \\Big(1 + \\cos(t)\\Big)\\cos(t), \\quad y = \\Big(1 + \\cos(t)\\Big)\\sin(t), \\quad t \\in [0; 2\\pi]$$\n",
    "* Вариант 5 Сердце $$ x(t) = 16\\sin^3(t) \\\\\n",
    "y(t) = 13\\cos(t) - 5\\cos(2t) - 2\\cos(3t) - \\cos(4t) \\\\\n",
    "t \\in [0; 2\\pi]$$\n",
    "* Вариант 6. Фигура Лиссажу-1 $$x(t) = \\sin\\Big(t + \\frac{\\pi}{2}\\Big), \\quad\n",
    "y(t) = \\sin(2t), \\quad\n",
    "t \\in [0; 2\\pi]$$\n",
    "\n",
    "* Вариант 7. Фигура Лиссажу-2 $$ x(t) = \\sin\\Big(3t + \\frac{\\pi}{2}\\Big), \\quad\n",
    "y(t) = \\sin(2t), \\quad\n",
    "t \\in [0; 2\\pi] $$\n",
    "\n",
    "* Вариант 8. Фигура Лиссажу-3 $$ x(t) = \\sin\\Big(5t + \\frac{\\pi}{2}\\Big), \\quad\n",
    "y(t) = \\sin(6t), \\quad\n",
    "t \\in [0; 2\\pi] $$\n",
    "\n",
    "Обязательно нарисовать:\n",
    "\n",
    "* график линией (цвет - любой)\n",
    "* название графика (спираль, дельтоида и так далее)"
   ]
  },
  {
   "cell_type": "code",
   "execution_count": 4,
   "metadata": {},
   "outputs": [],
   "source": [
    "# тут нужно написать код"
   ]
  },
  {
   "cell_type": "markdown",
   "metadata": {},
   "source": [
    "## Задача 4.? График функции в полярных координатах\n",
    "\n",
    "* Нарисуйте график функции\n",
    "* В названии графика напишите его формулу\n",
    "* Проверьте график на [этом сайте](http://grafikus.ru/examples/polar-functions)\n",
    "\n",
    "* Вариант 1. Спираль Архимеда $$ r(t) = 2t, \\quad\n",
    "t \\in [0; 8\\pi]$$\n",
    "* Вариант 2. Кардиоида  $$ r(t) = 1 - \\sin(t), \\quad\n",
    "t \\in [0; 2\\pi] $$\n",
    "* Вариант 3. Улитка Паскаля  $$ r(t) = 2 - 4\\sin(t), \\quad\n",
    "t \\in [0; 2\\pi] $$\n",
    "* Вариант 4. Парабола  $$ r(t) = \\frac{1}{1 - \\cos(t)}, \\quad\n",
    "t \\in [0; 2\\pi] $$\n",
    "* Вариант 5. Полярная роза - 1  $$ r(t) = \\sin(6t), \\quad\n",
    "t \\in [0; 2\\pi] $$\n",
    "* Вариант 6. Полярная роза - 2  $$ r(t) = \\sin\\Big(\\frac{7}{4}t\\Big), \\quad\n",
    "t \\in [0; 8\\pi] $$\n",
    "* Вариант 7. Полярная роза - 3  $$ r(t) = \\sin\\Big(\\frac{3}{4}t\\Big), \\quad\n",
    "t \\in [0; 8\\pi] $$"
   ]
  },
  {
   "cell_type": "code",
   "execution_count": 5,
   "metadata": {},
   "outputs": [],
   "source": [
    "# Тут нужно написать код"
   ]
  }
 ],
 "metadata": {
  "kernelspec": {
   "display_name": "Python 3",
   "language": "python",
   "name": "python3"
  },
  "language_info": {
   "codemirror_mode": {
    "name": "ipython",
    "version": 3
   },
   "file_extension": ".py",
   "mimetype": "text/x-python",
   "name": "python",
   "nbconvert_exporter": "python",
   "pygments_lexer": "ipython3",
   "version": "3.7.6"
  }
 },
 "nbformat": 4,
 "nbformat_minor": 4
}
