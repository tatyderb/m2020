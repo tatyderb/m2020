{
 "cells": [
  {
   "cell_type": "markdown",
   "metadata": {},
   "source": [
    "# Домашняя работа 2. Построение сложных графиков\n",
    "\n",
    "## Вариант ?\n",
    "\n",
    "Номер своего варианта узнать у преподавателя\n",
    "\n",
    "<span style=\"color:red\">Напишите вместо ? свой номер варианта</span>. "
   ]
  },
  {
   "cell_type": "markdown",
   "metadata": {},
   "source": [
    "## Задача 1. Два графика\n",
    "\n",
    "Нарисуйте 2 графика из предыдущей домашней работы на одном рисунке\n",
    "\n",
    "![](http://acm.mipt.ru/twiki/pub/Cintro/PythonPyplot/pyplot_1_5.png)"
   ]
  },
  {
   "cell_type": "code",
   "execution_count": null,
   "metadata": {},
   "outputs": [],
   "source": [
    "# тут нужно написать код"
   ]
  },
  {
   "cell_type": "markdown",
   "metadata": {},
   "source": [
    "## Задача 2. Много синусов\n",
    "\n",
    "* Нарисовать графики $sin(x)$, $2sin(x)$, $sin(2x)$, $\\sin^2(x)$ на $[-\\pi , \\pi ]$\n",
    "* По осям х подписать ticks\n",
    "\n",
    "![](http://acm.mipt.ru/twiki/pub/Cintro/PythonPyplot/pyplot_1_5sin.png)"
   ]
  },
  {
   "cell_type": "code",
   "execution_count": null,
   "metadata": {},
   "outputs": [],
   "source": [
    "# тут нужно написать код"
   ]
  },
  {
   "cell_type": "markdown",
   "metadata": {},
   "source": [
    "## Задача 3. Прогноз погоды\n",
    "\n",
    "* Нарисовать графики с разными Y осями.\n",
    "* Какие графики рисовать - смотри в варианте.\n",
    "* Графики рисовать разными цветами, разными линиями и отметить точки.\n",
    "* Подписать оси для обоих графиков (цветом графика)\n",
    "* Подписать вертикальные шкалы черным цветом\n",
    "* Подписать время на горизонтальной оси, можно не для всех точек, если надписи перекрывают друг друга.\n",
    "\n",
    "Пример графика Dew Point (точка росы) и Press (давление) в зависимости от времени.\n",
    "\n",
    "![](http://acm.mipt.ru/twiki/pub/Cintro/PythonPyplot/task1_Dew_Pre.png)\n",
    "\n",
    "Данные взять [тут](http://acm.mipt.ru/twiki/bin/view/Cintro/PythonPyplot#_cfc_c_5__gorg_c___c_k_fc_ngpkg_), там же можно проверить свой график (есть ответы)\n"
   ]
  },
  {
   "cell_type": "code",
   "execution_count": null,
   "metadata": {},
   "outputs": [],
   "source": [
    "# тут нужно написать код"
   ]
  }
 ],
 "metadata": {
  "kernelspec": {
   "display_name": "Python 3",
   "language": "python",
   "name": "python3"
  },
  "language_info": {
   "codemirror_mode": {
    "name": "ipython",
    "version": 3
   },
   "file_extension": ".py",
   "mimetype": "text/x-python",
   "name": "python",
   "nbconvert_exporter": "python",
   "pygments_lexer": "ipython3",
   "version": "3.7.6"
  }
 },
 "nbformat": 4,
 "nbformat_minor": 4
}
