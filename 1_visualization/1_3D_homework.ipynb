{
 "cells": [
  {
   "cell_type": "markdown",
   "metadata": {},
   "source": [
    "## Задача 1. 3D график\n",
    "\n",
    "Построить график функции. Номер варианта взять у преподавателя.\n",
    "\n",
    "1. $z = xy, x \\in [-6, 6], y \\in [-6, 6]$, заливка 'hot' [Ответ]()\n",
    "2. $z = x^2+y^2$, где $x \\in [-6, 6], y \\in [-6, 6]$, заливка 'winter'\n",
    "3. $z = sin(x)cos(y)$, где $x \\in [-2\\pi, 2\\pi], y \\in [-2\\pi, 2\\pi]$, заливка 'jet'\n",
    "4. $z = exp(-30(x^2 + y^2))$, где $x \\in [-1, 1], y \\in [-1, 1]$, заливка 'viridis'\n",
    "5. $z = sin(x^2 + y^2)$, где $x \\in [-\\pi/2, \\pi/2], y \\in [-\\pi/2, \\pi/2]$, заливка 'viridis'"
   ]
  },
  {
   "cell_type": "code",
   "execution_count": null,
   "metadata": {},
   "outputs": [],
   "source": [
    "# тут нужно написать код"
   ]
  },
  {
   "cell_type": "markdown",
   "metadata": {},
   "source": [
    "m"
   ]
  },
  {
   "cell_type": "code",
   "execution_count": null,
   "metadata": {},
   "outputs": [],
   "source": [
    "# тут нужно написать код"
   ]
  }
 ],
 "metadata": {
  "kernelspec": {
   "display_name": "Python 3",
   "language": "python",
   "name": "python3"
  },
  "language_info": {
   "codemirror_mode": {
    "name": "ipython",
    "version": 3
   },
   "file_extension": ".py",
   "mimetype": "text/x-python",
   "name": "python",
   "nbconvert_exporter": "python",
   "pygments_lexer": "ipython3",
   "version": "3.7.6"
  }
 },
 "nbformat": 4,
 "nbformat_minor": 4
}
