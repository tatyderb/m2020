{
 "cells": [
  {
   "cell_type": "markdown",
   "metadata": {},
   "source": [
    "Выполните следующие задания:\n",
    "1. Добавьте ниже ячейку с текстом. Напишите как вас зовут.\n",
    "2. Добавьте ниже ячейку с кодом\n",
    "3. Напишите в ней код\n",
    "```\n",
    "print('Hello')\n",
    "x = 10\n",
    "y = 2\n",
    "z = x + y\n",
    "z\n",
    "```\n",
    "4. Выполните код\n",
    "\n",
    "Работа сделана. Ее нужно послать на проверку преподавателю."
   ]
  },
  {
   "cell_type": "code",
   "execution_count": null,
   "metadata": {},
   "outputs": [],
   "source": []
  }
 ],
 "metadata": {
  "kernelspec": {
   "display_name": "Python 3",
   "language": "python",
   "name": "python3"
  },
  "language_info": {
   "codemirror_mode": {
    "name": "ipython",
    "version": 3
   },
   "file_extension": ".py",
   "mimetype": "text/x-python",
   "name": "python",
   "nbconvert_exporter": "python",
   "pygments_lexer": "ipython3",
   "version": "3.7.6"
  }
 },
 "nbformat": 4,
 "nbformat_minor": 4
}
