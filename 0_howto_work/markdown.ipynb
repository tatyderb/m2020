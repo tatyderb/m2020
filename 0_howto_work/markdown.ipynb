{
 "cells": [
  {
   "cell_type": "markdown",
   "id": "32b3acc8-f5a9-4752-9699-23494aad91c3",
   "metadata": {},
   "source": [
    "# Markdown"
   ]
  },
  {
   "cell_type": "markdown",
   "id": "cb30d733-5eee-484c-a6c7-3b3191257912",
   "metadata": {},
   "source": [
    "# Заголовок 1\n",
    "## Заголовок 2\n",
    "### Заголовок 3\n",
    "#### Заголовок 4\n",
    "##### Заголовок 5\n",
    "###### Заголовок 6\n",
    "\n",
    "Пишу так:\n",
    "```\n",
    "# Заголовок 1\n",
    "## Заголовок 2\n",
    "### Заголовок 3\n",
    "#### Заголовок 4\n",
    "##### Заголовок 5\n",
    "###### Заголовок 6\n",
    "```"
   ]
  },
  {
   "cell_type": "markdown",
   "id": "cc6ff49f-c013-451a-b463-cb44505c2466",
   "metadata": {},
   "source": [
    "##  Bold, italic"
   ]
  },
  {
   "cell_type": "code",
   "execution_count": null,
   "id": "7d1a3d1b-b6c8-40d4-95ed-2cac48f6f9af",
   "metadata": {},
   "outputs": [],
   "source": []
  },
  {
   "cell_type": "markdown",
   "id": "2b11da84-cace-4636-95d6-6425ac9cf6c3",
   "metadata": {
    "jp-MarkdownHeadingCollapsed": true
   },
   "source": [
    "### Список с числами и скобками\n",
    "\n",
    "Пишу (могу везде поставить 1):\n",
    "```\n",
    "1) Первый раздел.\n",
    "1) Второй раздел.\n",
    "1) Третий раздел.\n",
    "```\n",
    "Вижу (номера считает программа):\n",
    "1) Первый раздел.\n",
    "1) Второй раздел.\n",
    "1) Третий раздел.\n"
   ]
  },
  {
   "cell_type": "markdown",
   "id": "387c4478-8022-453e-ac4b-7a0d63fb726a",
   "metadata": {},
   "source": [
    "| Пишу | Вижу |\n",
    "|----|----|\n",
    "| `Это обычный текст.` | Это обычный текст. |\n",
    "| `*Это italic.*` | *Это italic.* |\n",
    "| `**Это bold**` | **Это bold** |\n",
    "| `***Это italic bold***` | ***Это italic bold*** |\n",
    "\n",
    "Можно вместо `*` использовать `_`\n",
    "\n",
    "| Пишу | Вижу |\n",
    "|----|----|\n",
    "| `Это обычный текст.` | Это обычный текст. |\n",
    "| `_Это italic._` | _Это italic._ |\n",
    "| `__Это bold__` | __Это bold__ |\n",
    "| `___Это italic bold___` | ___Это italic bold___ |"
   ]
  },
  {
   "cell_type": "markdown",
   "id": "ea5d0792-ac95-46bf-857b-1406c6c24871",
   "metadata": {},
   "source": [
    "## Список (List)"
   ]
  },
  {
   "cell_type": "markdown",
   "id": "e1d795b3-7013-45fd-a05d-dbc5db6192c5",
   "metadata": {},
   "source": [
    "### Список без номеров\n",
    "\n",
    "Пишу:\n",
    "```\n",
    "* Первый раздел.\n",
    "* Второй раздел.\n",
    "* Третий раздел.\n",
    "```\n",
    "Вижу:\n",
    "* Первый раздел.\n",
    "* Второй раздел.\n",
    "* Третий раздел."
   ]
  },
  {
   "cell_type": "markdown",
   "id": "4467225b-1ede-41e5-94de-6a53007d4ca8",
   "metadata": {},
   "source": [
    "### Список с числами\n",
    "\n",
    "Пишу (могу везде поставить 1):\n",
    "```\n",
    "1. Первый раздел.\n",
    "1. Второй раздел.\n",
    "1. Третий раздел.\n",
    "```\n",
    "Вижу (номера считает программа):\n",
    "1. Первый раздел.\n",
    "1. Второй раздел.\n",
    "1. Третий раздел.\n"
   ]
  },
  {
   "cell_type": "markdown",
   "id": "9aa5331e-30ad-4708-9d65-6be210184aea",
   "metadata": {
    "jp-MarkdownHeadingCollapsed": true
   },
   "source": [
    "### Вложенный список\n",
    "\n",
    "**Отступ - 1 табуляция или 4 пробела**\n",
    "\n",
    "Пишу (могу везде поставить 1):\n",
    "```\n",
    "1. Первый раздел.\n",
    "    * аааа\n",
    "        * и у него есть еще подраздел \n",
    "    * бббб\n",
    "    * вввв\n",
    "1. Второй раздел.\n",
    "    * подраздел один\n",
    "        1) подраздел подраздела\n",
    "```\n",
    "Вижу (номера считает программа):\n",
    "\n",
    "1. Первый раздел.\n",
    "    * аааа\n",
    "        * и у него есть еще подраздел \n",
    "    * бббб\n",
    "    * вввв\n",
    "1. Второй раздел.\n",
    "    * подраздел один\n",
    "        1) подраздел подраздела\n"
   ]
  },
  {
   "cell_type": "markdown",
   "id": "c9c1afa0-55da-4a1d-9a9b-a6dd321e76cb",
   "metadata": {},
   "source": [
    "## Таблица (Table)\n",
    "\n",
    "Пишу:\n",
    "```\n",
    "| Фамилия | Оценка |\n",
    "|----|----|\n",
    "| Иванов | 6 |\n",
    "| Петров  | 7 |\n",
    "| Кузнецов | 4 |\n",
    "```\n",
    "Вижу:\n",
    "| Фамилия | Оценка |\n",
    "|----|----|\n",
    "| Иванов | 6 |\n",
    "| Петров  | 7 |\n",
    "| Кузнецов | 4 |\n"
   ]
  },
  {
   "cell_type": "markdown",
   "id": "7fc38872-4707-4149-a63b-2b0151aecfd8",
   "metadata": {},
   "source": [
    "## Ссылка (Link)\n",
    "\n",
    "`[текст](URL)`\n",
    "\n",
    "Пишу:\n",
    "```\n",
    "Внутри текста можно сделать ссылку на [сайт МФТИ](https://mipt.ru/) и по ней можно перейти.\n",
    "```\n",
    "Вижу:\n",
    "\n",
    "Внутри текста можно сделать ссылку на [сайт МФТИ](https://mipt.ru/) и по ней можно перейти."
   ]
  },
  {
   "cell_type": "markdown",
   "id": "c2e2c6f8-d061-470e-974e-cd96ec9906ce",
   "metadata": {},
   "source": [
    "## Рисунок (Image)\n",
    "\n",
    "`![текст виден если не видно рисунка](путь к рисунку)`\n",
    "\n",
    "`![БПЛА на палубе](https://mipt.ru/upload/medialibrary/b0a/utfzfue1v1t3yhcfobtvmy6lk9gp3mko/bp1.jpg)`\n",
    "\n",
    "Вижу:\n",
    "![БПЛА на палубе](https://mipt.ru/upload/medialibrary/b0a/utfzfue1v1t3yhcfobtvmy6lk9gp3mko/bp1.jpg)"
   ]
  },
  {
   "cell_type": "markdown",
   "id": "1286d1da-803e-49df-8300-b7cbf84ac9ce",
   "metadata": {},
   "source": [
    "## Цитата (Blockquote)\n",
    "\n",
    "Начинается с `>` в начале строки.\n",
    "\n",
    "Пишу:\n",
    "\n",
    "`> Это цитата. Цитата может быть очень большой.`\n",
    "\n",
    "Вижу:\n",
    "> Это цитата. Цитата может быть очень большой.\n"
   ]
  },
  {
   "cell_type": "markdown",
   "id": "c6988644-1843-4835-9322-4cc4e3408a7d",
   "metadata": {},
   "source": [
    "## Код (Code)\n",
    "\n",
    "Пишу:\n",
    "\n",
    "```В тексте код можно написать внутри `обратных кавычек` (рядом с 1)```\n",
    "\n",
    "Вижу:\n",
    "\n",
    "В тексте код можно написать внутри `обратных кавычек` (рядом с 1)"
   ]
  },
  {
   "cell_type": "markdown",
   "id": "fcb696a9-1b93-4a5c-b9f5-888d71df2b36",
   "metadata": {},
   "source": [
    "Отдельный блок кода начинаем и заканчиваем 3 обратными кавычками:\n",
    "\n",
    "Пишу:\n",
    "\n",
    "<code>\n",
    "```\n",
    "x, y = map(int, input().split())\n",
    "print(x + y)\n",
    "```\n",
    "</code>\n",
    "Вижу:\n",
    "\n",
    "```\n",
    "x, y = map(int, input().split())\n",
    "print(x + y)\n",
    "```\n",
    "\n",
    "**Этот код НЕ выполняется. Это просто текст!**"
   ]
  },
  {
   "cell_type": "markdown",
   "id": "087871d2-50df-4e8c-8aa0-aa8265c5876f",
   "metadata": {},
   "source": [
    "# Математические формулы\n",
    "\n",
    "* https://en.wikibooks.org/wiki/LaTeX/Mathematics\n",
    "\n",
    "Формулу пишут внутри `$`.\n",
    "\n",
    "Пишу:\n",
    "```\n",
    "Внутри текста в один знак как $y = sin(x)$ или два знака - показывать на отдельной строке $$cos(\\pi n) = -1$$, где $n$ - целые числа.\n",
    "```\n",
    "Вижу:\n",
    "\n",
    "Внутри текста в один знак как $y = sin(x)$ или два знака - показывать на отдельной строке $$cos(\\pi n) = -1$$, где $n$ - целые числа."
   ]
  },
  {
   "cell_type": "markdown",
   "id": "ee4d9aba-e51d-44b0-9e45-eea7a4f4d359",
   "metadata": {},
   "source": [
    "### Как писать математические формулы?\n",
    "\n",
    "Найти LaTEX math editor. Например, https://latexeditor.lagrida.com/"
   ]
  },
  {
   "cell_type": "markdown",
   "id": "5947ece3-6aab-4ed4-a275-ddd72227e5c5",
   "metadata": {},
   "source": [
    "### $x^2$ и $A_i$\n",
    "\n",
    "* `^` - выше (superscript)\n",
    "* `_` - ниже (subscript)\n",
    "* `{}` - на одном уровне\n",
    "\n",
    "| Пишу | Вижу |\n",
    "|:----|:----|\n",
    "| `x^2` | $x^2$ |\n",
    "| `a_i` | $a_i$ |\n",
    "| `x^a+b` | $x^a+b$ |\n",
    "| `x^{a+b}` | $x^{a+b}$ |\n",
    "| `x^(a+b)` | $x^(a+b)$ (плохо) |\n",
    "| `x^{(a+b)}` | $x^{(a+b)}$ |\n",
    "| `4^{3^2}` | $4^{3^2}$ |\n",
    "| `a_n` | $a_n$ |\n",
    "| `a_{n-1}` | $a_{n-1}$ |\n",
    "| `a_{n-1}+b^2` | $a_{n-1}+b^2$ |\n",
    "| `a_{n-1}^2` | $a_{n-1}^2$ |\n",
    "\n",
    "Тригонометрические формулы лучше писать так:\n",
    "\n",
    "`\\cos (2\\theta) = \\cos^2 \\theta - \\sin^2 \\theta` и `\\cos^3 (2\\theta)`\n",
    "\n",
    "$$\\cos (2\\theta) = \\cos^2 \\theta - \\sin^2 \\theta$$ $$\\cos^3 (2\\theta)$$"
   ]
  },
  {
   "cell_type": "markdown",
   "id": "d91a0e0f-d777-4f07-97f1-b593cc74878b",
   "metadata": {},
   "source": [
    "### Специальные символы\n",
    "\n",
    "| Пишу | Вижу |\n",
    "|:----|:----|\n",
    "| `\\infty` | $\\infty$ |\n",
    "| `\\pm` | $\\pm$ |\n",
    "\n",
    "\n",
    "```\\forall x \\in X, \\quad \\exists y \\leq \\epsilon```\n",
    "\n",
    "$$\\forall x \\in X, \\quad \\exists y \\leq \\epsilon$$\n",
    "\n",
    "#### Специальное значение экранируем символом `\\`\n",
    "\n",
    "```\\# \\$ \\% \\& \\_ \\{ \\}```\n",
    "\n",
    "$$\\# \\$ \\% \\& \\_ \\{ \\}$$\n",
    "\n",
    "#### Греческие буквы - по названию\n",
    "\n",
    "```\\alpha, \\Alpha, \\beta, \\Beta, \\gamma, \\Gamma, \\pi, \\Pi, \\phi, \\varphi, \\mu, \\Phi```\n",
    "\n",
    "$$\\alpha, \\beta, \\gamma, \\Gamma, \\pi, \\Pi, \\phi, \\varphi, \\mu, \\Phi$$\n"
   ]
  },
  {
   "cell_type": "markdown",
   "id": "234772b2-11d7-4e17-ab4e-8ba2eb6a6a13",
   "metadata": {},
   "source": [
    "## $\\sqrt{2}$ и $\\sqrt[3]{x+y}$\n",
    "\n",
    "| Пишу | Вижу |\n",
    "|:----|:----|\n",
    "| `\\sqrt{2}` | $\\sqrt{2}$ |\n",
    "| `\\sqrt{x^2 + y^2}` | $\\sqrt{x^2 + y^2}$ |\n",
    "| `\\sqrt[3]{x}` | $\\sqrt[3]{x}$ |\n"
   ]
  },
  {
   "cell_type": "markdown",
   "id": "f631f851-6b09-4a45-b56d-bf9efde57270",
   "metadata": {},
   "source": [
    "## a / b функция `\\frac{a}{b}`\n",
    "\n",
    "| Пишу | Вижу |\n",
    "|:----|:----|\n",
    "| `\\frac{a}{b}` | $\\frac{a}{b}$ |\n",
    "| `\\frac{(a+1)(c+2)}{(x-1)(y-2)}` | $\\frac{(a+1)(c+2)}{(x-1)(y-2)}$ |\n",
    "| `\\frac{n!}{k!(n-k)!} = \\binom{n}{k}` | $\\frac{n!}{k!(n-k)!} = \\binom{n}{k}$ |\n",
    "| `\\mathrm{C}_{k}^{n} = \\frac{n!}{k!(n-k)!}` | $\\mathrm{C}_{k}^{n}= \\frac{n!}{k!(n-k)!}$ |\n",
    "\n",
    "Пишу:\n",
    "```\n",
    "$$\\tfrac{1}{2} + \\frac{1}{3} + \\frac{1+\\frac{1}{4}}{5} + \\frac{1+\\dfrac{1}{6}}{7}$$\n",
    "```\n",
    "Вижу:\n",
    "$$\\tfrac{1}{2} + \\frac{1}{3} + \\frac{1+\\frac{1}{4}}{5} + \\frac{1+\\dfrac{1}{6}}{7}$$\n"
   ]
  },
  {
   "cell_type": "markdown",
   "id": "72d83145-7520-4bf4-a14b-38ece8a51667",
   "metadata": {},
   "source": [
    "### Скобки\n",
    "\n",
    "Размер скобки в формуле изменяется автоматически. Размер можно задать так:\n",
    "\n",
    "`( \\big( \\Big( \\bigg( \\Bigg( x \\Bigg) \\bigg) \\Big) \\big) )`\n",
    "\n",
    "$$( \\big( \\Big( \\bigg( \\Bigg( x \\Bigg) \\bigg) \\Big) \\big) )$$\n",
    "\n",
    "`[ \\big[ \\Big[ \\bigg[ \\Bigg[ x \\Bigg] \\bigg] \\Big] \\big] ]`\n",
    "\n",
    "$$[ \\big[ \\Big[ \\bigg[ \\Bigg[ x \\Bigg] \\bigg] \\Big] \\big] ]$$\n",
    "\n",
    "`\\{ x \\}`\n",
    "\n",
    "$$\\{ x \\}$$"
   ]
  },
  {
   "cell_type": "markdown",
   "id": "0c645de3-eb11-4eb0-8a3d-2a7b0364eea7",
   "metadata": {},
   "source": [
    "## limit\n",
    "\n",
    "`\\lim\\limits_{x \\to \\infty} \\exp(-x) = 0`\n",
    "\n",
    "$$\\lim\\limits_{x \\to \\infty} \\exp(-x) = 0$$"
   ]
  },
  {
   "cell_type": "markdown",
   "id": "e9fb40bc-4625-48b1-888a-c9373bbf4df2",
   "metadata": {},
   "source": [
    "## Сумма и произведение\n",
    "\n",
    "`\\sum_{i=1}^{10} t_i`\n",
    "\n",
    "$$\\sum_{i=1}^{10} t_i$$"
   ]
  },
  {
   "cell_type": "markdown",
   "id": "50a9492d-be46-4b2e-959b-0cafa88e4767",
   "metadata": {},
   "source": [
    "Высокие формулы лучше писать на отдельных строках. Если они показываются некрасиво, можно делать так:\n",
    "\n",
    "| Пишу | Вижу |\n",
    "|:----|:----|\n",
    "| `\\sum_{i=1}^{10} t_i` | $\\sum_{i=1}^{10} t_i$ |\n",
    "| `\\displaystyle\\sum_{i=1}^{10} t_i` | $\\displaystyle\\sum_{i=1}^{10} t_i$ |,j),j)"
   ]
  },
  {
   "cell_type": "markdown",
   "id": "be781aa2-2465-4e9f-ad5c-5f9539e15243",
   "metadata": {},
   "source": [
    "| Пишу | Вижу |\n",
    "|:----|:----|\n",
    "| `\\sum` | $\\sum$ |\n",
    "| `\\prod` | $\\prod$ |\n",
    "| `\\bigcup` | $\\bigcup$ |\n",
    "| `\\bigvee` | $\\bigvee$ |\n",
    "| `\\int` | $\\int$ |\n",
    "| `\\oint` | $\\oint$ |\n",
    "| `\\iint` | $\\iint$ |\n",
    "| `\\iiint` | $\\iiint$ |\n",
    "| `\\idotsint` | $\\idotsint$ |\n",
    "\n",
    "`\\int_{1}^{\\infty} \\frac{1}{x} dx` $$\\int_{1}^{\\infty} \\frac{1}{x} dx$$\n",
    "\n",
    "`\\int\\limits_{1}^{\\infty} \\frac{1}{x} dx` $$\\int\\limits_{1}^{\\infty} \\frac{1}{x} dx$$\n",
    "\n",
    "`\\left.\\frac{x^3}{3}\\right|_0^1` $$\\left.\\frac{x^3}{3}\\right|_0^1$$\n"
   ]
  },
  {
   "cell_type": "markdown",
   "id": "c0371018-ab7a-4a1b-9154-057cdb7d3e9e",
   "metadata": {},
   "source": [
    "## Выравнивание\n",
    "```latex\n",
    "f(n) =\r\n",
    "  \\begin{cases}\r\n",
    "    n/2       & \\quad \\text{if } n \\text{ is even}\\\\\r\n",
    "    -(n+1)/2  & \\quad \\text{if } n \\text{ is odd}\r\n",
    "  \\end{ca\n",
    "```\n",
    "\n",
    "Пишем в отдельной ячейке!}\r\n",
    "\\]}\r\n",
    "\\]"
   ]
  },
  {
   "cell_type": "markdown",
   "id": "df47dba2-a78a-4255-9156-736545a2e8b2",
   "metadata": {},
   "source": [
    "$$\n",
    "f(n) =\n",
    "  \\begin{cases}\n",
    "    n/2       & \\quad \\text{if } n \\text{ is even}\\\\\n",
    "    -(n+1)/2  & \\quad \\text{if } n \\text{ is odd}\n",
    "  \\end{cases}\n",
    "$$"
   ]
  },
  {
   "cell_type": "markdown",
   "id": "95407f65-c825-4b12-970d-2563d008fdcc",
   "metadata": {},
   "source": [
    "## Матрицы\n",
    "\n",
    "* `&` - разделитель в строке\n",
    "* `\\\\` - конец строки\n",
    "\n",
    "```\n",
    "\\begin{pmatrix}\r\n",
    "a & b \\\\\r\n",
    "c & d\r\n",
    "\\end{pmatr\n",
    "```ix}$$\n"
   ]
  },
  {
   "cell_type": "markdown",
   "id": "a9cba003-5f66-4a26-b28d-e084db106503",
   "metadata": {},
   "source": [
    "$$\\begin{pmatrix}\n",
    "a & b \\\\\n",
    "c & d\n",
    "\\end{pmatrix}$$"
   ]
  },
  {
   "cell_type": "markdown",
   "id": "8f574929-62f8-4be5-b65d-60ea8c3d7f4d",
   "metadata": {},
   "source": [
    "```\n",
    "\\begin{vmatrix}\n",
    "a & b \\\\\n",
    "c & d\n",
    "\\end{vmatrix}\n",
    "```"
   ]
  },
  {
   "cell_type": "markdown",
   "id": "0494f3bc-59fe-4309-a3b2-fd3a71d385af",
   "metadata": {},
   "source": [
    "$$\\begin{vmatrix}\n",
    "a & b \\\\\n",
    "c & d\n",
    "\\end{vmatrix}$$"
   ]
  },
  {
   "cell_type": "markdown",
   "id": "e47c56e5-0c56-489f-959a-32c5c8e6caa7",
   "metadata": {},
   "source": [
    "| Пишу | Вижу |\n",
    "|:----|:----|\n",
    "| `` | $$ |\n",
    "| `` | $$ |\n"
   ]
  }
 ],
 "metadata": {
  "kernelspec": {
   "display_name": "Python 3 (ipykernel)",
   "language": "python",
   "name": "python3"
  },
  "language_info": {
   "codemirror_mode": {
    "name": "ipython",
    "version": 3
   },
   "file_extension": ".py",
   "mimetype": "text/x-python",
   "name": "python",
   "nbconvert_exporter": "python",
   "pygments_lexer": "ipython3",
   "version": "3.10.2"
  }
 },
 "nbformat": 4,
 "nbformat_minor": 5
}
