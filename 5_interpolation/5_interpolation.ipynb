{
 "cells": [
  {
   "cell_type": "markdown",
   "metadata": {},
   "source": [
    "# Интерполяция"
   ]
  },
  {
   "cell_type": "markdown",
   "metadata": {},
   "source": [
    "[Wikipedia](https://en.wikipedia.org/wiki/Interpolation)\n",
    "\n",
    "Задача интерполяции - построить достаточно гладкую кривую, которая гарантированно проходит через заданные точки.\n",
    "\n",
    "Дано: точки $(x_1, y_1), (x_2, y_2), ... (x_n, y_n)$\n",
    "\n",
    "Найти: уравнение кривой, которая проходит через все эти точки и достаточно гладкая (например, непрерывна функция, ее первая и вторая производные)."
   ]
  },
  {
   "cell_type": "markdown",
   "metadata": {},
   "source": [
    "### Термины"
   ]
  },
  {
   "cell_type": "markdown",
   "metadata": {},
   "source": [
    "Рассмотрим систему несовпадающих точек $x_i$ (i = 1..N).\n",
    "\n",
    "Пусть значения функции φ известны только в этих точках: $y_i = φ(x_i)$, i = 1..N\n",
    "\n",
    "Задача интерполяции состоит в поиске такой функции F из **заданного класса функций** , что\n",
    "\n",
    "$$F(x_i) = y_i, \\text{при } i=1..N$$"
   ]
  },
  {
   "cell_type": "markdown",
   "metadata": {},
   "source": [
    "* точки $x_i$ называют **узлы интерполяции**\n",
    "* пары $(x_i, y_i)$ называют точками данных или **базовыми точками** .\n",
    "* Разность между соседними значениями $dx_i = x_i - x_{i-1}$ это **шаг интерполяционной сетки** . Он может быть как переменным, так и постоянным.\n",
    "* Функция F(x) - **интерполирующая функция** или **интерполянт**"
   ]
  },
  {
   "cell_type": "markdown",
   "metadata": {},
   "source": [
    "### Где нужно решать эту задачу?¶"
   ]
  },
  {
   "cell_type": "markdown",
   "metadata": {},
   "source": [
    "Пусть у вас есть деталь ракеты или другого сложного устройства. Вы хотите изготовить такую же. Для этого на автоматическом станке С ЧПУ нужно задать форму, по которой будет обтачиваться деталь. Шаг задания кривой должен быть очень маленький. Реальные замеры идут с большим шагом. Нужно по нескольким замерам построить набор точек с гораздо меньшим шагом (в 100-1000 раз меньше).\n",
    "![](https://si-3.ru/wp-content/uploads/2019/07/tokarnyj-po-metallu_19.jpg)"
   ]
  },
  {
   "cell_type": "markdown",
   "metadata": {},
   "source": [
    "## Теория: как решать задачу интерполяции"
   ]
  },
  {
   "cell_type": "markdown",
   "metadata": {},
   "source": [
    "Как решать? Попробуем провести через заданные точки кривую. Какую кривую можно точно провести через n точек?\n",
    "\n",
    "Будем искать кривую в виде степенного полинома $f(x) = a_0 + a_1 x + a_2 x^2 + ... + a_k x^k$. Полином какой степени нужен?"
   ]
  },
  {
   "cell_type": "markdown",
   "metadata": {},
   "source": [
    "* Возьмем 1 точку $(x_1, y_1)$ . Через нее проходит 1 горизонтальная прямая $y = y_1$ и много прямых вида $a_0 + a_1 x$.\n",
    "\n",
    "_Тут должен быть рисунок_"
   ]
  },
  {
   "cell_type": "markdown",
   "metadata": {},
   "source": [
    "* Возьмем 2 точки $(x_1, y_1)$ и $(x_2, y_2)$. Через них проходит 1 прямая $a_0 + a_1 x$ и много парабол вида $a_0 + a_1 x + a_2 x^2$.\n",
    "\n",
    "_Тут должен быть рисунок_"
   ]
  },
  {
   "cell_type": "markdown",
   "metadata": {},
   "source": [
    "* Возьмем 3 точки $(x_1, y_1)$,  $(x_2, y_2)$ и  $(x_3, y_3)$. Через них проходит 1 парабола (если они не лежат на 1 прямой) и много кубических функций вида $a_0 + a_1 x + a_2 x^2 + a_3 x^3$.\n",
    "\n",
    "_Тут должен быть рисунок_"
   ]
  },
  {
   "cell_type": "markdown",
   "metadata": {},
   "source": [
    "Обобщим:\n",
    "\n",
    "* Возьмем $n$ точек $(x_1, y_1)$,  $(x_2, y_2)$ ..  $(x_n, y_n)$. \n",
    "* Через них проходит 1 функция вида $a_0 + a_1 x + a_2 x^2 +..+ a_{n-1} x^{n-1}$ и \n",
    "* много функций вида $a_0 + a_1 x + a_2 x^2 +..+ a_n x^n$.\n"
   ]
  },
  {
   "cell_type": "markdown",
   "metadata": {},
   "source": [
    "Найдем коэффициенты $a_0, a_1, ..a_{n-1}$. Запишем для каждой из точек $(x_1, y_1)$,  $(x_2, y_2)$ ..  $(x_n, y_n)$ уравнения. Получим систему уравнений. Решим ее относительно $a_0, a_1, ..a_{n-1}$."
   ]
  },
  {
   "cell_type": "markdown",
   "metadata": {},
   "source": [
    " \\begin{cases}\n",
    "   y_1 = a_0 + a_1 x_1 + a_2 x_1^2 +..+ a_{n-1} x_1^{n-1} &\\text{точка } (x_1, y_1)\\\\\n",
    "   y_2 = a_0 + a_1 x_2 + a_2 x_2^2 +..+ a_{n-1} x_2^{n-1} &\\text{точка } (x_2, y_2)\\\\\n",
    "   ...\\\\\n",
    "   y_n = a_0 + a_1 x_n + a_2 x_n^2 +..+ a_{n-1} x_n^{n-1} &\\text{точка } (x_n, y_n)\\\\\n",
    " \\end{cases}\n"
   ]
  },
  {
   "cell_type": "markdown",
   "metadata": {},
   "source": [
    "Тут $n$ уравнений и $n$ неизвестных $a_0, a_1, ..a_{n-1}$. Обычно имеется однозначное решение (если система линейно независима).\n",
    "\n",
    "Можно вспомнить матрицы numpy и sympy. Можно вспомнить, что sympy есть функция `solve`, которая умеет решать системы уравнений. Но еще проще воспользоваться пакетом `numpy.polynomial` и функцией **fit**"
   ]
  },
  {
   "cell_type": "markdown",
   "metadata": {},
   "source": [
    "## Решение задачи интерполяции степенным полиномом"
   ]
  },
  {
   "cell_type": "markdown",
   "metadata": {},
   "source": [
    "Фукнцию $a_0 + a_1 x + a_2 x^2 +..+ a_n x^n$ называют степенным полиномом степени $n$. \n",
    "\n",
    "Для работы с полиномами в numpy есть модуль polynomial. "
   ]
  },
  {
   "cell_type": "markdown",
   "metadata": {},
   "source": [
    "Сначала нужно написать import."
   ]
  },
  {
   "cell_type": "code",
   "execution_count": 44,
   "metadata": {},
   "outputs": [],
   "source": [
    "import numpy as np\n",
    "from numpy import polynomial as P     # подключаем модуль для всех полиномов"
   ]
  },
  {
   "cell_type": "markdown",
   "metadata": {},
   "source": [
    "Нам даных точки х и у. Запишем их."
   ]
  },
  {
   "cell_type": "code",
   "execution_count": 45,
   "metadata": {},
   "outputs": [
    {
     "data": {
      "text/plain": [
       "array([1, 2, 3, 4])"
      ]
     },
     "execution_count": 45,
     "metadata": {},
     "output_type": "execute_result"
    }
   ],
   "source": [
    "x = np.array([1, 2, 3, 4])\n",
    "x"
   ]
  },
  {
   "cell_type": "code",
   "execution_count": 46,
   "metadata": {},
   "outputs": [
    {
     "data": {
      "text/plain": [
       "array([1, 3, 5, 4])"
      ]
     },
     "execution_count": 46,
     "metadata": {},
     "output_type": "execute_result"
    }
   ],
   "source": [
    "y = np.array([1, 3, 5, 4])\n",
    "y"
   ]
  },
  {
   "cell_type": "markdown",
   "metadata": {},
   "source": [
    "максимальная степень полинома - на 1 меньше, чем количество точек"
   ]
  },
  {
   "cell_type": "code",
   "execution_count": 47,
   "metadata": {},
   "outputs": [
    {
     "data": {
      "text/plain": [
       "3"
      ]
     },
     "execution_count": 47,
     "metadata": {},
     "output_type": "execute_result"
    }
   ],
   "source": [
    "deg = len(x) -1    # deg - степень полинома, len(x) - количество элементов в х\n",
    "deg"
   ]
  },
  {
   "cell_type": "markdown",
   "metadata": {},
   "source": [
    "Построим интерполяционный многочлен (**полиномиальный**), используя функцию **fit**."
   ]
  },
  {
   "cell_type": "code",
   "execution_count": 48,
   "metadata": {},
   "outputs": [
    {
     "data": {
      "text/latex": [
       "$x \\mapsto \\text{4.187500000000003} + \\text{3.187499999999996}\\,\\left(\\text{-1.6666666666666667} + \\text{0.6666666666666666}x\\right) - \\text{1.687500000000004}\\,\\left(\\text{-1.6666666666666667} + \\text{0.6666666666666666}x\\right)^{2} - \\text{1.6874999999999973}\\,\\left(\\text{-1.6666666666666667} + \\text{0.6666666666666666}x\\right)^{3}$"
      ],
      "text/plain": [
       "Polynomial([ 4.1875,  3.1875, -1.6875, -1.6875], domain=[1., 4.], window=[-1.,  1.])"
      ]
     },
     "execution_count": 48,
     "metadata": {},
     "output_type": "execute_result"
    }
   ],
   "source": [
    "f1b = P.Polynomial.fit(x, y, deg)\n",
    "f1b"
   ]
  },
  {
   "cell_type": "markdown",
   "metadata": {},
   "source": [
    "### Рисуем точки и полученный полином"
   ]
  },
  {
   "cell_type": "code",
   "execution_count": 49,
   "metadata": {},
   "outputs": [],
   "source": [
    "import matplotlib.pyplot as plt"
   ]
  },
  {
   "cell_type": "code",
   "execution_count": 50,
   "metadata": {},
   "outputs": [],
   "source": [
    "xx = np.linspace(x.min(), x.max(), 100)     # много точек по оси Х"
   ]
  },
  {
   "cell_type": "code",
   "execution_count": 51,
   "metadata": {},
   "outputs": [
    {
     "data": {
      "text/plain": [
       "<matplotlib.legend.Legend at 0x2c14a1abb48>"
      ]
     },
     "execution_count": 51,
     "metadata": {},
     "output_type": "execute_result"
    },
    {
     "data": {
      "image/png": "[encoded data removed]",
      "text/plain": [
       "<Figure size 864x288 with 1 Axes>"
      ]
     },
     "metadata": {
      "needs_background": "light"
     },
     "output_type": "display_data"
    }
   ],
   "source": [
    "fig, ax = plt.subplots(1, 1, figsize=(12, 4))\n",
    "ax.set_title('Интерполяция полиномиальными многочленами')\n",
    "ax.plot(xx, f1b(xx), 'b', label='полиномиальный')\n",
    "ax.plot(x, y, 'go', label='узлы интерполяции')\n",
    "ax.legend()"
   ]
  },
  {
   "cell_type": "markdown",
   "metadata": {},
   "source": [
    "## Теория: какие бывают полиномы (базисы функций для интерполяции)"
   ]
  },
  {
   "cell_type": "markdown",
   "metadata": {},
   "source": [
    "Мы будем записывать интерполяционную функцию как линейную комбинацию некоторых базисных функций $f_j(x)$:\n",
    "\n",
    "$$F(x) = c_1f_1(x) + c_2f_2(x) +..+ c_Nf_N(x)$$\n",
    "\n",
    "Можно брать разные базисы функций (в базисе ни одна функция не может быть линейной комбинацией остальных функций базиса), например [ортогональные многочлены](https://en.wikipedia.org/wiki/Orthogonal_polynomials). Наиболее известные ортогональные многочлены:\n",
    "\n",
    "* Степенные функции $1, x, x^2, .. x^N$ - решали задачу интерполяции на этом базисе\n",
    "* [Многочлены Эрмита](https://en.wikipedia.org/wiki/Hermite_polynomials)\n",
    "* [Многочлены Лагранжа](https://en.wikipedia.org/wiki/Legendre_polynomials)\n",
    "* [Многочлены Лагера](https://en.wikipedia.org/wiki/Laguerre_polynomials)\n",
    "* [Многочлены Чебышева](https://en.wikipedia.org/wiki/Chebyshev_polynomials)\n",
    "\n",
    "Аналогично, например, можем задать многочлен Чебышева с коэффициентами 1, 2, 3, т.е. полином $1T_1+2T_2+3T_3$, где $T_i(x)$ - многочлен Чебышева порядка i"
   ]
  },
  {
   "cell_type": "markdown",
   "metadata": {},
   "source": [
    "### В каком пакете реализован многочлен"
   ]
  },
  {
   "cell_type": "markdown",
   "metadata": {},
   "source": [
    "| Многочлен | Пакет | Класс |\n",
    "|:----|:-----|:----|\n",
    "| Степенные функции $1, x, x^2, .. x^N$ | [numpy.polynomial.polynomial](https://docs.scipy.org/doc/numpy/reference/routines.polynomials.polynomial.html) | Polynomial |\n",
    "| [Многочлены Чебышева](https://en.wikipedia.org/wiki/Chebyshev_polynomials) | [numpy.polynomial.chebyshev](https://docs.scipy.org/doc/numpy/reference/routines.polynomials.chebyshev.html) | Chebyshev |\n",
    "| [Многочлены Лагранжа](https://en.wikipedia.org/wiki/Legendre_polynomials) | [numpy.polynomial.legendre](https://docs.scipy.org/doc/numpy/reference/routines.polynomials.legendre.html) | Legendre |\n",
    "| [Многочлены Лагера](https://en.wikipedia.org/wiki/Laguerre_polynomials) | [numpy.polynomial.laguerre](https://docs.scipy.org/doc/numpy/reference/routines.polynomials.laguerre.html) | Laguerre |\n",
    "| [Многочлены Эрмита](https://en.wikipedia.org/wiki/Hermite_polynomials) (\"физическое\" оределение) | [numpy.polynomial.hermite](https://docs.scipy.org/doc/numpy/reference/routines.polynomials.hermite.html) | Hermite |\n",
    "| [Многочлены Эрмита](https://en.wikipedia.org/wiki/Hermite_polynomials) (\"вероятностное\" оределение) | [numpy.polynomial.hermite_e](https://docs.scipy.org/doc/numpy/reference/routines.polynomials.hermite_e.html) | HermiteE |"
   ]
  },
  {
   "cell_type": "markdown",
   "metadata": {},
   "source": [
    "В каждом классе полиновом реализована функция **fit**. Она находит коэффициенты интерполяционного многочлена для своего набора базисных функций.\n",
    "\n",
    "Решим задачу интерполяции для степенного многочлена и многочлена Чебышева."
   ]
  },
  {
   "cell_type": "markdown",
   "metadata": {},
   "source": [
    "## Решение: задача интерполяции степенным многочленом и многочленом Чебышева"
   ]
  },
  {
   "cell_type": "code",
   "execution_count": 52,
   "metadata": {},
   "outputs": [],
   "source": [
    "import numpy as np\n",
    "from numpy import polynomial as P     # подключаем модуль для всех полиномов"
   ]
  },
  {
   "cell_type": "markdown",
   "metadata": {},
   "source": [
    "Записываем входные данные:"
   ]
  },
  {
   "cell_type": "code",
   "execution_count": 53,
   "metadata": {},
   "outputs": [
    {
     "data": {
      "text/plain": [
       "array([1, 2, 3, 4])"
      ]
     },
     "execution_count": 53,
     "metadata": {},
     "output_type": "execute_result"
    }
   ],
   "source": [
    "x = np.array([1, 2, 3, 4])\n",
    "x"
   ]
  },
  {
   "cell_type": "code",
   "execution_count": 54,
   "metadata": {},
   "outputs": [
    {
     "data": {
      "text/plain": [
       "array([1, 3, 5, 4])"
      ]
     },
     "execution_count": 54,
     "metadata": {},
     "output_type": "execute_result"
    }
   ],
   "source": [
    "y = np.array([1, 3, 5, 4])\n",
    "y"
   ]
  },
  {
   "cell_type": "code",
   "execution_count": 55,
   "metadata": {},
   "outputs": [
    {
     "data": {
      "text/plain": [
       "3"
      ]
     },
     "execution_count": 55,
     "metadata": {},
     "output_type": "execute_result"
    }
   ],
   "source": [
    "deg = len(x) -1    # deg - степень полинома, len(x) - количество элементов в х\n",
    "deg"
   ]
  },
  {
   "cell_type": "markdown",
   "metadata": {},
   "source": [
    "Проверяем, что количество х координат и y координат совпадает"
   ]
  },
  {
   "cell_type": "code",
   "execution_count": 56,
   "metadata": {},
   "outputs": [
    {
     "data": {
      "text/plain": [
       "True"
      ]
     },
     "execution_count": 56,
     "metadata": {},
     "output_type": "execute_result"
    }
   ],
   "source": [
    "len(x) == len(y)"
   ]
  },
  {
   "cell_type": "markdown",
   "metadata": {},
   "source": [
    "Находим коэффициенты разложения по базисам и получаем выражения fb1 и fb2"
   ]
  },
  {
   "cell_type": "code",
   "execution_count": 57,
   "metadata": {},
   "outputs": [
    {
     "data": {
      "text/latex": [
       "$x \\mapsto \\text{4.187500000000003} + \\text{3.187499999999996}\\,\\left(\\text{-1.6666666666666667} + \\text{0.6666666666666666}x\\right) - \\text{1.687500000000004}\\,\\left(\\text{-1.6666666666666667} + \\text{0.6666666666666666}x\\right)^{2} - \\text{1.6874999999999973}\\,\\left(\\text{-1.6666666666666667} + \\text{0.6666666666666666}x\\right)^{3}$"
      ],
      "text/plain": [
       "Polynomial([ 4.1875,  3.1875, -1.6875, -1.6875], domain=[1., 4.], window=[-1.,  1.])"
      ]
     },
     "execution_count": 57,
     "metadata": {},
     "output_type": "execute_result"
    }
   ],
   "source": [
    "f1b = P.Polynomial.fit(x, y, deg)    # степенной\n",
    "f1b"
   ]
  },
  {
   "cell_type": "code",
   "execution_count": 58,
   "metadata": {},
   "outputs": [
    {
     "data": {
      "text/latex": [
       "$x \\mapsto \\text{3.3437500000000004}\\,{T}_{0}(\\text{-1.6666666666666667} + \\text{0.6666666666666666}x) + \\text{1.9218749999999991}\\,{T}_{1}(\\text{-1.6666666666666667} + \\text{0.6666666666666666}x) - \\text{0.8437500000000021}\\,{T}_{2}(\\text{-1.6666666666666667} + \\text{0.6666666666666666}x) - \\text{0.42187499999999944}\\,{T}_{3}(\\text{-1.6666666666666667} + \\text{0.6666666666666666}x)$"
      ],
      "text/plain": [
       "Chebyshev([ 3.34375 ,  1.921875, -0.84375 , -0.421875], domain=[1., 4.], window=[-1.,  1.])"
      ]
     },
     "execution_count": 58,
     "metadata": {},
     "output_type": "execute_result"
    }
   ],
   "source": [
    "f2b = P.Chebyshev.fit(x, y, deg)     # Чебышева\n",
    "f2b"
   ]
  },
  {
   "cell_type": "markdown",
   "metadata": {},
   "source": [
    "Рисуем график точек и двух интерополяционных многочленов (в степенном базисе и в базисе из многочленов Чебышева)."
   ]
  },
  {
   "cell_type": "code",
   "execution_count": 59,
   "metadata": {},
   "outputs": [],
   "source": [
    "import matplotlib.pyplot as plt"
   ]
  },
  {
   "cell_type": "code",
   "execution_count": 60,
   "metadata": {},
   "outputs": [],
   "source": [
    "xx = np.linspace(x.min(), x.max(), 100)"
   ]
  },
  {
   "cell_type": "code",
   "execution_count": 61,
   "metadata": {},
   "outputs": [
    {
     "data": {
      "text/plain": [
       "<matplotlib.legend.Legend at 0x2c14a5bbec8>"
      ]
     },
     "execution_count": 61,
     "metadata": {},
     "output_type": "execute_result"
    },
    {
     "data": {
      "image/png": "[encoded data removed]",
      "text/plain": [
       "<Figure size 864x288 with 1 Axes>"
      ]
     },
     "metadata": {
      "needs_background": "light"
     },
     "output_type": "display_data"
    }
   ],
   "source": [
    "fig, ax = plt.subplots(1, 1, figsize=(12, 4))\n",
    "ax.set_title('Интерполяция полиномиальными многочленами и многочленами Чебышева')\n",
    "ax.plot(xx, f1b(xx), 'b', label='полиномиальный')\n",
    "ax.plot(xx, f2b(xx), 'r--', label='Чебышева')\n",
    "ax.plot(x, y, 'go', label='узлы интерполяции')\n",
    "ax.legend()"
   ]
  },
  {
   "cell_type": "markdown",
   "metadata": {},
   "source": [
    "**ЭТО НУЖНО СДЕЛАТЬ В ДОМАШНЕЙ РАБОТЕ**. Как видите, интерполяционные кривые почти совпадают."
   ]
  },
  {
   "cell_type": "markdown",
   "metadata": {},
   "source": [
    "## Когда интерполяционные многочлены дают плохой результат (пример биений на функции Рунге)"
   ]
  },
  {
   "cell_type": "markdown",
   "metadata": {},
   "source": [
    "Интерполяция многочленами небольшого количества точек - мощный и полезный математический инструмент. Но если количество точек растет, то растет и наибольшая степень интерполяционного многочлена, что приводит к проблемам.\n",
    "\n",
    "Полученная функция резко изменяется за пределами отрезка интерполяции. Но что более неприятно, полиномы высокой степени нехорошо себя ведут и между точками интерполяции. Хотя в точках значения полиномов разных степеней совпадают, но между ними начинают появляться биения."
   ]
  },
  {
   "cell_type": "markdown",
   "metadata": {},
   "source": [
    "Рассмотрим, как решается задача интерполяции уже известной функции. Как будет отличаться интерполяционная функция от оригинала.\n",
    "\n",
    "Возьмем функцию Рунге $$y = \\frac{1}{1 + 25 x^2}$$\n",
    "\n",
    "Она достаточно гладкая на $[-1, 1]$. Интерполируем ее полиномами разной степени и посмотрим на результат."
   ]
  },
  {
   "cell_type": "code",
   "execution_count": 62,
   "metadata": {},
   "outputs": [],
   "source": [
    "# функция возвращает значение y(х)\n",
    "def runge(x):\n",
    "    return 1 / (1 + 25*x**2)"
   ]
  },
  {
   "cell_type": "markdown",
   "metadata": {},
   "source": [
    "Проверим ее работу:"
   ]
  },
  {
   "cell_type": "code",
   "execution_count": 63,
   "metadata": {},
   "outputs": [
    {
     "data": {
      "text/plain": [
       "1.0"
      ]
     },
     "execution_count": 63,
     "metadata": {},
     "output_type": "execute_result"
    }
   ],
   "source": [
    "runge(0)"
   ]
  },
  {
   "cell_type": "code",
   "execution_count": 64,
   "metadata": {},
   "outputs": [
    {
     "data": {
      "text/plain": [
       "0.038461538461538464"
      ]
     },
     "execution_count": 64,
     "metadata": {},
     "output_type": "execute_result"
    }
   ],
   "source": [
    "runge(1)"
   ]
  },
  {
   "cell_type": "markdown",
   "metadata": {},
   "source": [
    "Напишем функцию, которая создает $n$ точек на отрезке $[-1, 1]$ и строит по этим точкам интерполяционный полином степени $n-1$"
   ]
  },
  {
   "cell_type": "code",
   "execution_count": 65,
   "metadata": {},
   "outputs": [],
   "source": [
    "def runge_interpolate(n):\n",
    "    x = np.linspace(-1, 1, n)\n",
    "    f = P.Polynomial.fit(x, runge(x), n)\n",
    "    return x, f"
   ]
  },
  {
   "cell_type": "markdown",
   "metadata": {},
   "source": [
    "Нарисуем графики исходной фукнции Рунге и интеполяционных многочленов 13 и 14 порядков:"
   ]
  },
  {
   "cell_type": "code",
   "execution_count": 66,
   "metadata": {},
   "outputs": [
    {
     "name": "stderr",
     "output_type": "stream",
     "text": [
      "C:\\ProgramData\\Anaconda3\\lib\\site-packages\\numpy\\polynomial\\polynomial.py:1336: RankWarning: The fit may be poorly conditioned\n",
      "  return pu._fit(polyvander, x, y, deg, rcond, full, w)\n"
     ]
    },
    {
     "data": {
      "text/plain": [
       "<matplotlib.legend.Legend at 0x2c14a644d88>"
      ]
     },
     "execution_count": 66,
     "metadata": {},
     "output_type": "execute_result"
    },
    {
     "data": {
      "image/png": "[encoded data removed]",
      "text/plain": [
       "<Figure size 576x288 with 1 Axes>"
      ]
     },
     "metadata": {
      "needs_background": "light"
     },
     "output_type": "display_data"
    }
   ],
   "source": [
    "import matplotlib.pyplot as plt\n",
    "import numpy as np\n",
    "from numpy import polynomial as P     # подключаем модуль для всех полиномов\n",
    "\n",
    "xx = np.linspace(-1, 1, 250)     # это точки х для рисования графиков\n",
    "\n",
    "x13, p13 = runge_interpolate(13)\n",
    "x14, p14 = runge_interpolate(14)\n",
    "\n",
    "fig, ax = plt.subplots(1, 1, figsize=(8, 4))\n",
    "ax.plot(xx, runge(xx), 'b', label='runge')\n",
    "ax.plot(xx, p13(xx), 'r', label='n=13')\n",
    "ax.plot(xx, p14(xx), 'g', label='n=14')\n",
    "ax.plot(x13, runge(x13), 'ro', label='узлы интерполяции 13')\n",
    "ax.plot(x14, runge(x14), 'go', label='узлы интерполяции 14')\n",
    "\n",
    "# ax.set_ylim([-1, 1])\n",
    "ax.legend()"
   ]
  },
  {
   "cell_type": "markdown",
   "metadata": {},
   "source": [
    "Если у вас появилось красное сообщение \n",
    "```\n",
    "C:\\ProgramData\\Anaconda3\\lib\\site-packages\\numpy\\polynomial\\polynomial.py:1336: RankWarning: The fit may be poorly conditioned\n",
    "  return pu._fit(polyvander, x, y, deg, rcond, full, w)\n",
    "```\n",
    "То вас просят хорошо проверить, как интерполяционный полином интерполирует эти точки. Если хорошо, то это не ошибка. Но может быть так же плохо, как в фукнции Рунге. И вам рекоменуют понизить количество точек интерполяции.\n",
    "\n",
    "Заметим, что самые большие биения (отклонение от оригинала) у нас по краям. Что делать? Очень большие ошибки!"
   ]
  },
  {
   "cell_type": "markdown",
   "metadata": {},
   "source": [
    "## Сплайн-интерполяция"
   ]
  },
  {
   "cell_type": "markdown",
   "metadata": {},
   "source": [
    "В фукнции Рунге результат интерполяции был бы с меньшими ошибками, если бы мы просто соединили соседние точки прямыми.\n",
    "\n",
    "Если вместо прямых взять квадратные или кубические функции и сделать так, чтобы они имели непрерывные производные в точках интерполяции, то мы получим интерполяцию квадратичными (или кубическими) сплайнами.\n",
    "\n",
    "Подробнее о математике сплайнов можно прочитать в [лекции Цыбулина](http://314159.ru/hht/splines.pdf) (МФТИ), кто не хочет много математики, может не читать."
   ]
  },
  {
   "cell_type": "markdown",
   "metadata": {},
   "source": [
    "Напишем это для 3 точек $(x_1, y_1), (x_2, y_2), (x_3, y_3)$. Эти точки даны.\n",
    "\n",
    "Будем искать 2 прямые. Одна проходит через точки $(x_1, y_1), (x_2, y_2)$, вторая через $(x_2, y_2), (x_3, y_3)$.\n",
    "\n",
    "Обозначим эти прямые как \n",
    " $$\\begin{matrix}\n",
    "   f_1(x) = a_{10} + a_{11} x\\\\\n",
    "   f_2(x) = a_{20} + a_{21} x\\\\\n",
    "  \\end{matrix}$$\n",
    "\n",
    "Коэффициенты $a_{10}, a_{11}, a_{20}, a_{21}$ найдем из граничных условий. \n",
    "\n",
    "Прямая $f_1$ проходит через точки $(x_1, y_1), (x_2, y_2)$. Запишем это в виде системы. Из нее можно найти $a_{10}, a_{11}$\n",
    "\n",
    " $$\\begin{cases}\n",
    "   y_1 = a_{10} + a_{11} x_1  &\\text{прямая f1, точка } (x_1, y_1)\\\\\n",
    "   y_2 = a_{10} + a_{11} x_2  &\\text{прямая f1, точка } (x_2, y_2)\\\\\n",
    "\\end{cases}\n",
    "$$\n",
    "\n",
    "Прямая  $f_2$  через $(x_2, y_2), (x_3, y_3)$. Запишем это в виде системы. Из нее можно найти $a_{20}, a_{21}$\n",
    "$$\\begin{cases}   \n",
    "   y_2 = a_{20} + a_{21} x_2  &\\text{прямая f2, точка } (x_2, y_2)\\\\\n",
    "   y_3 = a_{20} + a_{21} x_3  &\\text{прямая f2, точка } (x_3, y_3)\\\\\n",
    "  \\end{cases}$$\n",
    "\n",
    "Так как $f_1$ и $f_2$ - полиномы 1 степени (линии), то эти прямые называют **линейными сплайнами** или **сплайн интерполяцией 1 порядка**."
   ]
  },
  {
   "cell_type": "markdown",
   "metadata": {},
   "source": [
    "![](https://raw.githubusercontent.com/tatyderb/m2020/master/5_interpolation/img/tzibulin_spline1.png)"
   ]
  },
  {
   "cell_type": "markdown",
   "metadata": {},
   "source": [
    "Но прямыми соединять не хорошо. Полученная функция не имеет производной в точках интерполяции (не гладкая).\n",
    "\n",
    "Возьмем кубические функции. Через 2 точки можно провести много кубических функций. Будем соединять 3 точки не 2 отрезками, а 2 кубическими фукнциями так, чтобы в средней точке у функции была производная 1 и 2 порядков. Более того, производная непрерывная. Это называется **кубической сплайн интерполяцией** или **сплайн интерполяцией 3 степени**."
   ]
  },
  {
   "cell_type": "markdown",
   "metadata": {},
   "source": [
    "![](https://raw.githubusercontent.com/tatyderb/m2020/master/5_interpolation/img/tzibulin_spline2.png)"
   ]
  },
  {
   "cell_type": "markdown",
   "metadata": {},
   "source": [
    "## Решение: нахождение сплайн интерполяции"
   ]
  },
  {
   "cell_type": "markdown",
   "metadata": {},
   "source": [
    "Можно построить сплайн интерполяцию нужной степени с помощью библиотеки ScyPy, функции `scipy.interpolate.interp1d`\n",
    "\n",
    "**interp1d(x, y, kind)** \n",
    "* x и y  - набор х и y координат базовых точек интерполяции\n",
    "* kind - степень интерпляционного полниома.\n",
    "    * 1 или 'linear' - линейная сплайн интерполяция\n",
    "    * 2 или 'quadratic' - квадратичная сплайн интерполяция\n",
    "    * 3 или 'cubic' - кубическая интеполяция\n",
    "    * и выше\n",
    "    \n",
    "Например, `interp1d(x, y, kind=2)` - квадратичная сплайн интерполяция.  "
   ]
  },
  {
   "cell_type": "code",
   "execution_count": 67,
   "metadata": {},
   "outputs": [
    {
     "data": {
      "text/plain": [
       "<matplotlib.legend.Legend at 0x2c14a6cdb48>"
      ]
     },
     "execution_count": 67,
     "metadata": {},
     "output_type": "execute_result"
    },
    {
     "data": {
      "image/png": "[encoded data removed]",
      "text/plain": [
       "<Figure size 576x288 with 1 Axes>"
      ]
     },
     "metadata": {
      "needs_background": "light"
     },
     "output_type": "display_data"
    }
   ],
   "source": [
    "from scipy.interpolate import interp1d\n",
    "\n",
    "f1 = interp1d(x13,  runge(x13), kind=1)\n",
    "f2 = interp1d(x13, runge(x13), kind='quadratic')\n",
    "f3 = interp1d(x13,  runge(x13), kind='cubic')\n",
    "\n",
    "xx = np.linspace(-1, 1, 250)     # это точки х для рисования графиков\n",
    "\n",
    "fig, ax = plt.subplots(1, 1, figsize=(8, 4))\n",
    "ax.plot(xx, runge(xx), 'r', label='runge')\n",
    "\n",
    "ax.plot(xx, f1(xx), label='linear spline')\n",
    "ax.plot(xx, f2(xx), label='quadratic spline')\n",
    "ax.plot(xx, f3(xx), label='cubic spline')\n",
    "#ax.set_ylim([-1, 1])\n",
    "ax.legend()"
   ]
  },
  {
   "cell_type": "markdown",
   "metadata": {},
   "source": [
    "Как видите, сплайн интерполяция весьма точная. В случае функци Рунге лучше, чем интерполяция степенным многочленом."
   ]
  },
  {
   "cell_type": "markdown",
   "metadata": {},
   "source": [
    "## Решение: интерполяция степенным полиномом и сплайн интерполяция на одном графике"
   ]
  },
  {
   "cell_type": "markdown",
   "metadata": {},
   "source": [
    "Сравним на одном графике результат интерполяции по точкам степенным полиномом и сплайн интерполяцией степени 2.\n",
    "\n",
    "Зададим точки."
   ]
  },
  {
   "cell_type": "code",
   "execution_count": 68,
   "metadata": {},
   "outputs": [],
   "source": [
    "import matplotlib.pyplot as plt           # для рисования графиков\n",
    "import numpy as np                        # для задания массивов точек\n",
    "from numpy import polynomial as P         # для всех полиномов\n",
    "from scipy.interpolate import interp1d    # для сплайн интерполяции"
   ]
  },
  {
   "cell_type": "code",
   "execution_count": 69,
   "metadata": {},
   "outputs": [
    {
     "data": {
      "text/plain": [
       "array([0, 1, 2, 3, 4, 5, 6, 7])"
      ]
     },
     "execution_count": 69,
     "metadata": {},
     "output_type": "execute_result"
    }
   ],
   "source": [
    "x= np.array([0, 1, 2, 3, 4, 5, 6, 7])\n",
    "x"
   ]
  },
  {
   "cell_type": "code",
   "execution_count": 70,
   "metadata": {},
   "outputs": [
    {
     "data": {
      "text/plain": [
       "array([3.  , 4.  , 3.5 , 2.  , 1.  , 1.5 , 1.25, 0.9 ])"
      ]
     },
     "execution_count": 70,
     "metadata": {},
     "output_type": "execute_result"
    }
   ],
   "source": [
    "y = np.array([3, 4, 3.5, 2, 1, 1.5, 1.25, 0.9])\n",
    "y"
   ]
  },
  {
   "cell_type": "code",
   "execution_count": 71,
   "metadata": {},
   "outputs": [
    {
     "data": {
      "text/plain": [
       "<matplotlib.legend.Legend at 0x2c14a761f08>"
      ]
     },
     "execution_count": 71,
     "metadata": {},
     "output_type": "execute_result"
    },
    {
     "data": {
      "image/png": "[encoded data removed]",
      "text/plain": [
       "<Figure size 576x288 with 1 Axes>"
      ]
     },
     "metadata": {
      "needs_background": "light"
     },
     "output_type": "display_data"
    }
   ],
   "source": [
    "f = P.Polynomial.fit(x, y, len(x)-1)        # интерполяция степенным полиномом\n",
    "f1 = interp1d(x, y, kind=1)                 # сплайн интерполяция степени 1\n",
    "f2 = interp1d(x, y, kind=2)                 # сплайн интерполяция степени 2\n",
    "f3 = interp1d(x, y, kind=3)                 # сплайн интерполяция степени 3\n",
    "\n",
    "# Рисуем графики получившихся кривых\n",
    "xx = np.linspace(x.min(), x.max(), 100)     # точки для рисования графика\n",
    "\n",
    "fig, ax = plt.subplots(figsize=(8, 4))\n",
    "\n",
    "ax.scatter(x, y)\n",
    "ax.plot(xx, f(xx), label='степенной полином')\n",
    "ax.plot(xx, f1(xx), label='order 1')\n",
    "ax.plot(xx, f2(xx), label='order 2')\n",
    "ax.plot(xx, f3(xx), label='order 3')\n",
    "\n",
    "ax.legend()"
   ]
  },
  {
   "cell_type": "markdown",
   "metadata": {},
   "source": [
    "## Интерполяционные полиномы SymPy - получаем функцию"
   ]
  },
  {
   "cell_type": "markdown",
   "metadata": {},
   "source": [
    "Если точек немного используйте интерполяцию (степенную) модуля sympy:\n",
    "\n",
    "http://docs.sympy.org/latest/modules/polys/reference.html"
   ]
  },
  {
   "cell_type": "code",
   "execution_count": 72,
   "metadata": {},
   "outputs": [],
   "source": [
    "from sympy.polys.polyfuncs import interpolate\n",
    "import sympy\n",
    "x = sympy.symbols('x')"
   ]
  },
  {
   "cell_type": "markdown",
   "metadata": {},
   "source": [
    "Для точек {(1,1), (2, 4), (3, 9), (4, 16)}"
   ]
  },
  {
   "cell_type": "code",
   "execution_count": 73,
   "metadata": {},
   "outputs": [
    {
     "data": {
      "text/latex": [
       "$\\displaystyle x^{2}$"
      ],
      "text/plain": [
       "x**2"
      ]
     },
     "execution_count": 73,
     "metadata": {},
     "output_type": "execute_result"
    }
   ],
   "source": [
    "interpolate([1, 4, 9, 16], x)"
   ]
  },
  {
   "cell_type": "markdown",
   "metadata": {},
   "source": [
    "или явно задайте список координат:"
   ]
  },
  {
   "cell_type": "code",
   "execution_count": 74,
   "metadata": {},
   "outputs": [
    {
     "data": {
      "text/latex": [
       "$\\displaystyle x^{2}$"
      ],
      "text/plain": [
       "x**2"
      ]
     },
     "execution_count": 74,
     "metadata": {},
     "output_type": "execute_result"
    }
   ],
   "source": [
    "interpolate([(1, 1), (2, 4), (3, 9)], x)"
   ]
  },
  {
   "cell_type": "markdown",
   "metadata": {},
   "source": [
    "х и у координаты могут задаваться как ключ и значение словаря."
   ]
  },
  {
   "cell_type": "code",
   "execution_count": 75,
   "metadata": {},
   "outputs": [
    {
     "data": {
      "text/latex": [
       "$\\displaystyle x^{2} + 1$"
      ],
      "text/plain": [
       "x**2 + 1"
      ]
     },
     "execution_count": 75,
     "metadata": {},
     "output_type": "execute_result"
    }
   ],
   "source": [
    "interpolate([(-1, 2), (1, 2), (2, 5)], x)"
   ]
  },
  {
   "cell_type": "code",
   "execution_count": 76,
   "metadata": {},
   "outputs": [
    {
     "data": {
      "text/latex": [
       "$\\displaystyle x^{2} + 1$"
      ],
      "text/plain": [
       "x**2 + 1"
      ]
     },
     "execution_count": 76,
     "metadata": {},
     "output_type": "execute_result"
    }
   ],
   "source": [
    "interpolate({-1: 2, 1: 2, 2: 5}, x)"
   ]
  },
  {
   "cell_type": "code",
   "execution_count": null,
   "metadata": {},
   "outputs": [],
   "source": []
  },
  {
   "cell_type": "code",
   "execution_count": null,
   "metadata": {},
   "outputs": [],
   "source": []
  }
 ],
 "metadata": {
  "kernelspec": {
   "display_name": "Python 3",
   "language": "python",
   "name": "python3"
  },
  "language_info": {
   "codemirror_mode": {
    "name": "ipython",
    "version": 3
   },
   "file_extension": ".py",
   "mimetype": "text/x-python",
   "name": "python",
   "nbconvert_exporter": "python",
   "pygments_lexer": "ipython3",
   "version": "3.7.6"
  }
 },
 "nbformat": 4,
 "nbformat_minor": 4
}
