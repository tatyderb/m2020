{
 "cells": [
  {
   "cell_type": "markdown",
   "metadata": {},
   "source": [
    "# Домашняя работа - Матрицы"
   ]
  },
  {
   "cell_type": "markdown",
   "metadata": {},
   "source": [
    "[Учебник](http://judge.mipt.ru/tasks/book/Butuzov-VF-Krutitskaya-NCh-Shishkin-AA-Lineinaya-algebra-v-voprosah-i-zadachah.pdf) - Бутузов, Крутиницкая, Шишкин"
   ]
  },
  {
   "cell_type": "code",
   "execution_count": 2,
   "metadata": {},
   "outputs": [],
   "source": [
    "import numpy as np\n",
    "from numpy.linalg import inv, det, solve"
   ]
  },
  {
   "cell_type": "markdown",
   "metadata": {},
   "source": [
    "## Задача 1 (стр 10, упр. 1)\n",
    "\n",
    "Даны матрицы А и В.\n",
    "\n",
    "$$ A = \\begin{bmatrix}\n",
    "-1 & 2 \\\\\n",
    "0 & 1 \\\\\n",
    "-3 & 0\n",
    "\\end{bmatrix}, B =  \\begin{bmatrix}\n",
    "0 & 1 \\\\\n",
    "1/2 & -1/2 \\\\\n",
    "-1 & 4\n",
    "\\end{bmatrix}$$\n",
    "\n",
    "Найти:\n",
    "* вариант 1: $A+B$\n",
    "* вариант 2: $A-B$\n",
    "* вариант 3: $A-4B$\n",
    "* вариант 4: $3A+2B$\n",
    "* вариант 5: $3A-4B$\n",
    "\n",
    "* вариант 6: подобрать такие х и y, чтобы все элементы матрицы $xA+yB$ были равны 0."
   ]
  },
  {
   "cell_type": "code",
   "execution_count": null,
   "metadata": {},
   "outputs": [],
   "source": []
  },
  {
   "cell_type": "markdown",
   "metadata": {},
   "source": [
    "# Задача 2 (стр 10, упр 3)\n",
    "\n",
    "Даны матрицы А и В.\n",
    "\n",
    "$$ A = \\begin{bmatrix}\n",
    "3 & 1 & -2 \\\\\n",
    "1 & 3 & 0\n",
    "\\end{bmatrix}, B =  \\begin{bmatrix}\n",
    "0 & 2 & 4 \\\\\n",
    "1 & -1 & 0 \\end{bmatrix}$$\n",
    "\n",
    "Найти:\n",
    "* вариант 1: $A^T$\n",
    "* вариант 2: $B^T$\n",
    "* вариант 3: $A^T + B^T$\n",
    "* вариант 4: $2A^T+B^T$\n",
    "* вариант 5: $3A^T-2B^T$"
   ]
  },
  {
   "cell_type": "code",
   "execution_count": null,
   "metadata": {},
   "outputs": [],
   "source": []
  },
  {
   "cell_type": "markdown",
   "metadata": {},
   "source": [
    "# Задача 3 (стр 11, упр 5 а) - всем вариантам"
   ]
  },
  {
   "cell_type": "markdown",
   "metadata": {},
   "source": [
    "Даны матрицы А и В.\n",
    "\n",
    "$$ A = \\begin{bmatrix}\n",
    "0 & 1 \\\\\n",
    "1 & 0\n",
    "\\end{bmatrix}, B =  \\begin{bmatrix}\n",
    "0 & 0 \\\\\n",
    "1 & 0 \\end{bmatrix}$$\n",
    "\n",
    "Найти:\n",
    "* $AB$\n",
    "* $BA$\n",
    "* $A^{T}B^T$\n",
    "* $B^{T}A^T$"
   ]
  },
  {
   "cell_type": "code",
   "execution_count": null,
   "metadata": {},
   "outputs": [],
   "source": []
  },
  {
   "cell_type": "markdown",
   "metadata": {},
   "source": [
    "## Задача 4 (стр 11, упр 5 б, г, д)"
   ]
  },
  {
   "cell_type": "markdown",
   "metadata": {},
   "source": [
    "### Вариант 1 и 2\n",
    "Даны матрицы А и В.\n",
    "\n",
    "$$ A = \\begin{bmatrix}\n",
    "1 & -3 \\\\\n",
    "2 & 1\n",
    "\\end{bmatrix}, B =  \\begin{bmatrix}\n",
    "0 & -1 \\\\\n",
    "1 & 0 \\end{bmatrix}$$\n",
    "\n",
    "Найти:\n",
    "* 1 вариант: $AB$ и $B^{T}A^T$\n",
    "* 2 вариант: $BA$ и $A^{T}B^T$"
   ]
  },
  {
   "cell_type": "markdown",
   "metadata": {},
   "source": [
    "### Вариант 3 и 4\n",
    "Даны матрицы А и В.\n",
    "\n",
    "$$ A = \\begin{bmatrix}\n",
    "1 & 0 & -1\\\\\n",
    "2 & 3 & -2\n",
    "\\end{bmatrix}, B =  \\begin{bmatrix}\n",
    "1 & 2 \\\\\n",
    "1 & 0 \\\\\n",
    "3 & 1\\end{bmatrix}$$\n",
    "\n",
    "Найти:\n",
    "* 3 вариант: $AB$ и $B^{T}A^T$\n",
    "* 4 вариант: $BA$ и $A^{T}B^T$"
   ]
  },
  {
   "cell_type": "markdown",
   "metadata": {},
   "source": [
    "### Вариант 5 и 6\n",
    "Даны матрицы А и В.\n",
    "\n",
    "$$ A = \\begin{bmatrix}\n",
    "0 & -5 & 1 & 0 \\\\\n",
    "3 & 0 & -2 & 0 \\\\\n",
    "1 & 1 & 0 & 0\n",
    "\\end{bmatrix}, B =  \\begin{bmatrix}\n",
    "1 & -1 & 0 \\\\\n",
    "1 & 0 & 0 \\\\\n",
    "1 & -1 & 0 \\\\\n",
    "1 & 0 & 0\n",
    "\\end{bmatrix}$$\n",
    "\n",
    "Найти:\n",
    "* 5 вариант: $AB$ и $B^{T}A^T$\n",
    "* 6 вариант: $BA$ и $A^{T}B^T$"
   ]
  },
  {
   "cell_type": "code",
   "execution_count": null,
   "metadata": {},
   "outputs": [],
   "source": []
  },
  {
   "cell_type": "markdown",
   "metadata": {},
   "source": [
    "# Задача 5 (стр 11, упр 9 + стр 21, упр 17)"
   ]
  },
  {
   "cell_type": "markdown",
   "metadata": {},
   "source": [
    "А1 - вариант 1, А2 - вариант 2 и так далее. Найти:\n",
    "* Обратную матрицу\n",
    "* размер матрицы\n",
    "* ранг матрицы\n",
    "\n",
    "$ \\begin{gather} A1 = \n",
    "\\begin{bmatrix}\n",
    "1 & 2 \\\\\n",
    "2 & 5\n",
    "\\end{bmatrix}\n",
    "\\end{gather}$\n",
    "\n",
    "$ \\begin{gather} A2 = \n",
    "\\begin{bmatrix}\n",
    "-1 & 4 \\\\\n",
    "8 & 0\n",
    "\\end{bmatrix}\n",
    "\\end{gather}$\n",
    "\n",
    "$ \\begin{gather} A3 = \n",
    "\\begin{bmatrix}\n",
    "1 & 1 \\\\\n",
    "2 & 3\n",
    "\\end{bmatrix}\n",
    "\\end{gather}$\n",
    "\n",
    "$ \\begin{gather} A4 = \n",
    "\\begin{bmatrix}\n",
    "1 & 3 & -5 \\\\\n",
    "0 & 1 & 2 \\\\\n",
    "0 & 0 & 1\n",
    "\\end{bmatrix}\n",
    "\\end{gather}$\n",
    "\n",
    "$ \\begin{gather} A5 = \n",
    "\\begin{bmatrix}\n",
    "2 & 2 & 3 \\\\\n",
    "1 & -1 & 0 \\\\\n",
    "-1 & 2 & 1\n",
    "\\end{bmatrix}\n",
    "\\end{gather}$\n",
    "\n",
    "$ \\begin{gather} A6 = \n",
    "\\begin{bmatrix}\n",
    "1 & 3 \\\\\n",
    "1 & 4\n",
    "\\end{bmatrix}\n",
    "\\end{gather}$\n"
   ]
  },
  {
   "cell_type": "code",
   "execution_count": null,
   "metadata": {},
   "outputs": [],
   "source": []
  },
  {
   "cell_type": "markdown",
   "metadata": {},
   "source": [
    "## Задача 6. Найти Х (упр 8 и упр 19)\n",
    "\n",
    "TODO: добавить 19 а, б, в"
   ]
  },
  {
   "cell_type": "markdown",
   "metadata": {},
   "source": [
    "E1) \n",
    "$\\begin{gather}\n",
    "\\begin{bmatrix}\n",
    "1 & 2 \\\\\n",
    "3 & 5\n",
    "\\end{bmatrix} \\cdot X = \n",
    "\\begin{bmatrix}\n",
    "4 & -6 \\\\\n",
    "2 & 1\n",
    "\\end{bmatrix}\n",
    "\\end{gather}$"
   ]
  },
  {
   "cell_type": "markdown",
   "metadata": {},
   "source": [
    "E2) \n",
    "$\\begin{gather} X \\cdot\n",
    "\\begin{bmatrix}\n",
    "1 & 1 & -1 \\\\\n",
    "2 & 1 & 0 \\\\\n",
    "1 & -1 & 1\n",
    "\\end{bmatrix} = \n",
    "\\begin{bmatrix}\n",
    "1 & -1 & 3 \\\\\n",
    "4 & 3 & 2 \\\\\n",
    "1 & -2 & 5\n",
    "\\end{bmatrix}\n",
    "\\end{gather}$"
   ]
  },
  {
   "cell_type": "markdown",
   "metadata": {},
   "source": [
    "E3) \n",
    "$\\begin{gather}\n",
    "\\begin{bmatrix}\n",
    "2 & 1 \\\\\n",
    "3 & 2\n",
    "\\end{bmatrix} \\cdot X \\cdot \n",
    "\\begin{bmatrix}\n",
    "-3 & 2\\\\\n",
    "5 & -3\n",
    "\\end{bmatrix}\n",
    "= \n",
    "\\begin{bmatrix}\n",
    "-2 & 4 \\\\\n",
    "3 & -1\n",
    "\\end{bmatrix}\n",
    "\\end{gather}$"
   ]
  },
  {
   "cell_type": "markdown",
   "metadata": {},
   "source": [
    "E4) \n",
    "$\\begin{gather}\n",
    "\\begin{bmatrix}\n",
    "0 & 1 \\\\\n",
    "1 & 0\n",
    "\\end{bmatrix} \\cdot X \\cdot \n",
    "\\begin{bmatrix}\n",
    "5 & 2\\\\\n",
    "0 & 6\n",
    "\\end{bmatrix}\n",
    "= \n",
    "\\begin{bmatrix}\n",
    "0 & 0 \\\\\n",
    "0 & 1\n",
    "\\end{bmatrix}\n",
    "\\end{gather}$"
   ]
  },
  {
   "cell_type": "markdown",
   "metadata": {},
   "source": [
    "E5) \n",
    "$\\begin{gather}\n",
    "\\begin{bmatrix}\n",
    "-1 & 0 \\\\\n",
    "1 & -1\n",
    "\\end{bmatrix} \\cdot X \\cdot \n",
    "\\begin{bmatrix}\n",
    "-1 & 0 \\\\\n",
    "1 & -1\n",
    "\\end{bmatrix}\n",
    "= \n",
    "\\begin{bmatrix}\n",
    "1 & 2 \\\\\n",
    "3 & 4\n",
    "\\end{bmatrix}\n",
    "\\end{gather}$"
   ]
  },
  {
   "cell_type": "code",
   "execution_count": null,
   "metadata": {},
   "outputs": [],
   "source": []
  }
 ],
 "metadata": {
  "kernelspec": {
   "display_name": "Python 3",
   "language": "python",
   "name": "python3"
  },
  "language_info": {
   "codemirror_mode": {
    "name": "ipython",
    "version": 3
   },
   "file_extension": ".py",
   "mimetype": "text/x-python",
   "name": "python",
   "nbconvert_exporter": "python",
   "pygments_lexer": "ipython3",
   "version": "3.7.6"
  }
 },
 "nbformat": 4,
 "nbformat_minor": 4
}
