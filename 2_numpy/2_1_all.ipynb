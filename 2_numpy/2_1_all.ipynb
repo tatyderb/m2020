{
 "cells": [
  {
   "cell_type": "markdown",
   "metadata": {},
   "source": [
    "# Домашняя работа - Матрицы"
   ]
  },
  {
   "cell_type": "markdown",
   "metadata": {},
   "source": [
    "[Учебник](http://judge.mipt.ru/tasks/book/Butuzov-VF-Krutitskaya-NCh-Shishkin-AA-Lineinaya-algebra-v-voprosah-i-zadachah.pdf) - Бутузов, Крутиницкая, Шишкин"
   ]
  },
  {
   "cell_type": "code",
   "execution_count": 69,
   "metadata": {},
   "outputs": [],
   "source": [
    "import numpy as np\n",
    "from numpy.linalg import inv, det, solve, matrix_rank"
   ]
  },
  {
   "cell_type": "markdown",
   "metadata": {},
   "source": [
    "## Задача 1 (стр 10, упр. 1)\n",
    "\n",
    "Даны матрицы А и В.\n",
    "\n",
    "$$ A = \\begin{bmatrix}\n",
    "-1 & 2 \\\\\n",
    "0 & 1 \\\\\n",
    "-3 & 0\n",
    "\\end{bmatrix}, B =  \\begin{bmatrix}\n",
    "0 & 1 \\\\\n",
    "1/2 & -1/2 \\\\\n",
    "-1 & 4\n",
    "\\end{bmatrix}$$\n",
    "\n",
    "Найти:\n",
    "* вариант 1: $A+B$\n",
    "* вариант 2: $A-B$\n",
    "* вариант 3: $A-4B$\n",
    "* вариант 4: $3A+2B$\n",
    "* вариант 5: $3A-4B$\n",
    "\n",
    "* вариант 6: подобрать такие х и y, чтобы все элементы матрицы $xA+yB$ были равны 0."
   ]
  },
  {
   "cell_type": "code",
   "execution_count": 37,
   "metadata": {},
   "outputs": [
    {
     "data": {
      "text/plain": [
       "(array([[-1,  2],\n",
       "        [ 0,  1],\n",
       "        [-3,  0]]),\n",
       " array([[ 0. ,  1. ],\n",
       "        [ 0.5, -0.5],\n",
       "        [-1. ,  4. ]]))"
      ]
     },
     "execution_count": 37,
     "metadata": {},
     "output_type": "execute_result"
    }
   ],
   "source": [
    "A = np.array([[-1, 2], [0, 1], [-3, 0]])\n",
    "B = np.array([[0, 1], [1/2, -1/2], [-1, 4]])\n",
    "A, B"
   ]
  },
  {
   "cell_type": "code",
   "execution_count": 38,
   "metadata": {},
   "outputs": [
    {
     "name": "stdout",
     "output_type": "stream",
     "text": [
      "Вариант 1: A+B\n",
      "[[-1.   3. ]\n",
      " [ 0.5  0.5]\n",
      " [-4.   4. ]]\n"
     ]
    }
   ],
   "source": [
    "print('Вариант 1: A+B')\n",
    "print(A + B)"
   ]
  },
  {
   "cell_type": "code",
   "execution_count": 39,
   "metadata": {},
   "outputs": [
    {
     "name": "stdout",
     "output_type": "stream",
     "text": [
      "Вариант 2: A-B\n",
      "[[-1.   1. ]\n",
      " [-0.5  1.5]\n",
      " [-2.  -4. ]]\n"
     ]
    }
   ],
   "source": [
    "print('Вариант 2: A-B')\n",
    "print(A - B)"
   ]
  },
  {
   "cell_type": "code",
   "execution_count": 40,
   "metadata": {},
   "outputs": [
    {
     "name": "stdout",
     "output_type": "stream",
     "text": [
      "Вариант 3: A-4*B\n",
      "[[ -1.  -2.]\n",
      " [ -2.   3.]\n",
      " [  1. -16.]]\n"
     ]
    }
   ],
   "source": [
    "print('Вариант 3: A-4*B')\n",
    "print(A-4*B)"
   ]
  },
  {
   "cell_type": "code",
   "execution_count": 41,
   "metadata": {},
   "outputs": [
    {
     "name": "stdout",
     "output_type": "stream",
     "text": [
      "Вариант 4: 3A+2B\n",
      "[[ -3.   8.]\n",
      " [  1.   2.]\n",
      " [-11.   8.]]\n"
     ]
    }
   ],
   "source": [
    "print('Вариант 4: 3A+2B')\n",
    "print(3*A + 2*B)"
   ]
  },
  {
   "cell_type": "code",
   "execution_count": 42,
   "metadata": {},
   "outputs": [
    {
     "name": "stdout",
     "output_type": "stream",
     "text": [
      "Вариант 5: 3A-4B\n",
      "[[ -3.   2.]\n",
      " [ -2.   5.]\n",
      " [ -5. -16.]]\n"
     ]
    }
   ],
   "source": [
    "print('Вариант 5: 3A-4B')\n",
    "print(3*A - 4*B)"
   ]
  },
  {
   "cell_type": "markdown",
   "metadata": {},
   "source": [
    "Написать все ответы компактно в LaTeX."
   ]
  },
  {
   "cell_type": "markdown",
   "metadata": {},
   "source": [
    "# Задача 2 (стр 10, упр 3)\n",
    "\n",
    "Даны матрицы А и В.\n",
    "\n",
    "$$ A = \\begin{bmatrix}\n",
    "3 & 1 & -2 \\\\\n",
    "1 & 3 & 0\n",
    "\\end{bmatrix}, B =  \\begin{bmatrix}\n",
    "0 & 2 & 4 \\\\\n",
    "1 & -1 & 0 \\end{bmatrix}$$\n",
    "\n",
    "Найти:\n",
    "* вариант 1: $A^T$\n",
    "* вариант 2: $B^T$\n",
    "* вариант 3: $A^T + B^T$\n",
    "* вариант 4: $2A^T+B^T$\n",
    "* вариант 5: $3A^T-2B^T$"
   ]
  },
  {
   "cell_type": "code",
   "execution_count": 43,
   "metadata": {},
   "outputs": [
    {
     "data": {
      "text/plain": [
       "(array([[ 3,  1, -2],\n",
       "        [ 1,  3,  0]]),\n",
       " array([[ 0,  2,  4],\n",
       "        [ 1, -1,  0]]))"
      ]
     },
     "execution_count": 43,
     "metadata": {},
     "output_type": "execute_result"
    }
   ],
   "source": [
    "A = np.array([[3, 1, -2],[1, 3, 0]])\n",
    "B = np.array([[0, 2, 4],[1, -1, 0]])\n",
    "A, B"
   ]
  },
  {
   "cell_type": "code",
   "execution_count": 44,
   "metadata": {},
   "outputs": [
    {
     "name": "stdout",
     "output_type": "stream",
     "text": [
      "Вариант 1: AT\n"
     ]
    },
    {
     "data": {
      "text/plain": [
       "array([[ 3,  1],\n",
       "       [ 1,  3],\n",
       "       [-2,  0]])"
      ]
     },
     "execution_count": 44,
     "metadata": {},
     "output_type": "execute_result"
    }
   ],
   "source": [
    "print('Вариант 1: AT')\n",
    "A.T"
   ]
  },
  {
   "cell_type": "code",
   "execution_count": 45,
   "metadata": {},
   "outputs": [
    {
     "name": "stdout",
     "output_type": "stream",
     "text": [
      "Вариант 2: BT\n"
     ]
    },
    {
     "data": {
      "text/plain": [
       "array([[ 0,  1],\n",
       "       [ 2, -1],\n",
       "       [ 4,  0]])"
      ]
     },
     "execution_count": 45,
     "metadata": {},
     "output_type": "execute_result"
    }
   ],
   "source": [
    "print('Вариант 2: BT')\n",
    "B.T"
   ]
  },
  {
   "cell_type": "code",
   "execution_count": 46,
   "metadata": {},
   "outputs": [
    {
     "name": "stdout",
     "output_type": "stream",
     "text": [
      "Вариант 3: AT + BT\n"
     ]
    },
    {
     "data": {
      "text/plain": [
       "array([[3, 2],\n",
       "       [3, 2],\n",
       "       [2, 0]])"
      ]
     },
     "execution_count": 46,
     "metadata": {},
     "output_type": "execute_result"
    }
   ],
   "source": [
    "print('Вариант 3: AT + BT')\n",
    "A.T + B.T"
   ]
  },
  {
   "cell_type": "code",
   "execution_count": 47,
   "metadata": {},
   "outputs": [
    {
     "name": "stdout",
     "output_type": "stream",
     "text": [
      "Вариант 4: 2AT+BT\n"
     ]
    },
    {
     "data": {
      "text/plain": [
       "array([[6, 3],\n",
       "       [4, 5],\n",
       "       [0, 0]])"
      ]
     },
     "execution_count": 47,
     "metadata": {},
     "output_type": "execute_result"
    }
   ],
   "source": [
    "print('Вариант 4: 2AT+BT')\n",
    "2*A.T + B.T"
   ]
  },
  {
   "cell_type": "code",
   "execution_count": 48,
   "metadata": {},
   "outputs": [
    {
     "name": "stdout",
     "output_type": "stream",
     "text": [
      "Вариант 5: 3AT - 2BT\n"
     ]
    },
    {
     "data": {
      "text/plain": [
       "array([[  9,   1],\n",
       "       [ -1,  11],\n",
       "       [-14,   0]])"
      ]
     },
     "execution_count": 48,
     "metadata": {},
     "output_type": "execute_result"
    }
   ],
   "source": [
    "print('Вариант 5: 3AT - 2BT')\n",
    "3*A.T - 2*B.T"
   ]
  },
  {
   "cell_type": "markdown",
   "metadata": {},
   "source": [
    "# Задача 3 (стр 11, упр 5 а) - всем вариантам"
   ]
  },
  {
   "cell_type": "markdown",
   "metadata": {},
   "source": [
    "Даны матрицы А и В.\n",
    "\n",
    "$$ A = \\begin{bmatrix}\n",
    "0 & 1 \\\\\n",
    "1 & 0\n",
    "\\end{bmatrix}, B =  \\begin{bmatrix}\n",
    "0 & 0 \\\\\n",
    "1 & 0 \\end{bmatrix}$$\n",
    "\n",
    "Найти:\n",
    "* $AB$\n",
    "* $BA$\n",
    "* $A^{T}B^T$\n",
    "* $B^{T}A^T$"
   ]
  },
  {
   "cell_type": "code",
   "execution_count": 49,
   "metadata": {},
   "outputs": [
    {
     "data": {
      "text/plain": [
       "(array([[0, 1],\n",
       "        [1, 0]]),\n",
       " array([[0, 0],\n",
       "        [1, 0]]))"
      ]
     },
     "execution_count": 49,
     "metadata": {},
     "output_type": "execute_result"
    }
   ],
   "source": [
    "A = np.array([[0, 1], [1, 0]])\n",
    "B = np.array([[0, 0], [1, 0]])\n",
    "A, B"
   ]
  },
  {
   "cell_type": "code",
   "execution_count": 50,
   "metadata": {},
   "outputs": [
    {
     "data": {
      "text/plain": [
       "array([[1, 0],\n",
       "       [0, 0]])"
      ]
     },
     "execution_count": 50,
     "metadata": {},
     "output_type": "execute_result"
    }
   ],
   "source": [
    "A.dot(B)"
   ]
  },
  {
   "cell_type": "code",
   "execution_count": 51,
   "metadata": {
    "scrolled": true
   },
   "outputs": [
    {
     "data": {
      "text/plain": [
       "array([[0, 0],\n",
       "       [0, 1]])"
      ]
     },
     "execution_count": 51,
     "metadata": {},
     "output_type": "execute_result"
    }
   ],
   "source": [
    "B.dot(A)"
   ]
  },
  {
   "cell_type": "code",
   "execution_count": 52,
   "metadata": {},
   "outputs": [
    {
     "data": {
      "text/plain": [
       "array([[0, 0],\n",
       "       [0, 1]])"
      ]
     },
     "execution_count": 52,
     "metadata": {},
     "output_type": "execute_result"
    }
   ],
   "source": [
    "A.T.dot(B.T)"
   ]
  },
  {
   "cell_type": "markdown",
   "metadata": {},
   "source": [
    "## Задача 4 (стр 11, упр 5 б, г, д)"
   ]
  },
  {
   "cell_type": "markdown",
   "metadata": {},
   "source": [
    "### Вариант 1 и 2\n",
    "Даны матрицы А и В.\n",
    "\n",
    "$$ A = \\begin{bmatrix}\n",
    "1 & -3 \\\\\n",
    "2 & 1\n",
    "\\end{bmatrix}, B =  \\begin{bmatrix}\n",
    "0 & -1 \\\\\n",
    "1 & 0 \\end{bmatrix}$$\n",
    "\n",
    "Найти:\n",
    "* 1 вариант: $AB$ и $B^{T}A^T$\n",
    "* 2 вариант: $BA$ и $A^{T}B^T$"
   ]
  },
  {
   "cell_type": "code",
   "execution_count": 53,
   "metadata": {},
   "outputs": [
    {
     "data": {
      "text/plain": [
       "(array([[ 1, -3],\n",
       "        [ 2,  1]]),\n",
       " array([[ 0, -1],\n",
       "        [ 1,  0]]))"
      ]
     },
     "execution_count": 53,
     "metadata": {},
     "output_type": "execute_result"
    }
   ],
   "source": [
    "A = np.array([[1, -3], [2, 1]])\n",
    "B = np.array([[0, -1], [1, 0]])\n",
    "A, B"
   ]
  },
  {
   "cell_type": "code",
   "execution_count": 54,
   "metadata": {},
   "outputs": [
    {
     "name": "stdout",
     "output_type": "stream",
     "text": [
      "Вариант 1\n",
      "AB = \n",
      " [[-3 -1]\n",
      " [ 1 -2]]\n",
      "BTAT = \n",
      " [[-3  1]\n",
      " [-1 -2]]\n"
     ]
    }
   ],
   "source": [
    "print('Вариант 1')\n",
    "print('AB = \\n', A.dot(B))\n",
    "print('BTAT = \\n', B.T.dot(A.T))"
   ]
  },
  {
   "cell_type": "code",
   "execution_count": 55,
   "metadata": {},
   "outputs": [
    {
     "name": "stdout",
     "output_type": "stream",
     "text": [
      "Вариант 2\n",
      "BA = \n",
      " [[-2 -1]\n",
      " [ 1 -3]]\n",
      "ATBT = \n",
      " [[-2  1]\n",
      " [-1 -3]]\n"
     ]
    }
   ],
   "source": [
    "print('Вариант 2')\n",
    "print('BA = \\n', B.dot(A))\n",
    "print('ATBT = \\n', A.T.dot(B.T))"
   ]
  },
  {
   "cell_type": "markdown",
   "metadata": {},
   "source": [
    "### Вариант 3 и 4\n",
    "Даны матрицы А и В.\n",
    "\n",
    "$$ A = \\begin{bmatrix}\n",
    "1 & 0 & -1\\\\\n",
    "2 & 3 & -2\n",
    "\\end{bmatrix}, B =  \\begin{bmatrix}\n",
    "1 & 2 \\\\\n",
    "1 & 0 \\\\\n",
    "3 & 1\\end{bmatrix}$$\n",
    "\n",
    "Найти:\n",
    "* 3 вариант: $AB$ и $B^{T}A^T$\n",
    "* 4 вариант: $BA$ и $A^{T}B^T$"
   ]
  },
  {
   "cell_type": "code",
   "execution_count": 56,
   "metadata": {},
   "outputs": [
    {
     "data": {
      "text/plain": [
       "(array([[ 1,  0, -1],\n",
       "        [ 2,  3,  2]]),\n",
       " array([[1, 2],\n",
       "        [1, 0],\n",
       "        [3, 1]]))"
      ]
     },
     "execution_count": 56,
     "metadata": {},
     "output_type": "execute_result"
    }
   ],
   "source": [
    "A = np.array([[1, 0, -1], [2, 3, 2]])\n",
    "B = np.array([[1, 2],[1, 0], [3,1]])\n",
    "A, B"
   ]
  },
  {
   "cell_type": "code",
   "execution_count": 57,
   "metadata": {},
   "outputs": [
    {
     "name": "stdout",
     "output_type": "stream",
     "text": [
      "Вариант 3\n",
      "AB = \n",
      " [[-2  1]\n",
      " [11  6]]\n",
      "BTAT = \n",
      " [[-2 11]\n",
      " [ 1  6]]\n"
     ]
    }
   ],
   "source": [
    "print('Вариант 3')\n",
    "print('AB = \\n', A.dot(B))\n",
    "print('BTAT = \\n', B.T.dot(A.T))"
   ]
  },
  {
   "cell_type": "code",
   "execution_count": 58,
   "metadata": {},
   "outputs": [
    {
     "name": "stdout",
     "output_type": "stream",
     "text": [
      "Вариант 4\n",
      "BA = \n",
      " [[ 5  6  3]\n",
      " [ 1  0 -1]\n",
      " [ 5  3 -1]]\n",
      "ATBT = \n",
      " [[ 5  1  5]\n",
      " [ 6  0  3]\n",
      " [ 3 -1 -1]]\n"
     ]
    }
   ],
   "source": [
    "print('Вариант 4')\n",
    "print('BA = \\n', B.dot(A))\n",
    "print('ATBT = \\n', A.T.dot(B.T))"
   ]
  },
  {
   "cell_type": "markdown",
   "metadata": {},
   "source": [
    "### Вариант 5 и 6\n",
    "Даны матрицы А и В.\n",
    "\n",
    "$$ A = \\begin{bmatrix}\n",
    "0 & -5 & 1 & 0 \\\\\n",
    "3 & 0 & -2 & 0 \\\\\n",
    "1 & 1 & 0 & 0\n",
    "\\end{bmatrix}, B =  \\begin{bmatrix}\n",
    "1 & -1 & 0 \\\\\n",
    "1 & 0 & 0 \\\\\n",
    "1 & -1 & 0 \\\\\n",
    "1 & 0 & 0\n",
    "\\end{bmatrix}$$\n",
    "\n",
    "Найти:\n",
    "* 5 вариант: $AB$ и $B^{T}A^T$\n",
    "* 6 вариант: $BA$ и $A^{T}B^T$"
   ]
  },
  {
   "cell_type": "code",
   "execution_count": 59,
   "metadata": {},
   "outputs": [
    {
     "data": {
      "text/plain": [
       "(array([[ 0, -5,  1,  0],\n",
       "        [ 3,  0, -2,  0],\n",
       "        [ 1,  1,  0,  0]]),\n",
       " array([[ 1, -1,  0],\n",
       "        [ 1,  0,  0],\n",
       "        [ 1, -1,  0],\n",
       "        [ 1,  0,  0]]))"
      ]
     },
     "execution_count": 59,
     "metadata": {},
     "output_type": "execute_result"
    }
   ],
   "source": [
    "A = np.array([[0, -5, 1, 0], [3, 0, -2, 0], [1, 1, 0, 0]])\n",
    "B = np.array([[1, -1, 0], [1, 0, 0], [1, -1, 0], [1, 0, 0]])\n",
    "A, B"
   ]
  },
  {
   "cell_type": "code",
   "execution_count": 60,
   "metadata": {},
   "outputs": [
    {
     "name": "stdout",
     "output_type": "stream",
     "text": [
      "Вариант 5\n",
      "AB = \n",
      " [[-4 -1  0]\n",
      " [ 1 -1  0]\n",
      " [ 2 -1  0]]\n",
      "BTAT = \n",
      " [[-4  1  2]\n",
      " [-1 -1 -1]\n",
      " [ 0  0  0]]\n"
     ]
    }
   ],
   "source": [
    "print('Вариант 5')\n",
    "print('AB = \\n', A.dot(B))\n",
    "print('BTAT = \\n', B.T.dot(A.T))"
   ]
  },
  {
   "cell_type": "code",
   "execution_count": 61,
   "metadata": {},
   "outputs": [
    {
     "name": "stdout",
     "output_type": "stream",
     "text": [
      "Вариант 6\n",
      "BA = \n",
      " [[-3 -5  3  0]\n",
      " [ 0 -5  1  0]\n",
      " [-3 -5  3  0]\n",
      " [ 0 -5  1  0]]\n",
      "ATBT = \n",
      " [[-3  0 -3  0]\n",
      " [-5 -5 -5 -5]\n",
      " [ 3  1  3  1]\n",
      " [ 0  0  0  0]]\n"
     ]
    }
   ],
   "source": [
    "print('Вариант 6')\n",
    "print('BA = \\n', B.dot(A))\n",
    "print('ATBT = \\n', A.T.dot(B.T))"
   ]
  },
  {
   "cell_type": "markdown",
   "metadata": {},
   "source": [
    "# Задача 5 (стр 11, упр 9 + стр 21, упр 17)"
   ]
  },
  {
   "cell_type": "markdown",
   "metadata": {},
   "source": [
    "А1 - вариант 1, А2 - вариант 2 и так далее. Найти:\n",
    "* Обратную матрицу\n",
    "* размер матрицы\n",
    "* ранг матрицы\n",
    "\n",
    "$ \\begin{gather} A1 = \n",
    "\\begin{bmatrix}\n",
    "1 & 2 \\\\\n",
    "2 & 5\n",
    "\\end{bmatrix}\n",
    "\\end{gather}$\n",
    "\n",
    "$ \\begin{gather} A2 = \n",
    "\\begin{bmatrix}\n",
    "-1 & 4 \\\\\n",
    "8 & 0\n",
    "\\end{bmatrix}\n",
    "\\end{gather}$\n",
    "\n",
    "$ \\begin{gather} A3 = \n",
    "\\begin{bmatrix}\n",
    "1 & 1 \\\\\n",
    "2 & 3\n",
    "\\end{bmatrix}\n",
    "\\end{gather}$\n",
    "\n",
    "$ \\begin{gather} A4 = \n",
    "\\begin{bmatrix}\n",
    "1 & 3 & -5 \\\\\n",
    "0 & 1 & 2 \\\\\n",
    "0 & 0 & 1\n",
    "\\end{bmatrix}\n",
    "\\end{gather}$\n",
    "\n",
    "$ \\begin{gather} A5 = \n",
    "\\begin{bmatrix}\n",
    "2 & 2 & 3 \\\\\n",
    "1 & -1 & 0 \\\\\n",
    "-1 & 2 & 1\n",
    "\\end{bmatrix}\n",
    "\\end{gather}$\n",
    "\n",
    "$ \\begin{gather} A6 = \n",
    "\\begin{bmatrix}\n",
    "1 & 3 \\\\\n",
    "1 & 4\n",
    "\\end{bmatrix}\n",
    "\\end{gather}$\n"
   ]
  },
  {
   "cell_type": "code",
   "execution_count": 66,
   "metadata": {},
   "outputs": [],
   "source": [
    "A1 = np.array([[1, 2],[2, 5]])\n",
    "A2 = np.array([[-1, 4],[8, 0]])\n",
    "A3 = np.array([[1, 1],[2, 3]])\n",
    "A4 = np.array([[1, 3, -5],[0, 1, 2], [0, 0, 1]])\n",
    "A5 = np.array([[2, 2, 3],[1, -1, 0], [-1, 2, 1]])\n",
    "A6 = np.array([[1, 3],[1, 4]])"
   ]
  },
  {
   "cell_type": "code",
   "execution_count": 70,
   "metadata": {},
   "outputs": [
    {
     "name": "stdout",
     "output_type": "stream",
     "text": [
      "Вариант А1\n",
      "[[1 2]\n",
      " [2 5]]\n",
      "[[ 5. -2.]\n",
      " [-2.  1.]]\n",
      "size=(2, 2) rank=2\n",
      "Вариант А2\n",
      "[[-1  4]\n",
      " [ 8  0]]\n",
      "[[0.      0.125  ]\n",
      " [0.25    0.03125]]\n",
      "size=(2, 2) rank=2\n",
      "Вариант А3\n",
      "[[1 1]\n",
      " [2 3]]\n",
      "[[ 3. -1.]\n",
      " [-2.  1.]]\n",
      "size=(2, 2) rank=2\n",
      "Вариант А4\n",
      "[[ 1  3 -5]\n",
      " [ 0  1  2]\n",
      " [ 0  0  1]]\n",
      "[[ 1. -3. 11.]\n",
      " [ 0.  1. -2.]\n",
      " [ 0.  0.  1.]]\n",
      "size=(3, 3) rank=3\n",
      "Вариант А5\n",
      "[[ 2  2  3]\n",
      " [ 1 -1  0]\n",
      " [-1  2  1]]\n",
      "[[ 1. -4. -3.]\n",
      " [ 1. -5. -3.]\n",
      " [-1.  6.  4.]]\n",
      "size=(3, 3) rank=3\n",
      "Вариант А6\n",
      "[[1 3]\n",
      " [1 4]]\n",
      "[[ 4. -3.]\n",
      " [-1.  1.]]\n",
      "size=(2, 2) rank=2\n"
     ]
    }
   ],
   "source": [
    "ALIST = [A1, A2, A3, A4, A5, A6]\n",
    "for i, M in enumerate(ALIST):\n",
    "    print(f'Вариант А{i+1}')\n",
    "    print(M)\n",
    "    print(inv(M))\n",
    "    print(f'size={M.shape} rank={matrix_rank(M)}')"
   ]
  },
  {
   "cell_type": "markdown",
   "metadata": {},
   "source": [
    "## Задача 6. Найти Х (упр 8 и упр 19)\n",
    "\n",
    "TODO: добавить 19 а, б, в"
   ]
  },
  {
   "cell_type": "markdown",
   "metadata": {},
   "source": [
    "E1) \n",
    "$\\begin{gather}\n",
    "\\begin{bmatrix}\n",
    "1 & 2 \\\\\n",
    "3 & 5\n",
    "\\end{bmatrix} \\cdot X = \n",
    "\\begin{bmatrix}\n",
    "4 & -6 \\\\\n",
    "2 & 1\n",
    "\\end{bmatrix}\n",
    "\\end{gather}$"
   ]
  },
  {
   "cell_type": "markdown",
   "metadata": {},
   "source": [
    "E2) \n",
    "$\\begin{gather} X \\cdot\n",
    "\\begin{bmatrix}\n",
    "1 & 1 & -1 \\\\\n",
    "2 & 1 & 0 \\\\\n",
    "1 & -1 & 1\n",
    "\\end{bmatrix} = \n",
    "\\begin{bmatrix}\n",
    "1 & -1 & 3 \\\\\n",
    "4 & 3 & 2 \\\\\n",
    "1 & -2 & 5\n",
    "\\end{bmatrix}\n",
    "\\end{gather}$"
   ]
  },
  {
   "cell_type": "markdown",
   "metadata": {},
   "source": [
    "E3) \n",
    "$\\begin{gather}\n",
    "\\begin{bmatrix}\n",
    "2 & 1 \\\\\n",
    "3 & 2\n",
    "\\end{bmatrix} \\cdot X \\cdot \n",
    "\\begin{bmatrix}\n",
    "-3 & 2\\\\\n",
    "5 & -3\n",
    "\\end{bmatrix}\n",
    "= \n",
    "\\begin{bmatrix}\n",
    "-2 & 4 \\\\\n",
    "3 & -1\n",
    "\\end{bmatrix}\n",
    "\\end{gather}$"
   ]
  },
  {
   "cell_type": "markdown",
   "metadata": {},
   "source": [
    "E4) \n",
    "$\\begin{gather}\n",
    "\\begin{bmatrix}\n",
    "0 & 1 \\\\\n",
    "1 & 0\n",
    "\\end{bmatrix} \\cdot X \\cdot \n",
    "\\begin{bmatrix}\n",
    "5 & 2\\\\\n",
    "0 & 6\n",
    "\\end{bmatrix}\n",
    "= \n",
    "\\begin{bmatrix}\n",
    "0 & 0 \\\\\n",
    "0 & 1\n",
    "\\end{bmatrix}\n",
    "\\end{gather}$"
   ]
  },
  {
   "cell_type": "markdown",
   "metadata": {},
   "source": [
    "E5) \n",
    "$\\begin{gather}\n",
    "\\begin{bmatrix}\n",
    "-1 & 0 \\\\\n",
    "1 & -1\n",
    "\\end{bmatrix} \\cdot X \\cdot \n",
    "\\begin{bmatrix}\n",
    "-1 & 0 \\\\\n",
    "1 & -1\n",
    "\\end{bmatrix}\n",
    "= \n",
    "\\begin{bmatrix}\n",
    "1 & 2 \\\\\n",
    "3 & 4\n",
    "\\end{bmatrix}\n",
    "\\end{gather}$"
   ]
  },
  {
   "cell_type": "code",
   "execution_count": 75,
   "metadata": {},
   "outputs": [
    {
     "name": "stdout",
     "output_type": "stream",
     "text": [
      "Задача 5.1: AX=B\n",
      "[[-16.  32.]\n",
      " [ 10. -19.]]\n",
      "True\n"
     ]
    }
   ],
   "source": [
    "print('Задача 5.1: AX=B')\n",
    "A = np.array([[1, 2],[3, 5]])\n",
    "B = np.array([[4, -6],[2, 1]])\n",
    "X = inv(A).dot(B)\n",
    "print(X)\n",
    "print(np.allclose(np.dot(A, X), B))"
   ]
  },
  {
   "cell_type": "code",
   "execution_count": 76,
   "metadata": {},
   "outputs": [
    {
     "name": "stdout",
     "output_type": "stream",
     "text": [
      "Задача 5.2: XA=B\n",
      "[[-3.00000000e+00  2.00000000e+00  2.22044605e-16]\n",
      " [-4.00000000e+00  5.00000000e+00 -2.00000000e+00]\n",
      " [-5.00000000e+00  3.00000000e+00  4.44089210e-16]]\n",
      "True\n"
     ]
    }
   ],
   "source": [
    "print('Задача 5.2: XA=B')\n",
    "A = np.array([[1, 1, -1],[2, 1, 0], [1, -1, 1]])\n",
    "B = np.array([[1, -1, 3], [4, 3, 2],[1, -2, 5]])\n",
    "X = B.dot(inv(A))\n",
    "print(X)\n",
    "print(np.allclose(np.dot(X, A), B))"
   ]
  },
  {
   "cell_type": "code",
   "execution_count": 80,
   "metadata": {},
   "outputs": [
    {
     "name": "stdout",
     "output_type": "stream",
     "text": [
      "Задача 5.3: AXB=C\n",
      "[[ 24.  13.]\n",
      " [-34. -18.]]\n",
      "True\n"
     ]
    }
   ],
   "source": [
    "print('Задача 5.3: AXB=C')\n",
    "A = np.array([[2, 1],[3, 2]])\n",
    "B = np.array([[-3, 2],[5, -3]])\n",
    "C = np.array([[-2, 4],[3, -1]])\n",
    "X = inv(A).dot(C).dot(inv(B))\n",
    "print(X)\n",
    "print(np.allclose(A.dot(X).dot(B), C))"
   ]
  },
  {
   "cell_type": "code",
   "execution_count": 81,
   "metadata": {},
   "outputs": [
    {
     "name": "stdout",
     "output_type": "stream",
     "text": [
      "Задача 5.4: AXB=C\n",
      "[[0.         0.16666667]\n",
      " [0.         0.        ]]\n",
      "True\n"
     ]
    }
   ],
   "source": [
    "print('Задача 5.4: AXB=C')\n",
    "A = np.array([[0, 1],[1, 0]])\n",
    "B = np.array([[5, 2],[0, 6]])\n",
    "C = np.array([[0, 0],[0, 1]])\n",
    "X = inv(A).dot(C).dot(inv(B))\n",
    "print(X)\n",
    "print(np.allclose(A.dot(X).dot(B), C))"
   ]
  },
  {
   "cell_type": "code",
   "execution_count": 82,
   "metadata": {},
   "outputs": [
    {
     "name": "stdout",
     "output_type": "stream",
     "text": [
      "Задача 5.5: AXA=B\n",
      "[[ 3.  2.]\n",
      " [10.  6.]]\n",
      "True\n"
     ]
    }
   ],
   "source": [
    "print('Задача 5.5: AXA=B')\n",
    "A = np.array([[-1, 0],[1, -1]])\n",
    "B = np.array([[1, 2],[3, 4]])\n",
    "X = inv(A).dot(B).dot(inv(A))\n",
    "print(X)\n",
    "print(np.allclose(A.dot(X).dot(A), B))"
   ]
  },
  {
   "cell_type": "code",
   "execution_count": null,
   "metadata": {},
   "outputs": [],
   "source": []
  }
 ],
 "metadata": {
  "kernelspec": {
   "display_name": "Python 3",
   "language": "python",
   "name": "python3"
  },
  "language_info": {
   "codemirror_mode": {
    "name": "ipython",
    "version": 3
   },
   "file_extension": ".py",
   "mimetype": "text/x-python",
   "name": "python",
   "nbconvert_exporter": "python",
   "pygments_lexer": "ipython3",
   "version": "3.7.6"
  }
 },
 "nbformat": 4,
 "nbformat_minor": 4
}
