{
 "cells": [
  {
   "cell_type": "markdown",
   "metadata": {},
   "source": [
    "# Numpy - numerical python"
   ]
  },
  {
   "cell_type": "markdown",
   "metadata": {},
   "source": [
    "Если вам нужны *численные* вектора и матрицы, то вам нужен **numpy**. Вы его использовали, когда рисовали графики.\n",
    "\n",
    "[Шпаргалка](http://acm.mipt.ru/twiki/pub/Cintro/PythonNumpy/Numpy_Python_Cheat_Sheet.pdf)\n",
    "\n",
    "Не забудьте import. Один раз для всей тетради."
   ]
  },
  {
   "cell_type": "code",
   "execution_count": 2,
   "metadata": {},
   "outputs": [],
   "source": [
    "import numpy as np"
   ]
  },
  {
   "cell_type": "markdown",
   "metadata": {},
   "source": [
    "## Задаем объект"
   ]
  },
  {
   "cell_type": "markdown",
   "metadata": {},
   "source": [
    "### Создаем вектор\n",
    "\n",
    "Например, создаем набор точек для рисования графика. Любой вариант:\n",
    "\n",
    "```\n",
    "x = np.array([1, 2, 3, 5, 7, 10, 15]) \n",
    "x = np.arange(-10, 10.01, 0.01)  # от -10 до 10.01 с шагом 0.01 (>1000 точек)\n",
    "x = np.linspace(-5, 2, 100)      # от -5 до 2 сделать 100 точек\n",
    "```"
   ]
  },
  {
   "cell_type": "markdown",
   "metadata": {},
   "source": [
    "### Задаем матрицу из списков"
   ]
  },
  {
   "cell_type": "markdown",
   "metadata": {},
   "source": [
    "$$ \\begin{bmatrix}\n",
    "1 & 2 & 3\\\\\n",
    "4 & 5 & 6\n",
    "\\end{bmatrix} $$"
   ]
  },
  {
   "cell_type": "code",
   "execution_count": 6,
   "metadata": {},
   "outputs": [
    {
     "data": {
      "text/plain": [
       "array([[1, 2, 3],\n",
       "       [4, 5, 6]])"
      ]
     },
     "execution_count": 6,
     "metadata": {},
     "output_type": "execute_result"
    }
   ],
   "source": [
    "a = np.array([   # задали и написали красиво, чтобы удобно читать\n",
    "    [1, 2, 3], \n",
    "    [4, 5, 6]\n",
    "])\n",
    "a                # проверили, что задали правильно"
   ]
  },
  {
   "cell_type": "code",
   "execution_count": 7,
   "metadata": {},
   "outputs": [
    {
     "data": {
      "text/plain": [
       "array([[11, 22, 33],\n",
       "       [44, 55, 66]])"
      ]
     },
     "execution_count": 7,
     "metadata": {},
     "output_type": "execute_result"
    }
   ],
   "source": [
    "b = np.array([[11, 22, 33], [44, 55, 66]])\n",
    "b"
   ]
  },
  {
   "cell_type": "markdown",
   "metadata": {},
   "source": [
    "## Арифметические операции над матрицами"
   ]
  },
  {
   "cell_type": "markdown",
   "metadata": {},
   "source": [
    "### `a+b`, `a-b`, `a*b` - операции над матрицами\n",
    "\n",
    "* `c = a+b` - это `c[i][j] = a[i][j] + b[i][j]`\n",
    "* `c = a-b` - это `c[i][j] = a[i][j] - b[i][j]`\n",
    "* `c = a*b` - это `c[i][j] = a[i][j] * b[i][j]`\n",
    "\n",
    "Внимание, `c = a*b` это **не то умножение**, которое вы видели на математике."
   ]
  },
  {
   "cell_type": "markdown",
   "metadata": {},
   "source": [
    "Вместо `a = a + b` можно написать короткую форму `a += b`.\n",
    "\n",
    "| Операция\t| Короткая форма |\n",
    "|----|----|\n",
    "| `a+b` |\t`a += b` |\n",
    "| `a-b` |\t`a -= b` |\n",
    "| `a*b` |\t`a *= b` |\n",
    "| `a/2` |\t`a /= 2` |\n",
    "| `a/b` |\t`a /= b` |\n",
    "| `a**2` |\t`a **= 2` |\n",
    "| `2**a` |\tнет краткой формы |"
   ]
  },
  {
   "cell_type": "code",
   "execution_count": 10,
   "metadata": {},
   "outputs": [
    {
     "data": {
      "text/plain": [
       "array([[12, 24, 36],\n",
       "       [48, 60, 72]])"
      ]
     },
     "execution_count": 10,
     "metadata": {},
     "output_type": "execute_result"
    }
   ],
   "source": [
    "a + b"
   ]
  },
  {
   "cell_type": "code",
   "execution_count": 12,
   "metadata": {},
   "outputs": [
    {
     "data": {
      "text/plain": [
       "array([[10, 20, 30],\n",
       "       [40, 50, 60]])"
      ]
     },
     "execution_count": 12,
     "metadata": {},
     "output_type": "execute_result"
    }
   ],
   "source": [
    "b - a"
   ]
  },
  {
   "cell_type": "markdown",
   "metadata": {},
   "source": [
    "### \"Правильное\" умножение матриц `np.dot`\n",
    "\n",
    "Произведением матрицы $A$ с элементами $a[i,j]$ размерности $mxn$ на матрицу $B$ с элементами $b[i,j]$ размерности $nxk$ называется матрица $С$ с элементами $c[i,j]$ размера $mxk$, такое что $$c[i,j] = a[i,1] \\cdot b[1,j] + a[i,2]\\cdot b[2,j]+..+a[i,n]\\cdot b[n,j]$$\n",
    "\n",
    "Будем дальше обозначать матричное произведение в тексте как $C = A \\cdot B$ (как пишут математики, а не программисты)\n",
    "\n",
    "![матричное произведение](http://acm.mipt.ru/twiki/pub/Cintro/PythonNumpy/matrix-multiply-a.svg)"
   ]
  },
  {
   "cell_type": "code",
   "execution_count": 17,
   "metadata": {},
   "outputs": [
    {
     "data": {
      "text/plain": [
       "array([[1, 2, 3],\n",
       "       [4, 5, 6]])"
      ]
     },
     "execution_count": 17,
     "metadata": {},
     "output_type": "execute_result"
    }
   ],
   "source": [
    "A = np.array([[1, 2, 3],\n",
    "              [4, 5, 6]])\n",
    "A"
   ]
  },
  {
   "cell_type": "code",
   "execution_count": 20,
   "metadata": {},
   "outputs": [
    {
     "data": {
      "text/plain": [
       "array([[1, 2],\n",
       "       [3, 4],\n",
       "       [5, 6]])"
      ]
     },
     "execution_count": 20,
     "metadata": {},
     "output_type": "execute_result"
    }
   ],
   "source": [
    "B = np.array([\n",
    "    [1, 2],\n",
    "    [3, 4],\n",
    "    [5, 6]\n",
    "])\n",
    "B"
   ]
  },
  {
   "cell_type": "markdown",
   "metadata": {},
   "source": [
    "Следите за порядком сомножителей.\n",
    "$$A \\cdot B \\ne B \\cdot A$$\n",
    "\n",
    "$A \\cdot B$ можно записать любым способом:\n",
    "* `np.dot(A, B)`\n",
    "* `A.dot(B)`"
   ]
  },
  {
   "cell_type": "code",
   "execution_count": 23,
   "metadata": {},
   "outputs": [
    {
     "data": {
      "text/plain": [
       "array([[22, 28],\n",
       "       [49, 64]])"
      ]
     },
     "execution_count": 23,
     "metadata": {},
     "output_type": "execute_result"
    }
   ],
   "source": [
    "np.dot(A,B)      # функция в пакете numpy"
   ]
  },
  {
   "cell_type": "code",
   "execution_count": 25,
   "metadata": {},
   "outputs": [
    {
     "data": {
      "text/plain": [
       "array([[22, 28],\n",
       "       [49, 64]])"
      ]
     },
     "execution_count": 25,
     "metadata": {},
     "output_type": "execute_result"
    }
   ],
   "source": [
    "A.dot(B)         # метод объекта   "
   ]
  },
  {
   "cell_type": "code",
   "execution_count": 26,
   "metadata": {},
   "outputs": [
    {
     "data": {
      "text/plain": [
       "array([[ 9, 12, 15],\n",
       "       [19, 26, 33],\n",
       "       [29, 40, 51]])"
      ]
     },
     "execution_count": 26,
     "metadata": {},
     "output_type": "execute_result"
    }
   ],
   "source": [
    "B.dot(A)         # B.dot(A)  != A.dot(B)"
   ]
  },
  {
   "cell_type": "markdown",
   "metadata": {},
   "source": [
    "## Операции линейной алгебры\n",
    "\n",
    "### Транспонированная матрица `A.T`\n",
    "\n",
    "$$\\begin{gather}\n",
    "\\begin{bmatrix}\n",
    "1 & 2 & 3\\\\\n",
    "4 & 5 & 6\n",
    "\\end{bmatrix}^T = \\begin{bmatrix}\n",
    "1 & 4\\\\\n",
    "2 & 5\\\\\n",
    "3 & 6\n",
    "\\end{bmatrix}\\end{gather}\n",
    "$$"
   ]
  },
  {
   "cell_type": "code",
   "execution_count": 27,
   "metadata": {},
   "outputs": [
    {
     "data": {
      "text/plain": [
       "array([[1, 4],\n",
       "       [2, 5],\n",
       "       [3, 6]])"
      ]
     },
     "execution_count": 27,
     "metadata": {},
     "output_type": "execute_result"
    }
   ],
   "source": [
    "A.T"
   ]
  },
  {
   "cell_type": "markdown",
   "metadata": {},
   "source": [
    "### Единичная матрица \n",
    "\n",
    "В единичной матрице на главной диагонали 1, а на остальных местах 0.\n",
    "\n",
    "Создаем единичную матрицу размера 2х2 функцией `e = np.eye(2)`\n",
    "\n",
    "$$\\begin{bmatrix}\n",
    "1 & 0\\\\\n",
    "0 & 1\n",
    "\\end{bmatrix}$$"
   ]
  },
  {
   "cell_type": "code",
   "execution_count": 29,
   "metadata": {},
   "outputs": [
    {
     "data": {
      "text/plain": [
       "array([[1., 0.],\n",
       "       [0., 1.]])"
      ]
     },
     "execution_count": 29,
     "metadata": {},
     "output_type": "execute_result"
    }
   ],
   "source": [
    "e = np.eye(2)\n",
    "e"
   ]
  },
  {
   "cell_type": "markdown",
   "metadata": {},
   "source": [
    "### Обратная матрица \n",
    "\n",
    "Определение (математика): E - единичная матрица. Квадратная матрица В называется обратной по отношению к матрице А того же размера, если $A\\cdot B = B \\cdot A = E$\n",
    "\n",
    "Обратная матрица для матрицы $А$ в линейной алгебре обозначается как $А^{-1}$\n",
    "\n",
    "Для вычисления обратной матрицы используют метод `inv` пакета `numpy.linalg`. В этой библиотеке еще есть функции `det` (вычисление детерминанта матрицы) и `solve` (решение матричных уравнений).\n",
    "\n",
    "Вычислим обратную матрицу для матрицы $$A = \\begin{bmatrix}\n",
    "1 & 2\\\\\n",
    "3 & 4\n",
    "\\end{bmatrix}$$"
   ]
  },
  {
   "cell_type": "code",
   "execution_count": 31,
   "metadata": {},
   "outputs": [
    {
     "data": {
      "text/plain": [
       "array([[1, 2],\n",
       "       [3, 4]])"
      ]
     },
     "execution_count": 31,
     "metadata": {},
     "output_type": "execute_result"
    }
   ],
   "source": [
    "A = np.array([\n",
    "    [1, 2],\n",
    "    [3, 4]\n",
    "])\n",
    "A"
   ]
  },
  {
   "cell_type": "code",
   "execution_count": 35,
   "metadata": {},
   "outputs": [
    {
     "name": "stdout",
     "output_type": "stream",
     "text": [
      "[[1 2]\n",
      " [3 4]]\n",
      "[[-2.   1. ]\n",
      " [ 1.5 -0.5]]\n"
     ]
    }
   ],
   "source": [
    "# очень длинная запись, полные имена\n",
    "import numpy as np\n",
    "a = np.array([[1, 2], [3,4]])\n",
    "print(a)\n",
    "ai = np.linalg.inv(a) # пишем полное имя функции с указанием библиотек, где она находится\n",
    "print(ai)"
   ]
  },
  {
   "cell_type": "code",
   "execution_count": 36,
   "metadata": {},
   "outputs": [
    {
     "name": "stdout",
     "output_type": "stream",
     "text": [
      "[[1 2]\n",
      " [3 4]]\n",
      "[[-2.   1. ]\n",
      " [ 1.5 -0.5]]\n"
     ]
    }
   ],
   "source": [
    "# короче, пакет импортируем\n",
    "import numpy as np\n",
    "import numpy.linalg as lg    # запоминаем библиотеку numpy.linalg под коротким именем lg\n",
    "a = np.array([[1, 2], [3,4]])\n",
    "print(a)\n",
    "\n",
    "ai = lg.inv(a)               # обращаемся к функции по короткому имени библиотеки\n",
    "print(ai)"
   ]
  },
  {
   "cell_type": "markdown",
   "metadata": {},
   "source": [
    "Совсем коротко: перечисляем имена функций, которые будем использовать из этого пакета"
   ]
  },
  {
   "cell_type": "code",
   "execution_count": 38,
   "metadata": {},
   "outputs": [
    {
     "name": "stdout",
     "output_type": "stream",
     "text": [
      "[[1 2]\n",
      " [3 4]]\n",
      "[[-2.   1. ]\n",
      " [ 1.5 -0.5]]\n"
     ]
    }
   ],
   "source": [
    "import numpy as np\n",
    "from numpy.linalg import inv, det, solve    # перечислили\n",
    "\n",
    "a = np.array([[1, 2], [3,4]])\n",
    "print(a)\n",
    "\n",
    "ai = inv(a)   # используем импортированное имя\n",
    "print(ai)"
   ]
  },
  {
   "cell_type": "markdown",
   "metadata": {},
   "source": [
    "### Детерминант матрицы"
   ]
  },
  {
   "cell_type": "code",
   "execution_count": 39,
   "metadata": {},
   "outputs": [
    {
     "name": "stdout",
     "output_type": "stream",
     "text": [
      "[[1 2]\n",
      " [3 4]]\n"
     ]
    },
    {
     "data": {
      "text/plain": [
       "-2.0000000000000004"
      ]
     },
     "execution_count": 39,
     "metadata": {},
     "output_type": "execute_result"
    }
   ],
   "source": [
    "import numpy as np\n",
    "from numpy.linalg import inv, det, solve    # перечислили\n",
    "\n",
    "a = np.array([[1, 2], [3,4]])\n",
    "print(a)\n",
    "np.linalg.det(a)"
   ]
  },
  {
   "cell_type": "markdown",
   "metadata": {},
   "source": [
    "### Ранг матрицы (в смысле линейной алгебры)\n",
    "Ранг матрицы - количество линейно независимых столбцов. (Их нельзя получить умножая на числа и складывая другие столбцы).\n",
    "\n",
    "По теореме о базисном миноре, ранг равен и количеству линейно независимых строк. Ранг матрицы может быть меньше размера матрицы.\n",
    "\n",
    "В numpy ранг матрицы вычисляется функцией `numpy.linalg.matrix_rank(a)`"
   ]
  },
  {
   "cell_type": "code",
   "execution_count": 40,
   "metadata": {},
   "outputs": [
    {
     "data": {
      "text/plain": [
       "2"
      ]
     },
     "execution_count": 40,
     "metadata": {},
     "output_type": "execute_result"
    }
   ],
   "source": [
    "a = ([[1, 2, 3], [4, 5, 6]])\n",
    "\n",
    "np.linalg.matrix_rank(a)"
   ]
  },
  {
   "cell_type": "code",
   "execution_count": 41,
   "metadata": {},
   "outputs": [
    {
     "data": {
      "text/plain": [
       "2"
      ]
     },
     "execution_count": 41,
     "metadata": {},
     "output_type": "execute_result"
    }
   ],
   "source": [
    "# последняя строка = первая * 2 + вторая строка (линейно зависимая)\n",
    "b = ([[1, 2, 3], [4, 5, 6], [6, 9, 12]])  \n",
    "np.linalg.matrix_rank(b)"
   ]
  },
  {
   "cell_type": "markdown",
   "metadata": {},
   "source": [
    "**Размер** матрицы определяется **переменной** **shape**. "
   ]
  },
  {
   "cell_type": "code",
   "execution_count": 71,
   "metadata": {},
   "outputs": [
    {
     "data": {
      "text/plain": [
       "(2, 3)"
      ]
     },
     "execution_count": 71,
     "metadata": {},
     "output_type": "execute_result"
    }
   ],
   "source": [
    "a = np.array([[1, 2, 3], [4, 5, 6]])\n",
    "a.shape"
   ]
  },
  {
   "cell_type": "markdown",
   "metadata": {},
   "source": [
    "## Обратные матрицы в решении линейных уравнений\n",
    "Пусть у нас есть уравнение $A \\cdot X = B$\n",
    "\n",
    "Домножим с ОДИНАКОВОЙ стороны правую и левую сторону на $A^{-1}$\n",
    "\n",
    "$A^{-1} \\cdot A \\cdot X = A^{-1} \\cdot B$\n",
    "\n",
    "По определению обратной матрицы $A^{-1} \\cdot A = E$ (единичная матрица)\n",
    "\n",
    "$ E \\cdot X = A^{-1}  \\cdot B$\n",
    "\n",
    "$ X = A^{-1}  \\cdot B$"
   ]
  },
  {
   "cell_type": "markdown",
   "metadata": {},
   "source": [
    "### Решение систем линейных уравнений\n",
    "\n",
    "Пусть дана система линейных уравнений \n",
    "\n",
    "\\begin{align*} \n",
    "2x - 5y &=  8 \\\\ \n",
    "3x + 9y &=  -12\n",
    "\\end{align*}\n",
    "\n",
    "Запишем ее в виде матричного уравнения $A\\cdot X = B$, где\n",
    "\n",
    "$A = \\begin{bmatrix}\n",
    "2 & -5\\\\\n",
    "3 & 9\n",
    "\\end{bmatrix}$\n",
    "\n",
    "$X = \\begin{bmatrix}\n",
    "x & y\n",
    "\\end{bmatrix}$\n",
    "\n",
    "$B = \\begin{bmatrix}\n",
    "8\\\\\n",
    "-12\n",
    "\\end{bmatrix}$\n",
    "\n",
    "Дальше можно решить как матричное уравнение. Или использовать функцию `linalg.solve(A, B)`"
   ]
  },
  {
   "cell_type": "code",
   "execution_count": 43,
   "metadata": {},
   "outputs": [
    {
     "data": {
      "text/plain": [
       "array([[ 2, -5],\n",
       "       [ 3,  9]])"
      ]
     },
     "execution_count": 43,
     "metadata": {},
     "output_type": "execute_result"
    }
   ],
   "source": [
    "A = np.array([[2, -5],[3, 9]])\n",
    "A"
   ]
  },
  {
   "cell_type": "code",
   "execution_count": 50,
   "metadata": {},
   "outputs": [
    {
     "data": {
      "text/plain": [
       "array([[  8],\n",
       "       [-12]])"
      ]
     },
     "execution_count": 50,
     "metadata": {},
     "output_type": "execute_result"
    }
   ],
   "source": [
    "B = np.array([[8], [-12]]) # или можете транспонировать\n",
    "B"
   ]
  },
  {
   "cell_type": "code",
   "execution_count": 53,
   "metadata": {},
   "outputs": [
    {
     "data": {
      "text/plain": [
       "array([[ 0.36363636],\n",
       "       [-1.45454545]])"
      ]
     },
     "execution_count": 53,
     "metadata": {},
     "output_type": "execute_result"
    }
   ],
   "source": [
    "# решим систему уравнений AX = B, найдем Х\n",
    "X = np.linalg.solve(A, B)\n",
    "X"
   ]
  },
  {
   "cell_type": "code",
   "execution_count": 54,
   "metadata": {},
   "outputs": [
    {
     "data": {
      "text/plain": [
       "True"
      ]
     },
     "execution_count": 54,
     "metadata": {},
     "output_type": "execute_result"
    }
   ],
   "source": [
    "# Проверим решение\n",
    "np.allclose(A.dot(X), B)"
   ]
  },
  {
   "cell_type": "markdown",
   "metadata": {},
   "source": [
    "## Чтение и запись матрицы в файл\n",
    "\n",
    "### Во внутреннем формате\n",
    "\n",
    "```\n",
    "np.save('my_array', a)\n",
    "np.savez('array.npz', a, b)\n",
    "a = np.load('my_array.npy')\n",
    "```\n",
    "\n",
    "### Из текстового или csv файла\n",
    "\n",
    "```\n",
    "a = np.loadtxt(\"myfile.txt\")\n",
    "b = np.genfromtxt(\"my_file.csv\", delimiter=',')\n",
    "np.savetxt(\"myarray.txt\", a, delimiter=\" \")\n",
    "```"
   ]
  },
  {
   "cell_type": "markdown",
   "metadata": {},
   "source": [
    "# numpy и 3D графики"
   ]
  },
  {
   "cell_type": "code",
   "execution_count": 63,
   "metadata": {},
   "outputs": [
    {
     "data": {
      "image/png": "[encoded data removed]",
      "text/plain": [
       "<Figure size 432x288 with 1 Axes>"
      ]
     },
     "metadata": {
      "needs_background": "light"
     },
     "output_type": "display_data"
    }
   ],
   "source": [
    "import matplotlib.pyplot as plt\n",
    "import numpy as np\n",
    "\n",
    "from mpl_toolkits.mplot3d import axes3d   # новый import\n",
    "ax = axes3d.Axes3D(plt.figure())          # создаем axes из figure\n",
    "\n",
    "xi = np.arange(-1, 1, 0.01)               # точки по оси Х\n",
    "yi = np.arange(-1, 1, 0.01)               # точки по оси Y\n",
    "X, Y = np.meshgrid(xi, yi)                # X, Y - узлы на сети \n",
    "Z = X**2 - Y**2                           # в каждой точке добавили z координату\n",
    "\n",
    "ax.plot_surface(X, Y, Z, rstride=10, cstride=10)   # заливка цветом\n",
    "\n",
    "plt.show()"
   ]
  },
  {
   "cell_type": "markdown",
   "metadata": {},
   "source": [
    "Посмотрим, как из векторов x и y получали набор точек с (x,y,z) координатами для 3D графика:\n",
    "```\n",
    "xi = np.arange(-1, 1, 0.01) # точки по оси Х\n",
    "yi = np.arange(-1, 1, 0.01) # точки по оси Y\n",
    "X, Y = np.meshgrid(xi, yi)  # X, Y - узлы на сети \n",
    "Z = X**2 - Y**2             # в каждой точке добавили z координату\n",
    "```\n",
    "Использовали **np.meshgrid(x,y)** - получили сетку узлов (матрицу)"
   ]
  },
  {
   "cell_type": "code",
   "execution_count": 62,
   "metadata": {},
   "outputs": [
    {
     "name": "stdout",
     "output_type": "stream",
     "text": [
      "Это Х\n",
      "[[1 2 3]\n",
      " [1 2 3]\n",
      " [1 2 3]\n",
      " [1 2 3]]\n",
      "Это Y\n",
      "[[10 10 10]\n",
      " [20 20 20]\n",
      " [30 30 30]\n",
      " [40 40 40]]\n",
      "Это Z\n",
      "[[  -99   -96   -91]\n",
      " [ -399  -396  -391]\n",
      " [ -899  -896  -891]\n",
      " [-1599 -1596 -1591]]\n"
     ]
    }
   ],
   "source": [
    "# посмотрим на точки\n",
    "x = [1, 2, 3]\n",
    "y = [10, 20, 30, 40]\n",
    "X, Y = np.meshgrid(x, y)\n",
    "Z = X**2 - Y**2\n",
    "\n",
    "# посмотрим значения X, Y, Z\n",
    "print('Это Х')\n",
    "print(X)\n",
    "print('Это Y')\n",
    "print(Y)\n",
    "print('Это Z')\n",
    "print(Z)"
   ]
  },
  {
   "cell_type": "markdown",
   "metadata": {},
   "source": [
    "## График параметрического уравнения\n",
    "Сфера задана уравнением\n",
    "$$x = cos(u) \\cdot cos(v)$$\n",
    "$$y = sin(u) \\cdot cos(v)$$\n",
    "$$z = sin(v)$$\n",
    "$u \\in [-\\pi, \\pi]$, $v \\in [-\\pi/2, \\pi/2]$"
   ]
  },
  {
   "cell_type": "code",
   "execution_count": 65,
   "metadata": {},
   "outputs": [
    {
     "data": {
      "image/png": "[encoded data removed]",
      "text/plain": [
       "<Figure size 432x288 with 1 Axes>"
      ]
     },
     "metadata": {
      "needs_background": "light"
     },
     "output_type": "display_data"
    }
   ],
   "source": [
    "from mpl_toolkits.mplot3d import Axes3D\n",
    "import matplotlib.pyplot as plt\n",
    "import numpy as np\n",
    "\n",
    "fig = plt.figure()\n",
    "ax = fig.add_subplot(111, projection='3d')\n",
    "\n",
    "u = np.linspace(-np.pi, np.pi, 100)\n",
    "v = np.linspace(-np.pi, np.pi, 100)\n",
    "\n",
    "x = 10 * np.outer(np.cos(u), np.sin(v))\n",
    "y = 10 * np.outer(np.sin(u), np.sin(v))\n",
    "z = 10 * np.outer(np.ones(np.size(u)), np.cos(v))\n",
    "ax.plot_surface(x, y, z, rstride=4, cstride=4, color='b')\n",
    "plt.show()"
   ]
  },
  {
   "cell_type": "code",
   "execution_count": 67,
   "metadata": {},
   "outputs": [
    {
     "data": {
      "text/plain": [
       "array([[ 10,  20,  30],\n",
       "       [ 20,  40,  60],\n",
       "       [ 30,  60,  90],\n",
       "       [ 40,  80, 120]])"
      ]
     },
     "execution_count": 67,
     "metadata": {},
     "output_type": "execute_result"
    }
   ],
   "source": [
    "a = [1, 2, 3, 4]\n",
    "b = [10, 20, 30]\n",
    "np.outer(a, b)"
   ]
  },
  {
   "cell_type": "markdown",
   "metadata": {},
   "source": [
    "# Функции и константы"
   ]
  },
  {
   "cell_type": "markdown",
   "metadata": {},
   "source": [
    "| Функция numpy | Что значит |\n",
    "|----|----|\n",
    "| np.pi\t| Число pi | \n",
    "| np.e\t| Число e |\n",
    "| np.cos\t| Косинус |\n",
    "| np.sin\t| Синус |\n",
    "| np.tan\t| Тангенс |\n",
    "| np.acos\t| Арккосинус |\n",
    "| np.asin\t| Арксинус |\n",
    "| np.atan\t| Арктангенс |\n",
    "| np.exp\t| Экспонента |\n",
    "| np.log\t| Логарифм натуральный |\n",
    "| np.log2\t| Логарифм по основанию 2 |\n",
    "| np.log10\t| Логарифм десятичный |\n",
    "| np.sqrt\t| x1/2 |"
   ]
  },
  {
   "cell_type": "code",
   "execution_count": null,
   "metadata": {},
   "outputs": [],
   "source": []
  }
 ],
 "metadata": {
  "kernelspec": {
   "display_name": "Python 3",
   "language": "python",
   "name": "python3"
  },
  "language_info": {
   "codemirror_mode": {
    "name": "ipython",
    "version": 3
   },
   "file_extension": ".py",
   "mimetype": "text/x-python",
   "name": "python",
   "nbconvert_exporter": "python",
   "pygments_lexer": "ipython3",
   "version": "3.7.6"
  }
 },
 "nbformat": 4,
 "nbformat_minor": 4
}
