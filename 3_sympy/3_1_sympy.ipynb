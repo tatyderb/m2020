{
 "cells": [
  {
   "cell_type": "markdown",
   "metadata": {},
   "source": [
    "# Sympy - symbolic python"
   ]
  },
  {
   "cell_type": "markdown",
   "metadata": {},
   "source": [
    "Раньше мы работали с числами. Ответ был число, или много чисел, или числа в виде графика.\n",
    "\n",
    "В sympy можно работать с формулами (выражениями из символов и чисел). Получать из одного выражения другое. Например, sympy может из $(a+b)^2$ получить $a^2 + 2ab + b^2$. Научимся это делать!\n",
    "\n",
    "[Tutorial](https://docs.sympy.org/latest/tutorial/index.html)"
   ]
  },
  {
   "cell_type": "markdown",
   "metadata": {},
   "source": [
    "## Import"
   ]
  },
  {
   "cell_type": "markdown",
   "metadata": {},
   "source": [
    "Перед работой нужно написать нужный import.\n",
    "\n",
    "Мы писали в numpy:\n",
    "```\n",
    "import numpy as np        # импорт пакета, обращаемся к нему как np\n",
    "x = np.linspace(0, 5, 10) # используем функцию linspace из numpy\n",
    "y = np.sin(x)             # используем функцию sin из numpy\n",
    "```\n",
    "\n",
    "Для работы с sympy можно написать:\n",
    "```\n",
    "import sympy        # импорт пакета, обращаемся к нему как sympy\n",
    "...\n",
    "y = sympy.sin(x)    # используем функцию sin из sympy\n",
    "```\n",
    "Если формула будет длинная, например, $z = sin(x)cos(y) + cos(x)sin(y)$, то писать везде sympy очень длинно. Трудно будет искать ошибку в формуле. Напишем короче.\n",
    "\n",
    "```\n",
    "import sympy as sp        # импорт пакета, обращаемся к нему как sp\n",
    "...\n",
    "y = sp.sin(x)             # используем функцию sin из sympy\n",
    "```\n",
    "`sp.` мешает читать меньше. Но мешает. Поэтому можно перечислить в import нужные функции и использовать их по имени:\n",
    "```\n",
    "from sympy import sin, cos, exp  # импорт функций из пакета\n",
    "...\n",
    "y = sin(x)             # используем функцию sin из sympy\n",
    "```"
   ]
  },
  {
   "cell_type": "markdown",
   "metadata": {},
   "source": [
    "### Способ для самых ленивых\n",
    "\n",
    "У нас будет много разных функций, поэтому не будем писать их через запятую, а напишем \"взять все функции\":\n",
    "```\n",
    "from sympy import *    # импорт **всех** функций и переменных из пакета\n",
    "...\n",
    "y = sin(x)             # используем функцию sin из sympy\n",
    "```"
   ]
  },
  {
   "cell_type": "markdown",
   "metadata": {},
   "source": [
    "### Проблемы\n",
    "\n",
    "Если у нас только пакет sympy, то можно писать `from sympy import * `.\n",
    "\n",
    "Если у нас в тетради math, numpy, sympy и другие пакеты, то могут быть проблемы. Не знаю, какую функцию использую, math.sin, numpy.sin, sympy.sin. Функция sin есть в каждом пакете. Я запуталась.\n",
    "```\n",
    "from math import *\n",
    "from numpy import *\n",
    "from sympy import *\n",
    "...\n",
    "y = sin(x)         # из какого пакета синус?\n",
    "```"
   ]
  },
  {
   "cell_type": "markdown",
   "metadata": {},
   "source": [
    "### Что делать?\n",
    "\n",
    "Поэтому `import *` используем только если 1 пакет sympy или пишем:\n",
    "```\n",
    "from sympy import *\n",
    "import numpy as np\n",
    "...\n",
    "y = sin(x)      # sympy.sin\n",
    "Y = np.sin(X)   # numpy.sin\n",
    "```\n",
    "Сейчас будем учить только sympy, поэтому напишем \"ленивый\" import:"
   ]
  },
  {
   "cell_type": "code",
   "execution_count": 1,
   "metadata": {},
   "outputs": [],
   "source": [
    "from sympy import *"
   ]
  },
  {
   "cell_type": "markdown",
   "metadata": {},
   "source": [
    "## Печатать красиво\n",
    "\n",
    "Удобнее, когда формулы пишутся, как у математиков, а не как у программистов $\\sqrt(2)$, а не `sqrt(2)`. \n",
    "\n",
    "Проверьте, что следующая строка у вас показывает $\\sqrt(2)$. Иначе читайте в [старых материала](http://acm.mipt.ru/twiki/pub/Cintro/MyanmarCourse/sympy.pdf) как настраивать красивую печать."
   ]
  },
  {
   "cell_type": "code",
   "execution_count": 2,
   "metadata": {},
   "outputs": [
    {
     "data": {
      "text/latex": [
       "$\\displaystyle \\sqrt{2}$"
      ],
      "text/plain": [
       "sqrt(2)"
      ]
     },
     "execution_count": 2,
     "metadata": {},
     "output_type": "execute_result"
    }
   ],
   "source": [
    "sqrt(2)"
   ]
  },
  {
   "cell_type": "markdown",
   "metadata": {},
   "source": [
    "## Числа в sympy"
   ]
  },
  {
   "cell_type": "markdown",
   "metadata": {},
   "source": [
    "В python числа типа `int` и `float`."
   ]
  },
  {
   "cell_type": "code",
   "execution_count": 3,
   "metadata": {},
   "outputs": [
    {
     "name": "stdout",
     "output_type": "stream",
     "text": [
      "7 <class 'int'> 2.3333333333333335 2 1\n",
      "3.14 <class 'float'>\n"
     ]
    }
   ],
   "source": [
    "print(7, type(7), 7/3, 7//3, 7%3)\n",
    "print(3.14, type(3.14))"
   ]
  },
  {
   "cell_type": "markdown",
   "metadata": {},
   "source": [
    "# Вычисления не точные, есть погрешность.\n",
    "\n",
    "1/3 + 2/3 = 1\n",
    "\n",
    "Как считает python?"
   ]
  },
  {
   "cell_type": "code",
   "execution_count": 4,
   "metadata": {},
   "outputs": [
    {
     "data": {
      "text/plain": [
       "1.0"
      ]
     },
     "execution_count": 4,
     "metadata": {},
     "output_type": "execute_result"
    }
   ],
   "source": [
    "1/3 + 2/3"
   ]
  },
  {
   "cell_type": "markdown",
   "metadata": {},
   "source": [
    "Для вычислений используются функции пакета `math`. В нем не всегда точно. Ошибка накапливается, если много вычислений."
   ]
  },
  {
   "cell_type": "code",
   "execution_count": 5,
   "metadata": {},
   "outputs": [
    {
     "name": "stdout",
     "output_type": "stream",
     "text": [
      "3.0\n",
      "2.8284271247461903\n"
     ]
    }
   ],
   "source": [
    "import math\n",
    "print(math.sqrt(9))   # точно?\n",
    "print(math.sqrt(8))   # не точно"
   ]
  },
  {
   "cell_type": "markdown",
   "metadata": {},
   "source": [
    "sympy запоминает, что это корень из 3 или может упростить:"
   ]
  },
  {
   "cell_type": "code",
   "execution_count": 6,
   "metadata": {},
   "outputs": [
    {
     "data": {
      "text/latex": [
       "$\\displaystyle \\sqrt{3}$"
      ],
      "text/plain": [
       "sqrt(3)"
      ]
     },
     "execution_count": 6,
     "metadata": {},
     "output_type": "execute_result"
    }
   ],
   "source": [
    "sqrt(3)"
   ]
  },
  {
   "cell_type": "code",
   "execution_count": 7,
   "metadata": {},
   "outputs": [
    {
     "data": {
      "text/latex": [
       "$\\displaystyle 2 \\sqrt{2}$"
      ],
      "text/plain": [
       "2*sqrt(2)"
      ]
     },
     "execution_count": 7,
     "metadata": {},
     "output_type": "execute_result"
    }
   ],
   "source": [
    "sqrt(8)"
   ]
  },
  {
   "cell_type": "markdown",
   "metadata": {},
   "source": [
    "### Определим дробь Rational"
   ]
  },
  {
   "cell_type": "code",
   "execution_count": 8,
   "metadata": {},
   "outputs": [
    {
     "data": {
      "text/latex": [
       "$\\displaystyle \\frac{1}{3}$"
      ],
      "text/plain": [
       "1/3"
      ]
     },
     "execution_count": 8,
     "metadata": {},
     "output_type": "execute_result"
    }
   ],
   "source": [
    "a = Rational(1, 3)\n",
    "a"
   ]
  },
  {
   "cell_type": "code",
   "execution_count": 9,
   "metadata": {},
   "outputs": [
    {
     "data": {
      "text/latex": [
       "$\\displaystyle \\frac{2}{3}$"
      ],
      "text/plain": [
       "2/3"
      ]
     },
     "execution_count": 9,
     "metadata": {},
     "output_type": "execute_result"
    }
   ],
   "source": [
    "b = Rational(2, 3)\n",
    "b"
   ]
  },
  {
   "cell_type": "code",
   "execution_count": 10,
   "metadata": {},
   "outputs": [
    {
     "data": {
      "text/latex": [
       "$\\displaystyle 1$"
      ],
      "text/plain": [
       "1"
      ]
     },
     "execution_count": 10,
     "metadata": {},
     "output_type": "execute_result"
    }
   ],
   "source": [
    "a+b"
   ]
  },
  {
   "cell_type": "markdown",
   "metadata": {},
   "source": [
    "## Математические константы"
   ]
  },
  {
   "cell_type": "markdown",
   "metadata": {},
   "source": [
    "Математические константы $\\pi$ и другие в разных пакетах тоже разные. Нужно использовать константы из sympy.\n",
    "\n",
    "| Выражение | Математика |\n",
    "|----|----|\n",
    "| `pi` | $\\pi$ |\n",
    "| `E` | $e$ экспонента |\n",
    "| `I` | $\\sqrt{-1}$, мнимая единица |\n",
    "| `oo` | $\\infty$, бесконечность |"
   ]
  },
  {
   "cell_type": "markdown",
   "metadata": {},
   "source": [
    "## Символы"
   ]
  },
  {
   "cell_type": "markdown",
   "metadata": {},
   "source": [
    "Хочу написать выражение $(x+y)^2$ и запомнить *выражение* в переменную `q`.\n",
    "\n",
    "`q = выражение` работает хорошо.\n",
    "\n",
    "`(x+y)**2` не работает! (Ниже должна быть ошибка)"
   ]
  },
  {
   "cell_type": "code",
   "execution_count": 12,
   "metadata": {},
   "outputs": [],
   "source": [
    "# (x + y)**2"
   ]
  },
  {
   "cell_type": "markdown",
   "metadata": {},
   "source": [
    "**Надо сначала сделать СИМВОЛЫ `x` и `y`**\n",
    "\n",
    "Создаем символы:\n",
    "\n",
    "* `x = Symbol('x')` - создаем 1 символ, `Symbol` пишем с большой буквы S\n",
    "* `x, y = symbols('x y')` - создаем 1 или *много* символов. `symbols` пишем с маленькой буквы s, не забываем s в конце: **s**ymbol**s**.\n",
    "\n",
    "Надо:\n",
    "\n",
    "* лучше использовать всегда `symbols`\n",
    "* Не создавать `I, E, S, N, C, O, Q` - они уже имеют специальное значение, например`I` = $\\sqrt{-1}$\n",
    "* не создавать переменную `exp` - это имя функции `sympy.exp` (экспонента)"
   ]
  },
  {
   "cell_type": "markdown",
   "metadata": {},
   "source": [
    "Имя переменной для символа не обязательно должно с его написанием в формулах. Имя `t`, написание в формуле *time*:"
   ]
  },
  {
   "cell_type": "code",
   "execution_count": 13,
   "metadata": {},
   "outputs": [
    {
     "data": {
      "text/latex": [
       "$\\displaystyle \\frac{distance}{time}$"
      ],
      "text/plain": [
       "distance/time"
      ]
     },
     "execution_count": 13,
     "metadata": {},
     "output_type": "execute_result"
    }
   ],
   "source": [
    "s, v, t = symbols('distance velocity time')\n",
    "v = s/t\n",
    "v"
   ]
  },
  {
   "cell_type": "markdown",
   "metadata": {},
   "source": [
    "### subs - подстановка чисел в формулу, n - вычисление числа"
   ]
  },
  {
   "cell_type": "markdown",
   "metadata": {},
   "source": [
    "* **subs** (от слова substitution) для подстановки \n",
    "* **n** (от слова numeric) для вычисления чисала (приближенно)"
   ]
  },
  {
   "cell_type": "code",
   "execution_count": 14,
   "metadata": {},
   "outputs": [
    {
     "name": "stdout",
     "output_type": "stream",
     "text": [
      "distance/time\n"
     ]
    },
    {
     "data": {
      "text/latex": [
       "$\\displaystyle 40$"
      ],
      "text/plain": [
       "40"
      ]
     },
     "execution_count": 14,
     "metadata": {},
     "output_type": "execute_result"
    }
   ],
   "source": [
    "s, v, t = symbols('distance velocity time')\n",
    "v = s/t\n",
    "print(v)\n",
    "v.subs({s:80, t:2})"
   ]
  },
  {
   "cell_type": "code",
   "execution_count": 15,
   "metadata": {},
   "outputs": [
    {
     "data": {
      "text/latex": [
       "$\\displaystyle \\sqrt{2}$"
      ],
      "text/plain": [
       "sqrt(2)"
      ]
     },
     "execution_count": 15,
     "metadata": {},
     "output_type": "execute_result"
    }
   ],
   "source": [
    "sqrt(2)   # храним как корень квадратный из 2"
   ]
  },
  {
   "cell_type": "code",
   "execution_count": 16,
   "metadata": {},
   "outputs": [
    {
     "data": {
      "text/latex": [
       "$\\displaystyle 1.4142135623731$"
      ],
      "text/plain": [
       "1.41421356237310"
      ]
     },
     "execution_count": 16,
     "metadata": {},
     "output_type": "execute_result"
    }
   ],
   "source": [
    "sqrt(2).n() # вычислить число"
   ]
  },
  {
   "cell_type": "markdown",
   "metadata": {},
   "source": [
    "### Так делать нельзя (это НЕ подстановка чисел):\n",
    "Так можно \"испортить\" `s` и `t`, но `v` будет по-прежнему *distance/time* "
   ]
  },
  {
   "cell_type": "code",
   "execution_count": 17,
   "metadata": {},
   "outputs": [
    {
     "name": "stdout",
     "output_type": "stream",
     "text": [
      "80 2 distance/time\n"
     ]
    }
   ],
   "source": [
    "s = 80         # в переменной s теперь не символ, а число 80\n",
    "t = 2          # в переменной t теперь не символ, а число 2\n",
    "print(s, t, v) # v по-прежнему distance/time"
   ]
  },
  {
   "cell_type": "markdown",
   "metadata": {},
   "source": [
    "## Выражения"
   ]
  },
  {
   "cell_type": "markdown",
   "metadata": {},
   "source": [
    "Если есть символы, из них можно составить выражения. Выражения можно запомнить в переменных.\n",
    "Создадим символы x и y. Запишем выражения ex1, ex2, ex3."
   ]
  },
  {
   "cell_type": "code",
   "execution_count": 18,
   "metadata": {},
   "outputs": [
    {
     "data": {
      "text/latex": [
       "$\\displaystyle x^{2} + 3 x + 1$"
      ],
      "text/plain": [
       "x**2 + 3*x + 1"
      ]
     },
     "execution_count": 18,
     "metadata": {},
     "output_type": "execute_result"
    }
   ],
   "source": [
    "x, y = symbols(\"x y\")  # можно через пробел\n",
    "a, b = symbols('a, b') # можно через запятую\n",
    "ex1 = x**2 + 3*x + 1\n",
    "ex1"
   ]
  },
  {
   "cell_type": "code",
   "execution_count": 19,
   "metadata": {},
   "outputs": [
    {
     "data": {
      "text/latex": [
       "$\\displaystyle x^{2} + 3 x + \\sin{\\left(y \\right)} + 1$"
      ],
      "text/plain": [
       "x**2 + 3*x + sin(y) + 1"
      ]
     },
     "execution_count": 19,
     "metadata": {},
     "output_type": "execute_result"
    }
   ],
   "source": [
    "ex2 = ex1 + sin(y)\n",
    "ex2"
   ]
  },
  {
   "cell_type": "markdown",
   "metadata": {},
   "source": [
    "## Математические фукции "
   ]
  },
  {
   "cell_type": "markdown",
   "metadata": {},
   "source": [
    "| sympy | математика |\n",
    "|:----|:----|\n",
    "| `sqrt(x)` | $\\sqrt(x)$ |\n",
    "| `root(3, 8)` | $\\sqrt[3]{8}$ |\n",
    "| `root(3, x)` | $\\sqrt[3]{x}$ |\n",
    "| `x**Rational(1,3)` | ${x}^{1/3}$ |\n",
    "| `factorial(n)` | $n!$ |\n",
    "| `sin(x)`, `cos(x)`, `tan(x)`, `cot(x)` | синус, косинус, тангенс, котангенс | \n",
    "| `log(x)` | $\\ln(x)$ |\n",
    "| `log(x, b)` | $\\log_{b}(x)$ |\n"
   ]
  },
  {
   "cell_type": "markdown",
   "metadata": {},
   "source": [
    "## Упростить выражение"
   ]
  },
  {
   "cell_type": "markdown",
   "metadata": {},
   "source": [
    "**simplify** - sympy пробует упростить как-нибудь (общий способ).\n",
    "\n",
    "Можно указать как конкретно вы хотите упростить."
   ]
  },
  {
   "cell_type": "markdown",
   "metadata": {},
   "source": [
    "### simplify: $sin(x)^2 + cos(x)^2 = 1$\n",
    "\n",
    "Упростить выражение"
   ]
  },
  {
   "cell_type": "code",
   "execution_count": 20,
   "metadata": {},
   "outputs": [
    {
     "data": {
      "text/latex": [
       "$\\displaystyle 1$"
      ],
      "text/plain": [
       "1"
      ]
     },
     "execution_count": 20,
     "metadata": {},
     "output_type": "execute_result"
    }
   ],
   "source": [
    "simplify(sin(x)**2 + cos(x)**2)"
   ]
  },
  {
   "cell_type": "code",
   "execution_count": null,
   "metadata": {},
   "outputs": [],
   "source": []
  },
  {
   "cell_type": "markdown",
   "metadata": {},
   "source": [
    "### expand $x(x + 2y) = x^2 + 2xy$\n",
    "\n",
    "Раскрыть скобки"
   ]
  },
  {
   "cell_type": "code",
   "execution_count": 21,
   "metadata": {},
   "outputs": [
    {
     "data": {
      "text/latex": [
       "$\\displaystyle x^{2} + 2 x y$"
      ],
      "text/plain": [
       "x**2 + 2*x*y"
      ]
     },
     "execution_count": 21,
     "metadata": {},
     "output_type": "execute_result"
    }
   ],
   "source": [
    "expand(x*(x + 2*y))"
   ]
  },
  {
   "cell_type": "markdown",
   "metadata": {},
   "source": [
    "### factor $x^2 + 2xy = x(x + 2y)$\n",
    "\n",
    "Вынести за скобку"
   ]
  },
  {
   "cell_type": "code",
   "execution_count": 22,
   "metadata": {},
   "outputs": [
    {
     "data": {
      "text/latex": [
       "$\\displaystyle x \\left(x + 2 y\\right)$"
      ],
      "text/plain": [
       "x*(x + 2*y)"
      ]
     },
     "execution_count": 22,
     "metadata": {},
     "output_type": "execute_result"
    }
   ],
   "source": [
    "factor(x**2 + 2*x*y)"
   ]
  },
  {
   "cell_type": "markdown",
   "metadata": {},
   "source": [
    "### collect (выражение, x) - полином по х"
   ]
  },
  {
   "cell_type": "code",
   "execution_count": 23,
   "metadata": {},
   "outputs": [
    {
     "data": {
      "text/latex": [
       "$\\displaystyle a b + x^{2} + x \\left(a + b\\right)$"
      ],
      "text/plain": [
       "a*b + x**2 + x*(a + b)"
      ]
     },
     "execution_count": 23,
     "metadata": {},
     "output_type": "execute_result"
    }
   ],
   "source": [
    "collect(x**2 + x*b + a*x + a*b, x)"
   ]
  },
  {
   "cell_type": "markdown",
   "metadata": {},
   "source": [
    "### apart $ \\frac{1}{x^2 +3x +2} = - \\frac{1}{x + 2} + \\frac{1}{x + 1}$"
   ]
  },
  {
   "cell_type": "code",
   "execution_count": 24,
   "metadata": {},
   "outputs": [
    {
     "data": {
      "text/latex": [
       "$\\displaystyle - \\frac{1}{x + 2} + \\frac{1}{x + 1}$"
      ],
      "text/plain": [
       "-1/(x + 2) + 1/(x + 1)"
      ]
     },
     "execution_count": 24,
     "metadata": {},
     "output_type": "execute_result"
    }
   ],
   "source": [
    "apart(1/(x**2 +3*x +2))"
   ]
  },
  {
   "cell_type": "markdown",
   "metadata": {},
   "source": [
    "### together $ - \\frac{1}{xy + y} + \\frac{1}{x + 1} = \\frac{y+1}{y(x+1)}$\n",
    "\n",
    "Привести к общему знаменателю"
   ]
  },
  {
   "cell_type": "code",
   "execution_count": 25,
   "metadata": {},
   "outputs": [
    {
     "data": {
      "text/latex": [
       "$\\displaystyle \\frac{y + 1}{y \\left(x + 1\\right)}$"
      ],
      "text/plain": [
       "(y + 1)/(y*(x + 1))"
      ]
     },
     "execution_count": 25,
     "metadata": {},
     "output_type": "execute_result"
    }
   ],
   "source": [
    "together(1/(y*x+y) + 1/(x+1))"
   ]
  },
  {
   "cell_type": "markdown",
   "metadata": {},
   "source": [
    "### cancel $\\frac{y}{xy+y} = \\frac{1}{x+1}$  \n",
    "\n",
    "Сократить дробь"
   ]
  },
  {
   "cell_type": "code",
   "execution_count": 26,
   "metadata": {},
   "outputs": [
    {
     "data": {
      "text/latex": [
       "$\\displaystyle \\frac{1}{x + 1}$"
      ],
      "text/plain": [
       "1/(x + 1)"
      ]
     },
     "execution_count": 26,
     "metadata": {},
     "output_type": "execute_result"
    }
   ],
   "source": [
    "cancel(y/(x*y + y))"
   ]
  },
  {
   "cell_type": "markdown",
   "metadata": {},
   "source": [
    "### expand_trig $sin(x + y) = sin(x)cos(y) + sin(y)cos(x)$"
   ]
  },
  {
   "cell_type": "code",
   "execution_count": 27,
   "metadata": {},
   "outputs": [
    {
     "data": {
      "text/latex": [
       "$\\displaystyle \\sin{\\left(x \\right)} \\cos{\\left(y \\right)} + \\sin{\\left(y \\right)} \\cos{\\left(x \\right)}$"
      ],
      "text/plain": [
       "sin(x)*cos(y) + sin(y)*cos(x)"
      ]
     },
     "execution_count": 27,
     "metadata": {},
     "output_type": "execute_result"
    }
   ],
   "source": [
    "expand_trig(sin(x + y))"
   ]
  },
  {
   "cell_type": "markdown",
   "metadata": {},
   "source": [
    "### trigsimp $sin(x)cos(y) + sin(y)cos(x) = sin(x + y)$"
   ]
  },
  {
   "cell_type": "code",
   "execution_count": 28,
   "metadata": {},
   "outputs": [
    {
     "data": {
      "text/latex": [
       "$\\displaystyle \\sin{\\left(x + y \\right)}$"
      ],
      "text/plain": [
       "sin(x + y)"
      ]
     },
     "execution_count": 28,
     "metadata": {},
     "output_type": "execute_result"
    }
   ],
   "source": [
    "trigsimp(sin(x)*cos(y) + sin(y)*cos(x))"
   ]
  },
  {
   "cell_type": "code",
   "execution_count": null,
   "metadata": {},
   "outputs": [],
   "source": []
  }
 ],
 "metadata": {
  "kernelspec": {
   "display_name": "Python 3",
   "language": "python",
   "name": "python3"
  },
  "language_info": {
   "codemirror_mode": {
    "name": "ipython",
    "version": 3
   },
   "file_extension": ".py",
   "mimetype": "text/x-python",
   "name": "python",
   "nbconvert_exporter": "python",
   "pygments_lexer": "ipython3",
   "version": "3.7.6"
  }
 },
 "nbformat": 4,
 "nbformat_minor": 4
}
