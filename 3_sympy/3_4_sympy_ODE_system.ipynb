{
 "cells": [
  {
   "cell_type": "markdown",
   "metadata": {},
   "source": [
    "Решим систему ОДУ \n",
    "$$\n",
    "x' = 2x+y \\\\\n",
    "y' = 3x + 4y\n",
    "$$"
   ]
  },
  {
   "cell_type": "code",
   "execution_count": 7,
   "metadata": {},
   "outputs": [],
   "source": [
    "from sympy import *\n",
    "init_printing()       # нужно, чтобы eqs писали в \"математическом\", а не \"программистком\" виде"
   ]
  },
  {
   "cell_type": "code",
   "execution_count": 8,
   "metadata": {},
   "outputs": [],
   "source": [
    "# объявляем переменные и функции\n",
    "t = symbols('t')\n",
    "x = Function('x')(t)\n",
    "y = Function('y')(t)"
   ]
  },
  {
   "cell_type": "code",
   "execution_count": 9,
   "metadata": {},
   "outputs": [
    {
     "data": {
      "image/png": "[encoded data removed]",
      "text/latex": [
       "$\\displaystyle \\left[ \\frac{d}{d t} x{\\left(t \\right)} = 2 x{\\left(t \\right)} + y{\\left(t \\right)}, \\  \\frac{d}{d t} y{\\left(t \\right)} = 3 x{\\left(t \\right)} + 4 y{\\left(t \\right)}\\right]$"
      ],
      "text/plain": [
       "⎡d                         d                         ⎤\n",
       "⎢──(x(t)) = 2⋅x(t) + y(t), ──(y(t)) = 3⋅x(t) + 4⋅y(t)⎥\n",
       "⎣dt                        dt                        ⎦"
      ]
     },
     "execution_count": 9,
     "metadata": {},
     "output_type": "execute_result"
    }
   ],
   "source": [
    "# записываем уравнения и проверяем правильно ли мы записали\n",
    "eq1 = Eq(x.diff(), 2*x + y)\n",
    "eq2 = Eq(y.diff(), 3*x + 4*y)\n",
    "eqs = [eq1, eq2]\n",
    "eqs"
   ]
  },
  {
   "cell_type": "code",
   "execution_count": 10,
   "metadata": {},
   "outputs": [
    {
     "data": {
      "image/png": "[encoded data removed]",
      "text/latex": [
       "$\\displaystyle \\left[ x{\\left(t \\right)} = C_{1} e^{5 t} + C_{2} e^{t}, \\  y{\\left(t \\right)} = 3 C_{1} e^{5 t} - C_{2} e^{t}\\right]$"
      ],
      "text/plain": [
       "⎡           5⋅t       t               5⋅t       t⎤\n",
       "⎣x(t) = C₁⋅ℯ    + C₂⋅ℯ , y(t) = 3⋅C₁⋅ℯ    - C₂⋅ℯ ⎦"
      ]
     },
     "execution_count": 10,
     "metadata": {},
     "output_type": "execute_result"
    }
   ],
   "source": [
    "# решаем систему ОДЕ относительно t, получаем решение\n",
    "sol = dsolve((eq1, eq2))\n",
    "sol"
   ]
  },
  {
   "cell_type": "code",
   "execution_count": null,
   "metadata": {
    "collapsed": true
   },
   "outputs": [],
   "source": []
  }
 ],
 "metadata": {
  "kernelspec": {
   "display_name": "Python 3",
   "language": "python",
   "name": "python3"
  },
  "language_info": {
   "codemirror_mode": {
    "name": "ipython",
    "version": 3
   },
   "file_extension": ".py",
   "mimetype": "text/x-python",
   "name": "python",
   "nbconvert_exporter": "python",
   "pygments_lexer": "ipython3",
   "version": "3.7.6"
  }
 },
 "nbformat": 4,
 "nbformat_minor": 1
}
