{
 "cells": [
  {
   "cell_type": "markdown",
   "metadata": {},
   "source": [
    "# Домашняя работа по решению ОДУ"
   ]
  },
  {
   "cell_type": "markdown",
   "metadata": {},
   "source": [
    "## Решить уравнение"
   ]
  },
  {
   "cell_type": "markdown",
   "metadata": {},
   "source": [
    "$$y'' - 6 y' + 8y = 0$$\n",
    "Ответ: $$y{\\left(x \\right)} = \\left(C_{1} + C_{2} e^{2 x}\\right) e^{2 x}$$"
   ]
  },
  {
   "cell_type": "markdown",
   "metadata": {},
   "source": []
  },
  {
   "cell_type": "markdown",
   "metadata": {},
   "source": [
    "## Решить уравнение с граничными условиями"
   ]
  },
  {
   "cell_type": "markdown",
   "metadata": {},
   "source": [
    "$4 y'' + y = 0 $ при $y(0) = 3$ и $y(\\pi) = -4$\n",
    "\n",
    "Ответ: $ - 4 \\sin{\\left(\\frac{x}{2} \\right)} + 3 \\cos{\\left(\\frac{x}{2} \\right)}$"
   ]
  },
  {
   "cell_type": "code",
   "execution_count": null,
   "metadata": {},
   "outputs": [],
   "source": []
  }
 ],
 "metadata": {
  "kernelspec": {
   "display_name": "Python 3",
   "language": "python",
   "name": "python3"
  },
  "language_info": {
   "codemirror_mode": {
    "name": "ipython",
    "version": 3
   },
   "file_extension": ".py",
   "mimetype": "text/x-python",
   "name": "python",
   "nbconvert_exporter": "python",
   "pygments_lexer": "ipython3",
   "version": "3.7.6"
  }
 },
 "nbformat": 4,
 "nbformat_minor": 4
}
